{
 "cells": [
  {
   "cell_type": "markdown",
   "metadata": {},
   "source": [
    "# Forecasting error as a function of train/test set size"
   ]
  },
  {
   "cell_type": "code",
   "execution_count": null,
   "metadata": {},
   "outputs": [],
   "source": [
    "%load_ext autoreload\n",
    "%autoreload 2"
   ]
  },
  {
   "cell_type": "code",
   "execution_count": null,
   "metadata": {},
   "outputs": [],
   "source": [
    "!which python"
   ]
  },
  {
   "cell_type": "code",
   "execution_count": 3,
   "metadata": {},
   "outputs": [],
   "source": [
    "import sys\n",
    "sys.path.append('../src')"
   ]
  },
  {
   "cell_type": "code",
   "execution_count": 57,
   "metadata": {},
   "outputs": [],
   "source": [
    "from darts import TimeSeries\n",
    "import pandas as pd\n",
    "from definitions import TARGETS\n",
    "import matplotlib.pyplot as plt\n",
    "import torch \n",
    "torch.cuda.empty_cache()\n",
    "MEAS_COLUMNS = [\n",
    "    \"TI-19\",\n",
    "#      \"FI-16\",\n",
    "#     \"TI-33\",\n",
    "#     \"FI-2\",\n",
    "#     \"FI-151\",\n",
    "#     \"TI-8\",\n",
    "#     \"FI-241\",\n",
    "#  \"valve-position-12\",  # dry-bed\n",
    "#     \"FI-38\",  # strippera\n",
    "#     \"PI-28\",  # stripper\n",
    "    \n",
    "#     \"TI-28\",  # stripper\n",
    "#      \"FI-20\",\n",
    "#     \"FI-30\",\n",
    "    \"TI-3\",\n",
    "    \"FI-19\",\n",
    "#     \"FI-211\",\n",
    "    \"FI-11\",\n",
    "#     \"TI-30\",\n",
    "#     \"PI-30\",\n",
    "    \"TI-1213\",\n",
    "#     \"TI-4\",\n",
    "#     \"FI-23\",\n",
    "#     \"FI-20\",\n",
    "#     \"FI-20/FI-23\",\n",
    "#    \"TI-22\",\n",
    "    \"delta_t\",\n",
    "    \"TI-35\",\n",
    "    \"delta_t_2\"\n",
    "]\n",
    "\n",
    "TARGETS_clean = ['2-Amino-2-methylpropanol C4H11NO', 'Piperazine C4H10N2', \n",
    "                 \"Carbon dioxide CO2\", \"Ammonia NH3\"]\n",
    "\n",
    "TARGETS_clean = [\"Carbon dioxide CO2\", \"Ammonia NH3\"]\n"
   ]
  },
  {
   "cell_type": "code",
   "execution_count": 58,
   "metadata": {},
   "outputs": [],
   "source": [
    "from pyprocessta.model.tcn import transform_data, run_model, parallelized_inference\n",
    "from pyprocessta.preprocess.resample import resample_regular"
   ]
  },
  {
   "cell_type": "code",
   "execution_count": 59,
   "metadata": {},
   "outputs": [],
   "source": [
    "import matplotlib.pyplot as plt\n",
    "plt.style.reload_library()\n",
    "plt.style.use('science')\n",
    "from matplotlib import rcParams\n",
    "rcParams['font.family'] = 'sans-serif'"
   ]
  },
  {
   "cell_type": "code",
   "execution_count": 60,
   "metadata": {},
   "outputs": [],
   "source": [
    "df = pd.read_pickle('20210624_df_cleaned.pkl')"
   ]
  },
  {
   "cell_type": "code",
   "execution_count": 61,
   "metadata": {},
   "outputs": [
    {
     "data": {
      "text/plain": [
       "Index(['Carbon dioxide CO2', 'Ammonia NH3', '2-Amino-2-methylpropanol C4H11NO',\n",
       "       'Piperazine C4H10N2', 'PI-2', 'TI-2', 'FI-2', 'PI-3', 'TI-3', 'CO2-3',\n",
       "       'O2-3', 'TI-32', 'TI-33', 'TI-34', 'TI-35', 'PI-4', 'TI-4', 'FI-4',\n",
       "       'CO2-4', 'NH3-4', 'FI-11', 'TI-12', 'TI-13', 'FI-20', 'FI-211',\n",
       "       'TI-211', 'TI-8', 'TI-9', 'TI-5', 'TI-7', 'TI-28', 'PI-28', 'PI-30',\n",
       "       'TI-30', 'FI-30', 'FI-38', 'PI-38', 'FI-36', 'TI-36', 'Reboiler duty',\n",
       "       'FI-19', 'TI-19', 'PI-1', 'TI-1', 'FI-35', 'TI-39', 'FI-23', 'TI-22',\n",
       "       'Level Desorber', 'Level Reboiler', 'TI-24', 'TI-25', 'FI-25', 'FI-16',\n",
       "       'TI-16', 'FI-151', 'TI-151', 'TI-152', 'TI-212', 'FI-241', 'TI-241',\n",
       "       'TI-242', 'valve-position-12', 'TI-1213', 'delta_t', 'delta_t_2',\n",
       "       'FI-20/FI-23'],\n",
       "      dtype='object')"
      ]
     },
     "execution_count": 61,
     "metadata": {},
     "output_type": "execute_result"
    }
   ],
   "source": [
    "df.columns"
   ]
  },
  {
   "cell_type": "code",
   "execution_count": 62,
   "metadata": {},
   "outputs": [],
   "source": [
    "y = TimeSeries.from_dataframe(df, value_cols=TARGETS_clean)\n",
    "x = TimeSeries.from_dataframe(df, value_cols=MEAS_COLUMNS)"
   ]
  },
  {
   "cell_type": "code",
   "execution_count": 10,
   "metadata": {},
   "outputs": [],
   "source": [
    "def choose_index(series, fraction): \n",
    "    timestamps = series.time_index()\n",
    "    fraction_index = int(len(timestamps) * fraction)\n",
    "    \n",
    "    return timestamps[fraction_index]"
   ]
  },
  {
   "cell_type": "code",
   "execution_count": 11,
   "metadata": {},
   "outputs": [],
   "source": [
    "def split_data(x, y, fraction):\n",
    "    ts = choose_index(x, fraction)\n",
    "    x_before, x_after = x.split_before(ts)\n",
    "    y_before, y_after = y.split_before(ts)\n",
    "    \n",
    "    return (x_before, y_before[TARGETS_clean]), (x_after, y_after[TARGETS_clean])"
   ]
  },
  {
   "cell_type": "code",
   "execution_count": 12,
   "metadata": {},
   "outputs": [],
   "source": [
    "before, after  = split_data(x, y, 0.8)"
   ]
  },
  {
   "cell_type": "code",
   "execution_count": 13,
   "metadata": {},
   "outputs": [
    {
     "name": "stderr",
     "output_type": "stream",
     "text": [
      "/home/kjablonk/anaconda3/envs/timeseries_analysis/lib/python3.8/site-packages/torch/random.py:95: UserWarning: CUDA reports that you have 2 available devices, and you have used fork_rng without explicitly specifying which devices are being used. For safety, we initialize *every* CUDA device by default, which can be quite slow if you have a lot of GPUs.  If you know that you are only making use of a few CUDA devices, set the environment variable CUDA_VISIBLE_DEVICES or the 'devices' keyword argument of fork_rng with the set of devices you are actually using.  For example, if you are using CPU only, set CUDA_VISIBLE_DEVICES= or devices=[]; if you are using GPU 0 only, set CUDA_VISIBLE_DEVICES=0 or devices=[0].  To initialize all devices and suppress this warning, set the 'devices' keyword argument to `range(torch.cuda.device_count())`.\n",
      "  warnings.warn(\n",
      "[2021-08-08 21:47:29,174] INFO | darts.models.torch_forecasting_model | Train dataset contains 4286 samples.\n",
      "[2021-08-08 21:47:29,174] INFO | darts.models.torch_forecasting_model | Train dataset contains 4286 samples.\n"
     ]
    },
    {
     "name": "stdout",
     "output_type": "stream",
     "text": [
      "(1082, 8) (1082, 2)\n"
     ]
    }
   ],
   "source": [
    "train_tuple, test_tuple, scalers = transform_data(before, [after])\n",
    "model = run_model(train_tuple, output_chunk_length=2)"
   ]
  },
  {
   "cell_type": "code",
   "execution_count": 14,
   "metadata": {},
   "outputs": [],
   "source": [
    "x_test, y_test = test_tuple[0]"
   ]
  },
  {
   "cell_type": "code",
   "execution_count": 15,
   "metadata": {},
   "outputs": [],
   "source": [
    "x_train, y_train = train_tuple"
   ]
  },
  {
   "cell_type": "code",
   "execution_count": 16,
   "metadata": {},
   "outputs": [],
   "source": [
    "backtest = model.historical_forecasts(y_test,\n",
    "                          covariates=x_test,\n",
    "                          start=0.2,\n",
    "                          forecast_horizon=2,\n",
    "                          stride=1,\n",
    "                           verbose=False,\n",
    "                          retrain=False)"
   ]
  },
  {
   "cell_type": "code",
   "execution_count": 17,
   "metadata": {},
   "outputs": [
    {
     "data": {
      "image/png": "[encoded data removed]",
      "text/plain": [
       "<Figure size 576x576 with 1 Axes>"
      ]
     },
     "metadata": {
      "needs_background": "light"
     },
     "output_type": "display_data"
    }
   ],
   "source": [
    "plt.figure(figsize=(8,8))\n",
    "backtest['0'].plot()\n",
    "y_test['0'].plot(alpha=.5)"
   ]
  },
  {
   "cell_type": "code",
   "execution_count": 18,
   "metadata": {},
   "outputs": [
    {
     "data": {
      "image/png": "[encoded data removed]",
      "text/plain": [
       "<Figure size 576x576 with 1 Axes>"
      ]
     },
     "metadata": {
      "needs_background": "light"
     },
     "output_type": "display_data"
    }
   ],
   "source": [
    "plt.figure(figsize=(8,8))\n",
    "backtest['0'].plot()\n",
    "y_test['0'].plot(alpha=.5)"
   ]
  },
  {
   "cell_type": "code",
   "execution_count": 19,
   "metadata": {},
   "outputs": [
    {
     "data": {
      "image/png": "[encoded data removed]",
      "text/plain": [
       "<Figure size 576x576 with 1 Axes>"
      ]
     },
     "metadata": {
      "needs_background": "light"
     },
     "output_type": "display_data"
    }
   ],
   "source": [
    "plt.figure(figsize=(8,8))\n",
    "backtest['1'].plot()\n",
    "y_test['1'].plot(alpha=.5)"
   ]
  },
  {
   "cell_type": "code",
   "execution_count": 20,
   "metadata": {},
   "outputs": [
    {
     "data": {
      "image/png": "[encoded data removed]",
      "text/plain": [
       "<Figure size 576x576 with 1 Axes>"
      ]
     },
     "metadata": {
      "needs_background": "light"
     },
     "output_type": "display_data"
    }
   ],
   "source": [
    "plt.figure(figsize=(8,8))\n",
    "backtest['0'].plot()\n",
    "y_test['0'].plot(alpha=.5)"
   ]
  },
  {
   "cell_type": "code",
   "execution_count": 21,
   "metadata": {},
   "outputs": [],
   "source": [
    "from darts.metrics import mae, mape, marre, mase"
   ]
  },
  {
   "cell_type": "code",
   "execution_count": 46,
   "metadata": {},
   "outputs": [],
   "source": [
    "metric_functions = [\n",
    "    ('mae', mae), \n",
    "    ('mape', mape), \n",
    "    ('marre', marre)\n",
    "]\n",
    "\n",
    "def get_metrics(backtested, y_test): \n",
    "    start_index = backtested['0'][0].time_index()[0]\n",
    "    start_index_m_1 = y_test['0'][:start_index][-2].time_index()[0]\n",
    "    \n",
    "    metrics = {}\n",
    "    \n",
    "    for target in ['0', '1']:\n",
    "        metrics_f_target = {}\n",
    "        for name, func in metric_functions: \n",
    "            metrics_f_target[name] = func(y_test[target][start_index:], backtested[target])\n",
    "            \n",
    "        metrics[target] = metrics_f_target\n",
    "        \n",
    "    return metrics\n",
    "\n",
    "\n",
    "\n",
    "def get_metrics_for_target(backtested, y_test, target='0'): \n",
    "    start_index = backtested['0'][0].time_index()[0]\n",
    "    start_index_m_1 = y_test[target][:start_index][-2].time_index()[0]\n",
    "    \n",
    "  \n",
    "    metrics_f_target = {}\n",
    "    for name, func in metric_functions: \n",
    "        metrics_f_target[name] = func(y_test[target][start_index:], backtested['0'])\n",
    "\n",
    "    return metrics_f_target\n",
    "\n",
    "        "
   ]
  },
  {
   "cell_type": "code",
   "execution_count": 47,
   "metadata": {},
   "outputs": [
    {
     "data": {
      "text/plain": [
       "{'0': {'mae': 0.003627235151639537,\n",
       "  'mape': 2.6067213164317353,\n",
       "  'marre': 2.144372679791301},\n",
       " '1': {'mae': 0.015807966940445815,\n",
       "  'mape': 16.233876014597843,\n",
       "  'marre': 51.237525047269195}}"
      ]
     },
     "execution_count": 47,
     "metadata": {},
     "output_type": "execute_result"
    }
   ],
   "source": [
    "get_metrics(backtest, y_test)"
   ]
  },
  {
   "cell_type": "code",
   "execution_count": 51,
   "metadata": {},
   "outputs": [],
   "source": [
    "def split_train_backtest(x, y, fraction, forecast_horizon=2): \n",
    "    before, after  = split_data(x, y, fraction)\n",
    "    print(len(before[0]), len(after[0]))\n",
    "    train_tuple, test_tuple, scalers = transform_data(before, [after])\n",
    "    model = run_model(train_tuple, output_chunk_length=forecast_horizon)\n",
    "    x_test, y_test = test_tuple[0]\n",
    "    x_train, y_train = train_tuple\n",
    "    backtest = model.historical_forecasts(y_test,\n",
    "                          covariates=x_test,\n",
    "                          start=0.2,\n",
    "                          forecast_horizon=forecast_horizon,\n",
    "                          stride=1,\n",
    "                           verbose=False,\n",
    "                          retrain=False)\n",
    "    \n",
    "    return get_metrics(backtest, y_test)"
   ]
  },
  {
   "cell_type": "code",
   "execution_count": 48,
   "metadata": {},
   "outputs": [],
   "source": [
    "def get_baseline_metrics(x, y, fraction): \n",
    "    before, after  = split_data(x, y, fraction)\n",
    "\n",
    "    train_tuple, test_tuple, scalers = transform_data(before, [after])\n",
    "\n",
    "    mean_model_0 = NaiveMean()\n",
    "    mean_model_1 = NaiveMean()\n",
    "    \n",
    "    drift_model_0 = NaiveDrift()\n",
    "    drift_model_1 = NaiveDrift()\n",
    "    \n",
    "    mean_model_0.fit(train_tuple[1]['0'])\n",
    "    mean_model_1.fit(train_tuple[1]['1'])\n",
    "    \n",
    "    drift_model_0.fit(train_tuple[1]['0'])\n",
    "    drift_model_1.fit(train_tuple[1]['1'])\n",
    "    \n",
    "    mean_model_0_backtest = mean_model_0.historical_forecasts(test_tuple[0][1]['0'], forecast_horizon=2)\n",
    "    mean_model_0_backtest = mean_model_0_backtest.update(mean_model_0_backtest.time_index(), mean_model_0.predict(len(mean_model_0_backtest)).values().flatten())\n",
    "    mean_model_1_backtest = mean_model_1.historical_forecasts(test_tuple[0][1]['1'], forecast_horizon=2)\n",
    "    mean_model_1_backtest = mean_model_1_backtest.update(mean_model_1_backtest.time_index(), mean_model_1.predict(len(mean_model_1_backtest)).values().flatten())\n",
    "        \n",
    "    drift_model_0_backtest = drift_model_0.historical_forecasts(test_tuple[0][1]['0'], forecast_horizon=2)\n",
    "    drift_model_0_backtest = drift_model_0_backtest.update(drift_model_0_backtest.time_index(), drift_model_0.predict(len(drift_model_0_backtest)).values().flatten())\n",
    "    drift_model_1_backtest = drift_model_1.historical_forecasts(test_tuple[0][1]['1'], forecast_horizon=2)\n",
    "    drift_model_1_backtest = drift_model_1_backtest.update(drift_model_1_backtest.time_index(), drift_model_1.predict(len(drift_model_1_backtest)).values().flatten())\n",
    "\n",
    "    mean_model_metrics = {\n",
    "        '0': get_metrics_for_target(mean_model_0_backtest, test_tuple[0][1]['0']),\n",
    "        '1': get_metrics_for_target(mean_model_1_backtest, test_tuple[0][1]['1'], '1')\n",
    "    }\n",
    "    \n",
    "    \n",
    "    drift_model_metrics = {\n",
    "        '0': get_metrics_for_target(drift_model_0_backtest, test_tuple[0][1]['0']),\n",
    "        '1': get_metrics_for_target(drift_model_1_backtest, test_tuple[0][1]['1'], '1')\n",
    "    }\n",
    "    \n",
    "    return mean_model_metrics, drift_model_metrics"
   ]
  },
  {
   "cell_type": "code",
   "execution_count": 49,
   "metadata": {},
   "outputs": [
    {
     "name": "stdout",
     "output_type": "stream",
     "text": [
      "(2705, 8) (2705, 2)\n",
      "(2164, 8) (2164, 2)\n",
      "(1623, 8) (1623, 2)\n",
      "(1082, 8) (1082, 2)\n",
      "(541, 8) (541, 2)\n",
      "(271, 8) (271, 2)\n"
     ]
    }
   ],
   "source": [
    "baseline_metrics = []\n",
    "\n",
    "for ratio in [0.5, 0.6, 0.7, 0.8, 0.9, 0.95]:\n",
    "    baseline_metrics.append(get_baseline_metrics(x, y, ratio))"
   ]
  },
  {
   "cell_type": "code",
   "execution_count": 26,
   "metadata": {},
   "outputs": [],
   "source": [
    "import pickle"
   ]
  },
  {
   "cell_type": "code",
   "execution_count": 50,
   "metadata": {},
   "outputs": [],
   "source": [
    "with open('20210805_baselines_amine.pkl', 'wb') as handle:\n",
    "    pickle.dump(baseline_metrics, handle)"
   ]
  },
  {
   "cell_type": "code",
   "execution_count": 27,
   "metadata": {},
   "outputs": [],
   "source": [
    "from darts.models.baselines import NaiveMean, NaiveDrift"
   ]
  },
  {
   "cell_type": "code",
   "execution_count": 28,
   "metadata": {},
   "outputs": [],
   "source": [
    "mean_model = NaiveMean()\n",
    "mean_model.fit(train_tuple[1]['0'])"
   ]
  },
  {
   "cell_type": "code",
   "execution_count": 29,
   "metadata": {
    "tags": []
   },
   "outputs": [],
   "source": [
    "drift_forecasts = mean_model.predict(10)"
   ]
  },
  {
   "cell_type": "code",
   "execution_count": 30,
   "metadata": {},
   "outputs": [
    {
     "data": {
      "text/plain": [
       "array([0.15018673, 0.15018673, 0.15018673, 0.15018673, 0.15018673,\n",
       "       0.15018673, 0.15018673, 0.15018673, 0.15018673, 0.15018673])"
      ]
     },
     "execution_count": 30,
     "metadata": {},
     "output_type": "execute_result"
    }
   ],
   "source": [
    "drift_forecasts.values().flatten()"
   ]
  },
  {
   "cell_type": "code",
   "execution_count": 31,
   "metadata": {},
   "outputs": [
    {
     "data": {
      "image/png": "[encoded data removed]",
      "text/plain": [
       "<Figure size 252x189 with 1 Axes>"
      ]
     },
     "metadata": {
      "needs_background": "light"
     },
     "output_type": "display_data"
    }
   ],
   "source": [
    "test_tuple[0][1]['0'].plot()\n",
    "drift_forecasts.plot()"
   ]
  },
  {
   "cell_type": "code",
   "execution_count": null,
   "metadata": {},
   "outputs": [
    {
     "name": "stderr",
     "output_type": "stream",
     "text": [
      "[2021-08-16 08:51:54,240] INFO | darts.models.torch_forecasting_model | Train dataset contains 3205 samples.\n",
      "[2021-08-16 08:51:54,240] INFO | darts.models.torch_forecasting_model | Train dataset contains 3205 samples.\n"
     ]
    },
    {
     "name": "stdout",
     "output_type": "stream",
     "text": [
      "3245 2164\n",
      "(2164, 8) (2164, 2)\n"
     ]
    },
    {
     "name": "stderr",
     "output_type": "stream",
     "text": [
      "[2021-08-16 09:10:45,396] INFO | darts.models.torch_forecasting_model | Train dataset contains 3204 samples.\n",
      "[2021-08-16 09:10:45,396] INFO | darts.models.torch_forecasting_model | Train dataset contains 3204 samples.\n"
     ]
    },
    {
     "name": "stdout",
     "output_type": "stream",
     "text": [
      "3245 2164\n",
      "(2164, 8) (2164, 2)\n"
     ]
    },
    {
     "name": "stderr",
     "output_type": "stream",
     "text": [
      "[2021-08-16 09:30:01,180] INFO | darts.models.torch_forecasting_model | Train dataset contains 3202 samples.\n",
      "[2021-08-16 09:30:01,180] INFO | darts.models.torch_forecasting_model | Train dataset contains 3202 samples.\n"
     ]
    },
    {
     "name": "stdout",
     "output_type": "stream",
     "text": [
      "3245 2164\n",
      "(2164, 8) (2164, 2)\n"
     ]
    },
    {
     "name": "stderr",
     "output_type": "stream",
     "text": [
      "[2021-08-16 09:49:34,138] INFO | darts.models.torch_forecasting_model | Train dataset contains 3198 samples.\n",
      "[2021-08-16 09:49:34,138] INFO | darts.models.torch_forecasting_model | Train dataset contains 3198 samples.\n"
     ]
    },
    {
     "name": "stdout",
     "output_type": "stream",
     "text": [
      "3245 2164\n",
      "(2164, 8) (2164, 2)\n"
     ]
    },
    {
     "name": "stderr",
     "output_type": "stream",
     "text": [
      "[2021-08-16 10:08:49,332] INFO | darts.models.torch_forecasting_model | Train dataset contains 3190 samples.\n",
      "[2021-08-16 10:08:49,332] INFO | darts.models.torch_forecasting_model | Train dataset contains 3190 samples.\n"
     ]
    },
    {
     "name": "stdout",
     "output_type": "stream",
     "text": [
      "3245 2164\n",
      "(2164, 8) (2164, 2)\n"
     ]
    },
    {
     "name": "stderr",
     "output_type": "stream",
     "text": [
      "[2021-08-16 10:27:54,792] INFO | darts.models.torch_forecasting_model | Train dataset contains 3205 samples.\n",
      "[2021-08-16 10:27:54,792] INFO | darts.models.torch_forecasting_model | Train dataset contains 3205 samples.\n"
     ]
    },
    {
     "name": "stdout",
     "output_type": "stream",
     "text": [
      "3245 2164\n",
      "(2164, 8) (2164, 2)\n"
     ]
    },
    {
     "name": "stderr",
     "output_type": "stream",
     "text": [
      "[2021-08-16 10:47:35,233] INFO | darts.models.torch_forecasting_model | Train dataset contains 3204 samples.\n",
      "[2021-08-16 10:47:35,233] INFO | darts.models.torch_forecasting_model | Train dataset contains 3204 samples.\n"
     ]
    },
    {
     "name": "stdout",
     "output_type": "stream",
     "text": [
      "3245 2164\n",
      "(2164, 8) (2164, 2)\n"
     ]
    },
    {
     "name": "stderr",
     "output_type": "stream",
     "text": [
      "[2021-08-16 11:06:19,360] INFO | darts.models.torch_forecasting_model | Train dataset contains 3202 samples.\n",
      "[2021-08-16 11:06:19,360] INFO | darts.models.torch_forecasting_model | Train dataset contains 3202 samples.\n"
     ]
    },
    {
     "name": "stdout",
     "output_type": "stream",
     "text": [
      "3245 2164\n",
      "(2164, 8) (2164, 2)\n"
     ]
    },
    {
     "name": "stderr",
     "output_type": "stream",
     "text": [
      "[2021-08-16 11:25:26,372] INFO | darts.models.torch_forecasting_model | Train dataset contains 3198 samples.\n",
      "[2021-08-16 11:25:26,372] INFO | darts.models.torch_forecasting_model | Train dataset contains 3198 samples.\n"
     ]
    },
    {
     "name": "stdout",
     "output_type": "stream",
     "text": [
      "3245 2164\n",
      "(2164, 8) (2164, 2)\n"
     ]
    },
    {
     "name": "stderr",
     "output_type": "stream",
     "text": [
      "[2021-08-16 11:44:35,439] INFO | darts.models.torch_forecasting_model | Train dataset contains 3190 samples.\n",
      "[2021-08-16 11:44:35,439] INFO | darts.models.torch_forecasting_model | Train dataset contains 3190 samples.\n"
     ]
    },
    {
     "name": "stdout",
     "output_type": "stream",
     "text": [
      "3245 2164\n",
      "(2164, 8) (2164, 2)\n"
     ]
    },
    {
     "name": "stderr",
     "output_type": "stream",
     "text": [
      "[2021-08-16 12:03:49,064] INFO | darts.models.torch_forecasting_model | Train dataset contains 3205 samples.\n",
      "[2021-08-16 12:03:49,064] INFO | darts.models.torch_forecasting_model | Train dataset contains 3205 samples.\n"
     ]
    },
    {
     "name": "stdout",
     "output_type": "stream",
     "text": [
      "3245 2164\n",
      "(2164, 8) (2164, 2)\n"
     ]
    },
    {
     "name": "stderr",
     "output_type": "stream",
     "text": [
      "[2021-08-16 12:23:14,276] INFO | darts.models.torch_forecasting_model | Train dataset contains 3204 samples.\n",
      "[2021-08-16 12:23:14,276] INFO | darts.models.torch_forecasting_model | Train dataset contains 3204 samples.\n"
     ]
    },
    {
     "name": "stdout",
     "output_type": "stream",
     "text": [
      "3245 2164\n",
      "(2164, 8) (2164, 2)\n"
     ]
    },
    {
     "name": "stderr",
     "output_type": "stream",
     "text": [
      "[2021-08-16 12:43:07,780] INFO | darts.models.torch_forecasting_model | Train dataset contains 3202 samples.\n",
      "[2021-08-16 12:43:07,780] INFO | darts.models.torch_forecasting_model | Train dataset contains 3202 samples.\n"
     ]
    },
    {
     "name": "stdout",
     "output_type": "stream",
     "text": [
      "3245 2164\n",
      "(2164, 8) (2164, 2)\n"
     ]
    },
    {
     "name": "stderr",
     "output_type": "stream",
     "text": [
      "[2021-08-16 13:02:06,743] INFO | darts.models.torch_forecasting_model | Train dataset contains 3198 samples.\n",
      "[2021-08-16 13:02:06,743] INFO | darts.models.torch_forecasting_model | Train dataset contains 3198 samples.\n"
     ]
    },
    {
     "name": "stdout",
     "output_type": "stream",
     "text": [
      "3245 2164\n",
      "(2164, 8) (2164, 2)\n"
     ]
    },
    {
     "name": "stderr",
     "output_type": "stream",
     "text": [
      "[2021-08-16 13:21:04,921] INFO | darts.models.torch_forecasting_model | Train dataset contains 3190 samples.\n",
      "[2021-08-16 13:21:04,921] INFO | darts.models.torch_forecasting_model | Train dataset contains 3190 samples.\n"
     ]
    },
    {
     "name": "stdout",
     "output_type": "stream",
     "text": [
      "3245 2164\n",
      "(2164, 8) (2164, 2)\n"
     ]
    },
    {
     "name": "stderr",
     "output_type": "stream",
     "text": [
      "[2021-08-16 13:40:40,504] INFO | darts.models.torch_forecasting_model | Train dataset contains 3205 samples.\n",
      "[2021-08-16 13:40:40,504] INFO | darts.models.torch_forecasting_model | Train dataset contains 3205 samples.\n"
     ]
    },
    {
     "name": "stdout",
     "output_type": "stream",
     "text": [
      "3245 2164\n",
      "(2164, 8) (2164, 2)\n"
     ]
    },
    {
     "name": "stderr",
     "output_type": "stream",
     "text": [
      "[2021-08-16 13:59:56,053] INFO | darts.models.torch_forecasting_model | Train dataset contains 3204 samples.\n",
      "[2021-08-16 13:59:56,053] INFO | darts.models.torch_forecasting_model | Train dataset contains 3204 samples.\n"
     ]
    },
    {
     "name": "stdout",
     "output_type": "stream",
     "text": [
      "3245 2164\n",
      "(2164, 8) (2164, 2)\n"
     ]
    },
    {
     "name": "stderr",
     "output_type": "stream",
     "text": [
      "[2021-08-16 14:18:54,990] INFO | darts.models.torch_forecasting_model | Train dataset contains 3202 samples.\n",
      "[2021-08-16 14:18:54,990] INFO | darts.models.torch_forecasting_model | Train dataset contains 3202 samples.\n"
     ]
    },
    {
     "name": "stdout",
     "output_type": "stream",
     "text": [
      "3245 2164\n",
      "(2164, 8) (2164, 2)\n"
     ]
    },
    {
     "name": "stderr",
     "output_type": "stream",
     "text": [
      "[2021-08-16 14:38:29,751] INFO | darts.models.torch_forecasting_model | Train dataset contains 3198 samples.\n",
      "[2021-08-16 14:38:29,751] INFO | darts.models.torch_forecasting_model | Train dataset contains 3198 samples.\n"
     ]
    },
    {
     "name": "stdout",
     "output_type": "stream",
     "text": [
      "3245 2164\n",
      "(2164, 8) (2164, 2)\n"
     ]
    },
    {
     "name": "stderr",
     "output_type": "stream",
     "text": [
      "[2021-08-16 14:57:53,112] INFO | darts.models.torch_forecasting_model | Train dataset contains 3190 samples.\n",
      "[2021-08-16 14:57:53,112] INFO | darts.models.torch_forecasting_model | Train dataset contains 3190 samples.\n"
     ]
    },
    {
     "name": "stdout",
     "output_type": "stream",
     "text": [
      "3245 2164\n",
      "(2164, 8) (2164, 2)\n"
     ]
    },
    {
     "name": "stderr",
     "output_type": "stream",
     "text": [
      "[2021-08-16 15:17:05,191] INFO | darts.models.torch_forecasting_model | Train dataset contains 3205 samples.\n",
      "[2021-08-16 15:17:05,191] INFO | darts.models.torch_forecasting_model | Train dataset contains 3205 samples.\n"
     ]
    },
    {
     "name": "stdout",
     "output_type": "stream",
     "text": [
      "3245 2164\n",
      "(2164, 8) (2164, 2)\n"
     ]
    },
    {
     "name": "stderr",
     "output_type": "stream",
     "text": [
      "[2021-08-16 15:36:17,077] INFO | darts.models.torch_forecasting_model | Train dataset contains 3204 samples.\n",
      "[2021-08-16 15:36:17,077] INFO | darts.models.torch_forecasting_model | Train dataset contains 3204 samples.\n"
     ]
    },
    {
     "name": "stdout",
     "output_type": "stream",
     "text": [
      "3245 2164\n",
      "(2164, 8) (2164, 2)\n"
     ]
    },
    {
     "name": "stderr",
     "output_type": "stream",
     "text": [
      "[2021-08-16 15:55:20,446] INFO | darts.models.torch_forecasting_model | Train dataset contains 3202 samples.\n",
      "[2021-08-16 15:55:20,446] INFO | darts.models.torch_forecasting_model | Train dataset contains 3202 samples.\n"
     ]
    },
    {
     "name": "stdout",
     "output_type": "stream",
     "text": [
      "3245 2164\n",
      "(2164, 8) (2164, 2)\n"
     ]
    },
    {
     "name": "stderr",
     "output_type": "stream",
     "text": [
      "[2021-08-16 16:14:46,205] INFO | darts.models.torch_forecasting_model | Train dataset contains 3198 samples.\n",
      "[2021-08-16 16:14:46,205] INFO | darts.models.torch_forecasting_model | Train dataset contains 3198 samples.\n"
     ]
    },
    {
     "name": "stdout",
     "output_type": "stream",
     "text": [
      "3245 2164\n",
      "(2164, 8) (2164, 2)\n"
     ]
    }
   ],
   "source": [
    "collected_metrics = []\n",
    "\n",
    "for i in range(10):\n",
    "    metrics = {}\n",
    "\n",
    "    for forecast_horizon in [1, 2, 4, 8, 16]: \n",
    "        metrics[forecast_horizon] = split_train_backtest(x, y, 0.6, forecast_horizon)\n",
    "    \n",
    "    collected_metrics.append(metrics)"
   ]
  },
  {
   "cell_type": "code",
   "execution_count": null,
   "metadata": {},
   "outputs": [],
   "source": []
  },
  {
   "cell_type": "code",
   "execution_count": null,
   "metadata": {},
   "outputs": [],
   "source": [
    "with open('20210816_collected_metrics_co2_seq_len.pkl', 'wb') as handle:\n",
    "    pickle.dump(collected_metrics, handle)"
   ]
  },
  {
   "cell_type": "code",
   "execution_count": 18,
   "metadata": {},
   "outputs": [],
   "source": [
    "import pickle"
   ]
  },
  {
   "cell_type": "code",
   "execution_count": 19,
   "metadata": {},
   "outputs": [],
   "source": [
    "with open('metrics_lc.pkl', 'wb') as handle: \n",
    "    pickle.dump(metrics, handle)"
   ]
  },
  {
   "cell_type": "code",
   "execution_count": 34,
   "metadata": {},
   "outputs": [
    {
     "data": {
      "text/plain": [
       "[{0.5: {'0': {'mae': 0.018198414381966524,\n",
       "    'mape': 4.692313066654013,\n",
       "    'marre': 2.7626717299024},\n",
       "   '1': {'mae': 0.01302071799811611,\n",
       "    'mape': 14.95294997413609,\n",
       "    'marre': 35.83293326028175}},\n",
       "  0.6: {'0': {'mae': 0.011243985327299784,\n",
       "    'mape': 8.795642308846114,\n",
       "    'marre': 5.499861623618583},\n",
       "   '1': {'mae': 0.010659678980816949,\n",
       "    'mape': 11.470162448276058,\n",
       "    'marre': 29.537692647788955}},\n",
       "  0.7: {'0': {'mae': 0.008307372302569898,\n",
       "    'mape': 6.307457929516383,\n",
       "    'marre': 4.855081831109471},\n",
       "   '1': {'mae': 0.007752790779111324,\n",
       "    'mape': 8.23105284338276,\n",
       "    'marre': 22.638480816770084}},\n",
       "  0.8: {'0': {'mae': 0.0036654235012765725,\n",
       "    'mape': 2.4930571988040136,\n",
       "    'marre': 2.1669491189314445},\n",
       "   '1': {'mae': 0.006931451484026359,\n",
       "    'mape': 7.160463915218282,\n",
       "    'marre': 22.466546164013916}},\n",
       "  0.9: {'0': {'mae': 0.002943703525353472,\n",
       "    'mape': 1.8349032551057753,\n",
       "    'marre': 2.1561091219920216},\n",
       "   '1': {'mae': 0.0017732226491613695,\n",
       "    'mape': 1.9293351452699499,\n",
       "    'marre': 9.287724488725692}},\n",
       "  0.95: {'0': {'mae': 0.002000910708201758,\n",
       "    'mape': 1.7137877771586998,\n",
       "    'marre': 5.500748403735955},\n",
       "   '1': {'mae': 0.0012272363573253215,\n",
       "    'mape': 1.2387609471605658,\n",
       "    'marre': 10.981191822834681}}},\n",
       " {0.5: {'0': {'mae': 0.01962276690238691,\n",
       "    'mape': 4.991016852751424,\n",
       "    'marre': 2.978900372628548},\n",
       "   '1': {'mae': 0.01155958270104866,\n",
       "    'mape': 13.137952736556628,\n",
       "    'marre': 31.811898199724027}},\n",
       "  0.6: {'0': {'mae': 0.010744842180496369,\n",
       "    'mape': 8.141063601441543,\n",
       "    'marre': 5.255711692976902},\n",
       "   '1': {'mae': 0.007101315000947235,\n",
       "    'mape': 7.684084500386233,\n",
       "    'marre': 19.677558796150254}},\n",
       "  0.7: {'0': {'mae': 0.006734821005609436,\n",
       "    'mape': 5.096223041596764,\n",
       "    'marre': 3.936034874709248},\n",
       "   '1': {'mae': 0.009763278381462114,\n",
       "    'mape': 10.365578735409255,\n",
       "    'marre': 28.50919064435937}},\n",
       "  0.8: {'0': {'mae': 0.007045138276193493,\n",
       "    'mape': 5.492764225963023,\n",
       "    'marre': 4.164991078119833},\n",
       "   '1': {'mae': 0.0062860385650045725,\n",
       "    'mape': 6.490030218880248,\n",
       "    'marre': 20.374603491765562}},\n",
       "  0.9: {'0': {'mae': 0.002658693971350008,\n",
       "    'mape': 1.7293445941486105,\n",
       "    'marre': 1.947354505927907},\n",
       "   '1': {'mae': 0.002077178155083926,\n",
       "    'mape': 2.271721277648984,\n",
       "    'marre': 10.87977216371737}},\n",
       "  0.95: {'0': {'mae': 0.002069178677520897,\n",
       "    'mape': 1.7693698244691094,\n",
       "    'marre': 5.688425405872665},\n",
       "   '1': {'mae': 0.0009652417323639764,\n",
       "    'mape': 0.9713470826887095,\n",
       "    'marre': 8.636889345093216}}},\n",
       " {0.5: {'0': {'mae': 0.01861375313948595,\n",
       "    'mape': 4.758756112976266,\n",
       "    'marre': 2.8257236320982715},\n",
       "   '1': {'mae': 0.01415084718190722,\n",
       "    'mape': 16.18423894016011,\n",
       "    'marre': 38.94304159871152}},\n",
       "  0.6: {'0': {'mae': 0.011255259319304309,\n",
       "    'mape': 8.697184839165763,\n",
       "    'marre': 5.505376162651298},\n",
       "   '1': {'mae': 0.011667099217454725,\n",
       "    'mape': 12.646504245474793,\n",
       "    'marre': 32.3292278685512}},\n",
       "  0.7: {'0': {'mae': 0.007193744462789291,\n",
       "    'mape': 5.566821070538302,\n",
       "    'marre': 4.204243744815452},\n",
       "   '1': {'mae': 0.014228748453226884,\n",
       "    'mape': 14.764835202343562,\n",
       "    'marre': 41.54855433128908}},\n",
       "  0.8: {'0': {'mae': 0.004344231223742867,\n",
       "    'mape': 2.826651164612751,\n",
       "    'marre': 2.5682511228090057},\n",
       "   '1': {'mae': 0.00811908851365519,\n",
       "    'mape': 8.334758769325935,\n",
       "    'marre': 26.315971095247704}},\n",
       "  0.9: {'0': {'mae': 0.0031015058042747397,\n",
       "    'mape': 1.900123177315894,\n",
       "    'marre': 2.2716910513958735},\n",
       "   '1': {'mae': 0.0011986135163299925,\n",
       "    'mape': 1.286960805611776,\n",
       "    'marre': 6.2780565730990725}},\n",
       "  0.95: {'0': {'mae': 0.0017808207429502083,\n",
       "    'mape': 1.5190224696778256,\n",
       "    'marre': 4.89569415515142},\n",
       "   '1': {'mae': 0.0007605718799875552,\n",
       "    'mape': 0.7650603024157313,\n",
       "    'marre': 6.805523369108727}}},\n",
       " {0.5: {'0': {'mae': 0.019626106510443764,\n",
       "    'mape': 5.056530379129289,\n",
       "    'marre': 2.9794073531035483},\n",
       "   '1': {'mae': 0.01250523704554186,\n",
       "    'mape': 14.221785827237444,\n",
       "    'marre': 34.414332951664974}},\n",
       "  0.6: {'0': {'mae': 0.014606204396301482,\n",
       "    'mape': 11.406519454492152,\n",
       "    'marre': 7.1444510720683345},\n",
       "   '1': {'mae': 0.01522394208150848,\n",
       "    'mape': 16.585743640452105,\n",
       "    'marre': 42.18514674790656}},\n",
       "  0.7: {'0': {'mae': 0.007130477288524176,\n",
       "    'mape': 5.190007046151246,\n",
       "    'marre': 4.167268477896794},\n",
       "   '1': {'mae': 0.0075419828992052615,\n",
       "    'mape': 8.007164950177613,\n",
       "    'marre': 22.022912786979347}},\n",
       "  0.8: {'0': {'mae': 0.003652669404526798,\n",
       "    'mape': 2.667611041467734,\n",
       "    'marre': 2.159409068319267},\n",
       "   '1': {'mae': 0.006833810478485255,\n",
       "    'mape': 7.010089252249788,\n",
       "    'marre': 22.150067550040312}},\n",
       "  0.9: {'0': {'mae': 0.0035798482331658773,\n",
       "    'mape': 2.2715945570805465,\n",
       "    'marre': 2.622051903120627},\n",
       "   '1': {'mae': 0.0014430946575909977,\n",
       "    'mape': 1.5448025254388105,\n",
       "    'marre': 7.558591470279266}},\n",
       "  0.95: {'0': {'mae': 0.0018799445056961377,\n",
       "    'mape': 1.6080037383181152,\n",
       "    'marre': 5.1681975094800086},\n",
       "   '1': {'mae': 0.001209880535340149,\n",
       "    'mape': 1.218901174732859,\n",
       "    'marre': 10.825893612082904}}},\n",
       " {0.5: {'0': {'mae': 0.023005294013723913,\n",
       "    'mape': 6.0535538103510955,\n",
       "    'marre': 3.492396319581996},\n",
       "   '1': {'mae': 0.011131579670105847,\n",
       "    'mape': 12.870067422711859,\n",
       "    'marre': 30.63403657602622}},\n",
       "  0.6: {'0': {'mae': 0.011627381582468486,\n",
       "    'mape': 9.23873239494181,\n",
       "    'marre': 5.687395339561969},\n",
       "   '1': {'mae': 0.012262736272324506,\n",
       "    'mape': 13.138356792118081,\n",
       "    'marre': 33.97972262435381}},\n",
       "  0.7: {'0': {'mae': 0.007962783027789907,\n",
       "    'mape': 6.161173779701669,\n",
       "    'marre': 4.653693345527576},\n",
       "   '1': {'mae': 0.007471080976017883,\n",
       "    'mape': 7.968948407675873,\n",
       "    'marre': 21.8158761373803}},\n",
       "  0.8: {'0': {'mae': 0.004588991513447858,\n",
       "    'mape': 3.2808345901389555,\n",
       "    'marre': 2.712950117056442},\n",
       "   '1': {'mae': 0.010717011356971763,\n",
       "    'mape': 11.032792683201368,\n",
       "    'marre': 34.736480655824494}},\n",
       "  0.9: {'0': {'mae': 0.0041342798970691475,\n",
       "    'mape': 2.405358551781485,\n",
       "    'marre': 3.0281441463670027},\n",
       "   '1': {'mae': 0.0014383886539938258,\n",
       "    'mape': 1.5342965662579489,\n",
       "    'marre': 7.533942526801039}},\n",
       "  0.95: {'0': {'mae': 0.0019074757010596683,\n",
       "    'mape': 1.6255269456404258,\n",
       "    'marre': 5.2438841347392575},\n",
       "   '1': {'mae': 0.0009516294168183795,\n",
       "    'mape': 0.9558692193976717,\n",
       "    'marre': 8.515087666657829}}},\n",
       " {0.5: {'0': {'mae': 0.018697273279631735,\n",
       "    'mape': 4.759643918559106,\n",
       "    'marre': 2.8384026889224145},\n",
       "   '1': {'mae': 0.010218578271485118,\n",
       "    'mape': 11.643786617055223,\n",
       "    'marre': 28.121462523807768}},\n",
       "  0.6: {'0': {'mae': 0.011131809364368557,\n",
       "    'mape': 8.766037244004373,\n",
       "    'marre': 5.444992086202879},\n",
       "   '1': {'mae': 0.006791499767801222,\n",
       "    'mape': 7.621487330077853,\n",
       "    'marre': 18.819068859376507}},\n",
       "  0.7: {'0': {'mae': 0.011302686673987756,\n",
       "    'mape': 8.502706249797738,\n",
       "    'marre': 6.605634936648411},\n",
       "   '1': {'mae': 0.006579567808659725,\n",
       "    'mape': 7.07051053443954,\n",
       "    'marre': 19.212619540863574}},\n",
       "  0.8: {'0': {'mae': 0.007268291627081337,\n",
       "    'mape': 5.6655281360106855,\n",
       "    'marre': 4.296916340487088},\n",
       "   '1': {'mae': 0.016400191384646264,\n",
       "    'mape': 16.802068800082974,\n",
       "    'marre': 53.15707073632855}},\n",
       "  0.9: {'0': {'mae': 0.0035629508643787344,\n",
       "    'mape': 2.1629958385232717,\n",
       "    'marre': 2.609675462807995},\n",
       "   '1': {'mae': 0.0014362585777376255,\n",
       "    'mape': 1.5385888510469192,\n",
       "    'marre': 7.522785686786099}},\n",
       "  0.95: {'0': {'mae': 0.0019309951167927747,\n",
       "    'mape': 1.6457931734654923,\n",
       "    'marre': 5.308541886842026},\n",
       "   '1': {'mae': 0.001181623250386403,\n",
       "    'mape': 1.1897956428387453,\n",
       "    'marre': 10.573050168668418}}},\n",
       " {0.5: {'0': {'mae': 0.014524306592767251,\n",
       "    'mape': 3.6339323016355394,\n",
       "    'marre': 2.204911393820955},\n",
       "   '1': {'mae': 0.010974455012068599,\n",
       "    'mape': 12.684677348095319,\n",
       "    'marre': 30.20163051471625}},\n",
       "  0.6: {'0': {'mae': 0.010811394302107749,\n",
       "    'mape': 8.14293104380405,\n",
       "    'marre': 5.288264871317693},\n",
       "   '1': {'mae': 0.007936638418662068,\n",
       "    'mape': 8.629747147630802,\n",
       "    'marre': 21.992218216791688}},\n",
       "  0.7: {'0': {'mae': 0.006654819436000322,\n",
       "    'mape': 4.628741699413376,\n",
       "    'marre': 3.8892795165860425},\n",
       "   '1': {'mae': 0.010838005644127048,\n",
       "    'mape': 11.40387529940389,\n",
       "    'marre': 31.64744023889942}},\n",
       "  0.8: {'0': {'mae': 0.004503173326465377,\n",
       "    'mape': 3.048592654153156,\n",
       "    'marre': 2.662215558115241},\n",
       "   '1': {'mae': 0.004542261576991772,\n",
       "    'mape': 4.68907492862186,\n",
       "    'marre': 14.722591602016644}},\n",
       "  0.9: {'0': {'mae': 0.0035066364165377653,\n",
       "    'mape': 2.062945025562138,\n",
       "    'marre': 2.568428070316159},\n",
       "   '1': {'mae': 0.0011563751672789132,\n",
       "    'mape': 1.2351334239632068,\n",
       "    'marre': 6.056822003920415}},\n",
       "  0.95: {'0': {'mae': 0.0019932666471794537,\n",
       "    'mape': 1.705786879168019,\n",
       "    'marre': 5.479733944522884},\n",
       "   '1': {'mae': 0.0010873151816201178,\n",
       "    'mape': 1.093729730480694,\n",
       "    'marre': 9.729190721886125}}},\n",
       " {0.5: {'0': {'mae': 0.01957838584651262,\n",
       "    'mape': 5.004792303765412,\n",
       "    'marre': 2.9721629566189085},\n",
       "   '1': {'mae': 0.016345330719737216,\n",
       "    'mape': 18.493761353366352,\n",
       "    'marre': 44.98224636170741}},\n",
       "  0.6: {'0': {'mae': 0.011439663832151321,\n",
       "    'mape': 8.794454629789891,\n",
       "    'marre': 5.595575435765516},\n",
       "   '1': {'mae': 0.007967398820003363,\n",
       "    'mape': 8.776093932267683,\n",
       "    'marre': 22.07745448724382}},\n",
       "  0.7: {'0': {'mae': 0.007102514085799581,\n",
       "    'mape': 5.290306967888638,\n",
       "    'marre': 4.150925929068712},\n",
       "   '1': {'mae': 0.007279853488757958,\n",
       "    'mape': 7.7454245440335505,\n",
       "    'marre': 21.257483691960903}},\n",
       "  0.8: {'0': {'mae': 0.004988572302068921,\n",
       "    'mape': 3.420683973653841,\n",
       "    'marre': 2.9491769098248044},\n",
       "   '1': {'mae': 0.006664144194334317,\n",
       "    'mape': 6.856824601340223,\n",
       "    'marre': 21.600137219554966}},\n",
       "  0.9: {'0': {'mae': 0.003774996154625456,\n",
       "    'mape': 2.3086999500135765,\n",
       "    'marre': 2.764987565619539},\n",
       "   '1': {'mae': 0.0015342551763730965,\n",
       "    'mape': 1.6568397909757016,\n",
       "    'marre': 8.036068894277806}},\n",
       "  0.95: {'0': {'mae': 0.0021494730214824407,\n",
       "    'mape': 1.8345320756478007,\n",
       "    'marre': 5.909164383661649},\n",
       "   '1': {'mae': 0.001311283037729403,\n",
       "    'mape': 1.316916475928599,\n",
       "    'marre': 11.733233362413225}}},\n",
       " {0.5: {'0': {'mae': 0.01640803107879945,\n",
       "    'mape': 4.211788508063939,\n",
       "    'marre': 2.49087654854581},\n",
       "   '1': {'mae': 0.013430054795926958,\n",
       "    'mape': 15.47346420205537,\n",
       "    'marre': 36.95942552891514}},\n",
       "  0.6: {'0': {'mae': 0.011699954062563618,\n",
       "    'mape': 9.021037929371685,\n",
       "    'marre': 5.722893304615068},\n",
       "   '1': {'mae': 0.01142731265955068,\n",
       "    'mape': 12.268662343107417,\n",
       "    'marre': 31.66478556581516}},\n",
       "  0.7: {'0': {'mae': 0.007216655752689661,\n",
       "    'mape': 5.461343167856453,\n",
       "    'marre': 4.217633801655467},\n",
       "   '1': {'mae': 0.007832692371597923,\n",
       "    'mape': 8.343680637515668,\n",
       "    'marre': 22.871796885818526}},\n",
       "  0.8: {'0': {'mae': 0.005420973107628723,\n",
       "    'mape': 3.8967021031460956,\n",
       "    'marre': 3.204806455580358},\n",
       "   '1': {'mae': 0.004825367030591683,\n",
       "    'mape': 5.017854325968762,\n",
       "    'marre': 15.640206297473167}},\n",
       "  0.9: {'0': {'mae': 0.0031828745646001622,\n",
       "    'mape': 1.9365050368134766,\n",
       "    'marre': 2.331289419530368},\n",
       "   '1': {'mae': 0.0015158672906761816,\n",
       "    'mape': 1.6380726204418532,\n",
       "    'marre': 7.939757460198223}},\n",
       "  0.95: {'0': {'mae': 0.0017297463683302987,\n",
       "    'mape': 1.4790340912603048,\n",
       "    'marre': 4.755284448955799},\n",
       "   '1': {'mae': 0.0009478951164272914,\n",
       "    'mape': 0.9542197114805029,\n",
       "    'marre': 8.481673509169866}}},\n",
       " {0.5: {'0': {'mae': 0.01904760125150332,\n",
       "    'mape': 4.8579655619081,\n",
       "    'marre': 2.891585409338031},\n",
       "   '1': {'mae': 0.014820823092074963,\n",
       "    'mape': 17.30904528035756,\n",
       "    'marre': 40.78681104971343}},\n",
       "  0.6: {'0': {'mae': 0.010564690182495924,\n",
       "    'mape': 8.171375484255401,\n",
       "    'marre': 5.1675924868965435},\n",
       "   '1': {'mae': 0.014037236160038474,\n",
       "    'mape': 15.272485406637257,\n",
       "    'marre': 38.89681556694205}},\n",
       "  0.7: {'0': {'mae': 0.009428632401582605,\n",
       "    'mape': 6.942963295165554,\n",
       "    'marre': 5.51038044255855},\n",
       "   '1': {'mae': 0.009767643165295155,\n",
       "    'mape': 10.204513988745475,\n",
       "    'marre': 28.521935999920867}},\n",
       "  0.8: {'0': {'mae': 0.007100248270869503,\n",
       "    'mape': 5.432297626688447,\n",
       "    'marre': 4.1975713664182805},\n",
       "   '1': {'mae': 0.008783235245404796,\n",
       "    'mape': 9.041446165098776,\n",
       "    'marre': 28.468634681354793}},\n",
       "  0.9: {'0': {'mae': 0.0028835804434404343,\n",
       "    'mape': 1.8648950017437056,\n",
       "    'marre': 2.1120721039164985},\n",
       "   '1': {'mae': 0.0013044069948276351,\n",
       "    'mape': 1.4099006064903505,\n",
       "    'marre': 6.832178009262056}},\n",
       "  0.95: {'0': {'mae': 0.0018725896918705528,\n",
       "    'mape': 1.592217446125673,\n",
       "    'marre': 5.147978226208134},\n",
       "   '1': {'mae': 0.0010516514398896456,\n",
       "    'mape': 1.0598979909571813,\n",
       "    'marre': 9.410075022025438}}}]"
      ]
     },
     "execution_count": 34,
     "metadata": {},
     "output_type": "execute_result"
    }
   ],
   "source": [
    "collected_metrics"
   ]
  },
  {
   "cell_type": "code",
   "execution_count": null,
   "metadata": {},
   "outputs": [],
   "source": []
  }
 ],
 "metadata": {
  "kernelspec": {
   "display_name": "Python 3",
   "language": "python",
   "name": "python3"
  },
  "language_info": {
   "codemirror_mode": {
    "name": "ipython",
    "version": 3
   },
   "file_extension": ".py",
   "mimetype": "text/x-python",
   "name": "python",
   "nbconvert_exporter": "python",
   "pygments_lexer": "ipython3",
   "version": "3.8.8"
  }
 },
 "nbformat": 4,
 "nbformat_minor": 4
}
