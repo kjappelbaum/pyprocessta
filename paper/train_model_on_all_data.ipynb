{
 "cells": [
  {
   "cell_type": "code",
   "execution_count": 171,
   "id": "67074d27",
   "metadata": {},
   "outputs": [],
   "source": [
    "MEAS_COLUMNS = [\n",
    "    \"TI-19\",\n",
    "#      \"FI-16\",\n",
    "#     \"TI-33\",\n",
    "#     \"FI-2\",\n",
    "#     \"FI-151\",\n",
    "#     \"TI-8\",\n",
    "#     \"FI-241\",\n",
    "#  \"valve-position-12\",  # dry-bed\n",
    "#     \"FI-38\",  # strippera\n",
    "#     \"PI-28\",  # stripper\n",
    "    \n",
    "#     \"TI-28\",  # stripper\n",
    "#      \"FI-20\",\n",
    "#     \"FI-30\",\n",
    "    \"TI-3\",\n",
    "    \"FI-19\",\n",
    "#     \"FI-211\",\n",
    "    \"FI-11\",\n",
    "#     \"TI-30\",\n",
    "#     \"PI-30\",\n",
    "    \"TI-1213\",\n",
    "#     \"TI-4\",\n",
    "#    \"FI-23\",\n",
    "#    \"FI-20\",\n",
    "#   \"FI-20/FI-23\",\n",
    "#    \"TI-22\",\n",
    "#    \"delta_t\",\n",
    "    \"TI-35\",\n",
    "#     \"delta_t_2\"\n",
    "]"
   ]
  },
  {
   "cell_type": "code",
   "execution_count": 172,
   "id": "0b5cbb49",
   "metadata": {},
   "outputs": [],
   "source": [
    "import pandas as pd \n",
    "from darts import TimeSeries"
   ]
  },
  {
   "cell_type": "code",
   "execution_count": 173,
   "id": "a84ce4d4",
   "metadata": {},
   "outputs": [],
   "source": [
    "from pyprocessta.model.tcn import transform_data, run_model, parallelized_inference\n",
    "from pyprocessta.preprocess.resample import resample_regular\n",
    "from darts.dataprocessing.transformers import Scaler\n",
    "import joblib\n",
    "\n",
    "import matplotlib.pyplot as plt\n",
    "plt.style.reload_library()\n",
    "plt.style.use('science')\n",
    "from matplotlib import rcParams\n",
    "rcParams['font.family'] = 'sans-serif'"
   ]
  },
  {
   "cell_type": "code",
   "execution_count": 174,
   "id": "67891bde",
   "metadata": {},
   "outputs": [],
   "source": [
    "df = pd.read_pickle('20210624_df_cleaned.pkl')\n",
    "#df = resample_regular(df, '5min')"
   ]
  },
  {
   "cell_type": "code",
   "execution_count": 175,
   "id": "d73047ec",
   "metadata": {},
   "outputs": [],
   "source": [
    "#df.to_pickle('df_dropped_5min_resampled.pkl')"
   ]
  },
  {
   "cell_type": "code",
   "execution_count": 176,
   "id": "9aa9ffa9",
   "metadata": {},
   "outputs": [],
   "source": [
    "TARGETS_clean = ['2-Amino-2-methylpropanol C4H11NO', 'Piperazine C4H10N2']"
   ]
  },
  {
   "cell_type": "code",
   "execution_count": 177,
   "id": "e53aed6c",
   "metadata": {},
   "outputs": [],
   "source": [
    "y = TimeSeries.from_dataframe(df, value_cols=TARGETS_clean)\n",
    "x = TimeSeries.from_dataframe(df, value_cols=MEAS_COLUMNS)"
   ]
  },
  {
   "cell_type": "code",
   "execution_count": 178,
   "id": "ad8e2307",
   "metadata": {},
   "outputs": [],
   "source": [
    "transformer = Scaler()\n",
    "x = transformer.fit_transform(x)\n",
    "\n",
    "y_transformer = Scaler()\n",
    "y = y_transformer.fit_transform(y)"
   ]
  },
  {
   "cell_type": "code",
   "execution_count": 179,
   "id": "daac83ea",
   "metadata": {},
   "outputs": [],
   "source": [
    "scal = y_transformer.transform(y)"
   ]
  },
  {
   "cell_type": "code",
   "execution_count": 180,
   "id": "f1d6b064",
   "metadata": {},
   "outputs": [
    {
     "name": "stderr",
     "output_type": "stream",
     "text": [
      "[2021-08-14 23:24:38,241] INFO | darts.models.torch_forecasting_model | Train dataset contains 5368 samples.\n",
      "[2021-08-14 23:24:38,241] INFO | darts.models.torch_forecasting_model | Train dataset contains 5368 samples.\n"
     ]
    }
   ],
   "source": [
    "model = run_model((x,y), output_chunk_length=2)"
   ]
  },
  {
   "cell_type": "code",
   "execution_count": 181,
   "id": "a7e6885e",
   "metadata": {
    "tags": []
   },
   "outputs": [],
   "source": [
    "backtest = model.historical_forecasts(y,\n",
    "                          covariates=x,\n",
    "                          start=0.1,\n",
    "                          forecast_horizon=1,\n",
    "                          stride=1,\n",
    "                          retrain=False,\n",
    "                          verbose=False)"
   ]
  },
  {
   "cell_type": "code",
   "execution_count": 182,
   "id": "559e827d",
   "metadata": {},
   "outputs": [],
   "source": [
    "import matplotlib.pyplot as plt"
   ]
  },
  {
   "cell_type": "code",
   "execution_count": 183,
   "id": "f8904481",
   "metadata": {
    "tags": []
   },
   "outputs": [],
   "source": [
    "results = parallelized_inference(model, x, y, repeats=1, start=0.1, horizon=2)"
   ]
  },
  {
   "cell_type": "code",
   "execution_count": 184,
   "id": "3b3f37f5",
   "metadata": {},
   "outputs": [],
   "source": [
    "import numpy as np "
   ]
  },
  {
   "cell_type": "code",
   "execution_count": 185,
   "id": "079af48c",
   "metadata": {},
   "outputs": [],
   "source": [
    "def summarize_results(results): \n",
    "    values = []\n",
    "    \n",
    "    for df in results: \n",
    "        values.append(df.pd_dataframe().values)\n",
    "    \n",
    "    df = df.pd_dataframe()\n",
    "    columns = df.columns\n",
    "    \n",
    "    return pd.DataFrame(np.mean(values, axis=0), columns=columns, index=df.index), pd.DataFrame(np.std(values, axis=0), columns=columns,  index=df.index)"
   ]
  },
  {
   "cell_type": "code",
   "execution_count": 186,
   "id": "9bd071f9",
   "metadata": {},
   "outputs": [],
   "source": [
    "means, stds = summarize_results(results)"
   ]
  },
  {
   "cell_type": "code",
   "execution_count": 187,
   "id": "b6e44c0e",
   "metadata": {},
   "outputs": [],
   "source": [
    "x_axis = means['1'].index - y['1'].pd_dataframe().index[0]\n",
    "x_axis = [val.total_seconds() / (60 * 60 * 24) for val in x_axis]\n",
    "\n",
    "x_conncected = y['1'].pd_dataframe().index - y['1'].pd_dataframe().index[0]\n",
    "x_conncected = [val.total_seconds() / (60 * 60 * 24) for val in x_conncected]"
   ]
  },
  {
   "cell_type": "code",
   "execution_count": 188,
   "id": "6da91422",
   "metadata": {},
   "outputs": [
    {
     "data": {
      "image/png": "[encoded data removed]",
      "text/plain": [
       "<Figure size 504x216 with 1 Axes>"
      ]
     },
     "metadata": {
      "needs_background": "light"
     },
     "output_type": "display_data"
    }
   ],
   "source": [
    "plt.figure(figsize=(7,3))\n",
    "plt.plot(x_axis, means['1'], c='b',  alpha=.9, lw=.2)\n",
    "plt.fill_between(x_axis, means['1']-2*stds['1'], means['1']+2*stds['1'], alpha=.4, color='b', label='forecast',)\n",
    "plt.plot(x_conncected, y['1'].values().flatten(), c='k', label='actual', lw=.2,)\n",
    "\n",
    "plt.legend()\n",
    "#plt.xticks([])\n",
    "\n",
    "plt.xlabel('time / days')\n",
    "plt.ylabel('normalized emissions')\n",
    "plt.tight_layout()\n",
    "plt.savefig('20210814_2_piperazine_forecast_all.pdf', bbox_inches='tight')"
   ]
  },
  {
   "cell_type": "code",
   "execution_count": 189,
   "id": "f37a5607",
   "metadata": {},
   "outputs": [
    {
     "data": {
      "image/png": "[encoded data removed]",
      "text/plain": [
       "<Figure size 504x216 with 1 Axes>"
      ]
     },
     "metadata": {
      "needs_background": "light"
     },
     "output_type": "display_data"
    }
   ],
   "source": [
    "plt.figure(figsize=(7,3))\n",
    "plt.plot(x_axis, means['0'], c='b',  alpha=.9, lw=.2)\n",
    "plt.fill_between(x_axis, means['0']-2*stds['0'], means['0']+2*stds['0'], alpha=.4, color='b', label='forecast',)\n",
    "plt.plot(x_conncected, y['0'].values().flatten(), c='k', label='actual', lw=.2,)\n",
    "\n",
    "plt.legend()\n",
    "#plt.xticks([])\n",
    "\n",
    "plt.xlabel('time / days')\n",
    "plt.ylabel('normalized emissions')\n",
    "plt.tight_layout()\n",
    "plt.savefig('20210814_2_amp_forecast_all.pdf', bbox_inches='tight')"
   ]
  },
  {
   "cell_type": "code",
   "execution_count": 190,
   "id": "9ae57d6c",
   "metadata": {},
   "outputs": [
    {
     "data": {
      "text/plain": [
       "['20210814_2_y_transformer__reduced_feature_set']"
      ]
     },
     "execution_count": 190,
     "metadata": {},
     "output_type": "execute_result"
    }
   ],
   "source": [
    "joblib.dump(model, '20210814_2_2amp_pip_model_reduced_feature_set')\n",
    "joblib.dump(transformer, '20210814_2_x_scaler_reduced_feature_set')\n",
    "joblib.dump(y_transformer, '20210814_2_y_transformer__reduced_feature_set')"
   ]
  },
  {
   "cell_type": "markdown",
   "id": "0144a8cb",
   "metadata": {},
   "source": [
    "transformero build a model for CO2 and NH3"
   ]
  },
  {
   "cell_type": "code",
   "execution_count": 191,
   "id": "d4c8e85e",
   "metadata": {},
   "outputs": [],
   "source": [
    "NEW_TARGETS = [\"Carbon dioxide CO2\", \"Ammonia NH3\"]"
   ]
  },
  {
   "cell_type": "code",
   "execution_count": 192,
   "id": "d898b1bf",
   "metadata": {},
   "outputs": [],
   "source": [
    "y = TimeSeries.from_dataframe(df, value_cols=NEW_TARGETS)\n",
    "x = TimeSeries.from_dataframe(df, value_cols=MEAS_COLUMNS)"
   ]
  },
  {
   "cell_type": "code",
   "execution_count": 193,
   "id": "932c845e",
   "metadata": {},
   "outputs": [],
   "source": [
    "transformer = Scaler()\n",
    "x = transformer.fit_transform(x)\n",
    "\n",
    "y_transformer = Scaler()\n",
    "y = y_transformer.fit_transform(y)"
   ]
  },
  {
   "cell_type": "code",
   "execution_count": null,
   "id": "35ff2630",
   "metadata": {},
   "outputs": [
    {
     "name": "stderr",
     "output_type": "stream",
     "text": [
      "[2021-08-14 23:54:23,752] INFO | darts.models.torch_forecasting_model | Train dataset contains 5368 samples.\n",
      "[2021-08-14 23:54:23,752] INFO | darts.models.torch_forecasting_model | Train dataset contains 5368 samples.\n"
     ]
    }
   ],
   "source": [
    "model_co2 = run_model((x,y), output_chunk_length=2)"
   ]
  },
  {
   "cell_type": "code",
   "execution_count": null,
   "id": "25619c3d",
   "metadata": {},
   "outputs": [],
   "source": [
    "results = parallelized_inference(model_co2, x, y, repeats=1, start=0.1, horizon=2)"
   ]
  },
  {
   "cell_type": "code",
   "execution_count": null,
   "id": "f150f57a",
   "metadata": {},
   "outputs": [],
   "source": [
    "means, stds = summarize_results(results)"
   ]
  },
  {
   "cell_type": "code",
   "execution_count": null,
   "id": "7159008c",
   "metadata": {},
   "outputs": [],
   "source": [
    "x_axis = means['1'].index - y['1'].pd_dataframe().index[0]\n",
    "x_axis = [val.total_seconds() / (60 * 60 * 24) for val in x_axis]\n",
    "\n",
    "x_conncected = y['1'].pd_dataframe().index - y['1'].pd_dataframe().index[0]\n",
    "x_conncected = [val.total_seconds() / (60 * 60 * 24) for val in x_conncected]"
   ]
  },
  {
   "cell_type": "code",
   "execution_count": null,
   "id": "1d5d2365",
   "metadata": {},
   "outputs": [],
   "source": [
    "plt.figure(figsize=(7,3))\n",
    "plt.plot(x_axis, means['1'], c='b',  alpha=.9, lw=.2)\n",
    "plt.fill_between(x_axis, means['1']-2*stds['1'], means['1']+2*stds['1'], alpha=.4, color='b', label='forecast',)\n",
    "plt.plot(x_conncected, y['1'].values().flatten(), c='k', label='actual', lw=.2,)\n",
    "\n",
    "plt.legend()\n",
    "#plt.xticks([])\n",
    "\n",
    "plt.xlabel('time / days')\n",
    "plt.ylabel('normalized emissions')\n",
    "plt.tight_layout()\n",
    "plt.savefig('20210814_2_nh3_forecast_all.pdf', bbox_inches='tight')"
   ]
  },
  {
   "cell_type": "code",
   "execution_count": null,
   "id": "e53f2f32",
   "metadata": {},
   "outputs": [],
   "source": [
    "plt.figure(figsize=(7,3))\n",
    "plt.plot(x_axis, means['0'], c='b',  alpha=.9, lw=.2)\n",
    "plt.fill_between(x_axis, means['0']-2*stds['0'], means['0']+2*stds['0'], alpha=.4, color='b', label='forecast',)\n",
    "plt.plot(x_conncected, y['0'].values().flatten(), c='k', label='actual', lw=.2,)\n",
    "\n",
    "plt.legend()\n",
    "#plt.xticks([])\n",
    "\n",
    "plt.xlabel('time / days')\n",
    "plt.ylabel('normalized emissions')\n",
    "plt.tight_layout()\n",
    "plt.savefig('20210814_2_ammonia_forecast_all.pdf', bbox_inches='tight')"
   ]
  },
  {
   "cell_type": "code",
   "execution_count": null,
   "id": "328b7ff4",
   "metadata": {},
   "outputs": [],
   "source": [
    "joblib.dump(model_co2, '20210814_2_co2_ammonia_model_reduced_feature_set')\n",
    "joblib.dump(y_transformer, '20210814_2_y_transformer_co2_ammonia_reduced_feature_set')"
   ]
  },
  {
   "cell_type": "code",
   "execution_count": null,
   "id": "81e5d10a",
   "metadata": {},
   "outputs": [],
   "source": []
  }
 ],
 "metadata": {
  "kernelspec": {
   "display_name": "Python 3",
   "language": "python",
   "name": "python3"
  },
  "language_info": {
   "codemirror_mode": {
    "name": "ipython",
    "version": 3
   },
   "file_extension": ".py",
   "mimetype": "text/x-python",
   "name": "python",
   "nbconvert_exporter": "python",
   "pygments_lexer": "ipython3",
   "version": "3.8.8"
  }
 },
 "nbformat": 4,
 "nbformat_minor": 5
}
