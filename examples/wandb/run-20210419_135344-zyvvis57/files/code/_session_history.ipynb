{
 "cells": [
  {
   "cell_type": "code",
   "execution_count": 1,
   "id": "1833f9ee",
   "metadata": {},
   "outputs": [],
   "source": [
    "%load_ext autoreload\n",
    "%autoreload 2"
   ]
  },
  {
   "cell_type": "code",
   "execution_count": 2,
   "id": "5153b790",
   "metadata": {},
   "outputs": [],
   "source": [
    "import sys\n",
    "sys.path.append('../src')"
   ]
  },
  {
   "cell_type": "code",
   "execution_count": 3,
   "id": "e2bdd37f",
   "metadata": {},
   "outputs": [],
   "source": [
    "from parse_cesar1 import get_timestep_tuples\n",
    "import pickle"
   ]
  },
  {
   "cell_type": "code",
   "execution_count": 4,
   "id": "0a40a3d3",
   "metadata": {},
   "outputs": [],
   "source": [
    "from pyprocessta.causalimpact import _select_unrelated_x\n",
    "from pyprocessta.model.tcn import transform_data, run_model"
   ]
  },
  {
   "cell_type": "code",
   "execution_count": 5,
   "id": "c2e7ced3",
   "metadata": {},
   "outputs": [],
   "source": [
    "from darts import TimeSeries\n",
    "import pandas as pd\n",
    "from definitions import TARGETS\n",
    "import matplotlib.pyplot as plt\n",
    "\n",
    "MEAS_COLUMNS = [\n",
    "    \"TI-19\",\n",
    "    \"FI-16\",\n",
    "    \"TI-33\",\n",
    "    \"FI-2\",\n",
    "    \"FI-151\",\n",
    "    \"TI-8\",\n",
    "    \"FI-241\",\n",
    "    \"valve-position-12\",  # dry-bed\n",
    "    \"FI-38\",  # stripper\n",
    "    \"PI-28\",  # stripper\n",
    "    \"TI-28\",  # stripper\n",
    "    \"FI-20\",\n",
    "    \"FI-30\",\n",
    "    \"TI-3\",\n",
    "    \"FI-19\",\n",
    "    \"FI-211\",\n",
    "    \"FI-11\",\n",
    "    \"TI-30\",\n",
    "    \"PI-30\",\n",
    "    \"TI-1213\",\n",
    "    \"TI-4\",\n",
    "    \"FI-23\",\n",
    "    \"delta_t\",\n",
    "]"
   ]
  },
  {
   "cell_type": "code",
   "execution_count": 6,
   "id": "541470e4",
   "metadata": {},
   "outputs": [],
   "source": [
    "df = pd.read_pickle('detrended.pkl')\n",
    "df = df.dropna()\n",
    "df['delta_t'] = df['TI-35'] - df[\"TI-4\"]\n",
    "MEAS_COLUMNS.append('delta_t')"
   ]
  },
  {
   "cell_type": "code",
   "execution_count": 7,
   "id": "f9349e6b",
   "metadata": {},
   "outputs": [
    {
     "name": "stdout",
     "output_type": "stream",
     "text": [
      "[<matplotlib.lines.Line2D at 0x7f8611cbda30>]"
     ]
    }
   ],
   "source": [
    "plt.plot(df['delta_t'])"
   ]
  },
  {
   "cell_type": "code",
   "execution_count": 8,
   "id": "aa2554a4",
   "metadata": {},
   "outputs": [],
   "source": [
    "with open('step_times.pkl', 'rb') as handle:\n",
    "    times = pickle.load(handle)"
   ]
  },
  {
   "cell_type": "code",
   "execution_count": 9,
   "id": "1fb831c2",
   "metadata": {},
   "outputs": [],
   "source": [
    "a, b = get_timestep_tuples(df, times, 0)"
   ]
  },
  {
   "cell_type": "code",
   "execution_count": 10,
   "id": "6d5422c3",
   "metadata": {},
   "outputs": [
    {
     "name": "stdout",
     "output_type": "stream",
     "text": [
      "[Timestamp('2020-01-15 11:44:01', freq='2T'),\n",
      " Timestamp('2020-01-15 14:08:01', freq='2T')]"
     ]
    }
   ],
   "source": [
    "a"
   ]
  },
  {
   "cell_type": "code",
   "execution_count": 11,
   "id": "ea1a9f25",
   "metadata": {},
   "outputs": [],
   "source": [
    "def get_causalimpact_splits(x, y, day, times, df): \n",
    "    a, b = get_timestep_tuples(df, times, day)\n",
    " \n",
    "    x_way_before, x_after = x.split_before(a[1])\n",
    "    y_way_before, y_after = y.split_before(pd.Timestamp(a[1]))\n",
    "\n",
    "    _, x_before = x_way_before.split_before(a[0])\n",
    "    _, y_before = y_way_before.split_before(a[0])\n",
    "\n",
    "    x_during, x_test = x_after.split_before(b[1])\n",
    "    y_during, y_test = y_after.split_before(b[1])\n",
    "\n",
    "    return (x_before, y_before), (x_during, y_during), (x_test, y_test)\n",
    "\n",
    "    \n",
    "    "
   ]
  },
  {
   "cell_type": "code",
   "execution_count": 12,
   "id": "9bf3dc59",
   "metadata": {},
   "outputs": [],
   "source": [
    "y = TimeSeries.from_dataframe(df, value_cols=TARGETS)\n",
    "x = TimeSeries.from_dataframe(df, value_cols=MEAS_COLUMNS)"
   ]
  },
  {
   "cell_type": "code",
   "execution_count": 13,
   "id": "8c583a32",
   "metadata": {},
   "outputs": [],
   "source": [
    "before, during, after = get_causalimpact_splits(x, y, 1, times, df)"
   ]
  },
  {
   "cell_type": "code",
   "execution_count": 14,
   "id": "402f0c88",
   "metadata": {},
   "outputs": [],
   "source": [
    "train_tuple, test_tuple, scalers = transform_data(before, [during, after])"
   ]
  },
  {
   "cell_type": "code",
   "execution_count": 15,
   "id": "1cdd4b37",
   "metadata": {},
   "outputs": [],
   "source": [
    "run_model(train_tuple)"
   ]
  },
  {
   "cell_type": "code",
   "execution_count": 16,
   "id": "c936bd08",
   "metadata": {},
   "outputs": [],
   "source": [
    "run_model(train_tuple)"
   ]
  },
  {
   "cell_type": "code",
   "execution_count": 17,
   "id": "e27adcfd",
   "metadata": {},
   "outputs": [
    {
     "data": {
      "text/html": [
       "\n",
       "                Tracking run with wandb version 0.10.26<br/>\n",
       "                Syncing run <strong style=\"color:#cdcd00\">royal-night-2475</strong> to <a href=\"https://wandb.ai\" target=\"_blank\">Weights & Biases</a> <a href=\"https://docs.wandb.com/integrations/jupyter.html\" target=\"_blank\">(Documentation)</a>.<br/>\n",
       "                Project page: <a href=\"https://wandb.ai/kjappelbaum/process_ml\" target=\"_blank\">https://wandb.ai/kjappelbaum/process_ml</a><br/>\n",
       "                Run page: <a href=\"https://wandb.ai/kjappelbaum/process_ml/runs/zyvvis57\" target=\"_blank\">https://wandb.ai/kjappelbaum/process_ml/runs/zyvvis57</a><br/>\n",
       "                Run data is saved locally in <code>/home/kjablonk/documents/timeseries_analysis/pyprocessta/examples/wandb/run-20210419_135344-zyvvis57</code><br/><br/>\n",
       "            "
      ],
      "text/plain": [
       "<IPython.core.display.HTML object>"
      ]
     },
     "metadata": {},
     "output_type": "display_data"
    }
   ],
   "source": [
    "run_model(train_tuple)"
   ]
  }
 ],
 "metadata": {
  "kernelspec": {
   "display_name": "Python 3",
   "language": "python",
   "name": "python3"
  },
  "language_info": {
   "codemirror_mode": {
    "name": "ipython",
    "version": 3
   },
   "file_extension": ".py",
   "mimetype": "text/x-python",
   "name": "python",
   "nbconvert_exporter": "python",
   "pygments_lexer": "ipython3",
   "version": "3.8.8"
  }
 },
 "nbformat": 4,
 "nbformat_minor": 5
}
