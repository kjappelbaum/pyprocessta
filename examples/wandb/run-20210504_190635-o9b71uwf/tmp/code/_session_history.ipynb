{
 "cells": [
  {
   "cell_type": "code",
   "execution_count": 1,
   "id": "urban-introduction",
   "metadata": {},
   "outputs": [],
   "source": [
    "from lightgbm import LGBMRegressor\n",
    "import wandb\n",
    "import pandas as pd \n",
    "from sklearn.preprocessing import StandardScaler\n",
    "from sklearn.model_selection import train_test_split\n",
    "import matplotlib.pyplot as plt\n",
    "from functools import partial\n",
    "from sklearn.model_selection import cross_val_score, train_test_split, KFold\n",
    "import numpy as np \n",
    "\n",
    "MEAS_COLUMNS = [\n",
    "    \"TI-19\",\n",
    "    \"FI-16\",\n",
    "    \"TI-33\",\n",
    "    \"FI-2\",\n",
    "    \"FI-151\",\n",
    "    \"TI-8\",\n",
    "    \"FI-241\",\n",
    "#   \"valve-position-12\",  # dry-bed\n",
    "#     \"FI-38\",  # strippera\n",
    "#     \"PI-28\",  # stripper\n",
    "#     \"TI-28\",  # stripper\n",
    "    \"FI-20\",\n",
    "    \"FI-30\",\n",
    "    \"TI-3\",\n",
    "    \"FI-19\",\n",
    "    \"FI-211\",\n",
    "    \"FI-11\",\n",
    "    \"TI-30\",\n",
    "    \"PI-30\",\n",
    "    \"TI-1213\",\n",
    "#     \"TI-4\",\n",
    "    \"FI-23\",\n",
    "    \"delta_t\",\n",
    "]\n",
    "\n",
    "TARGETS_clean = ['2-Amino-2-methylpropanol C4H11NO', 'Piperazine C4H10N2', \n",
    "                 \"Carbon dioxide CO2\", \"Ammonia NH3\"]"
   ]
  },
  {
   "cell_type": "code",
   "execution_count": 2,
   "id": "affiliated-stopping",
   "metadata": {},
   "outputs": [],
   "source": [
    "df = pd.read_pickle('df_dropped.pkl')"
   ]
  },
  {
   "cell_type": "code",
   "execution_count": 3,
   "id": "unavailable-jersey",
   "metadata": {},
   "outputs": [],
   "source": [
    "X, y = df[MEAS_COLUMNS], df[TARGETS_clean].values"
   ]
  },
  {
   "cell_type": "code",
   "execution_count": 4,
   "id": "alternative-sewing",
   "metadata": {},
   "outputs": [],
   "source": [
    "scaler = StandardScaler()"
   ]
  },
  {
   "cell_type": "code",
   "execution_count": 5,
   "id": "japanese-copying",
   "metadata": {},
   "outputs": [],
   "source": [
    "X_ = scaler.fit_transform(X)"
   ]
  },
  {
   "cell_type": "code",
   "execution_count": 6,
   "id": "adapted-associate",
   "metadata": {},
   "outputs": [],
   "source": [
    "config = {\n",
    "    'n_estimators': {\n",
    "        'distribution': 'int_uniform',\n",
    "        'min': 10,\n",
    "        'max': 5000\n",
    "    },\n",
    "    'max_depth': {\n",
    "        'distribution': 'int_uniform',\n",
    "        'min': 5,\n",
    "        'max': 100\n",
    "    },\n",
    "    'num_leaves': {\n",
    "        'distribution': 'int_uniform',\n",
    "        'min': 5,\n",
    "        'max': 500\n",
    "    },\n",
    "    'reg_alpha': {\n",
    "        'distribution': 'log_uniform',\n",
    "        'min': 0.00001,\n",
    "        'max': 0.4\n",
    "    },\n",
    "    'reg_lambda': {\n",
    "        'distribution': 'log_uniform',\n",
    "        'min': 0.00001,\n",
    "        'max': 0.4\n",
    "    },\n",
    "    'subsample': {\n",
    "        'distribution': 'uniform',\n",
    "        'min': 0.4,\n",
    "        'max': 1.0\n",
    "    },\n",
    "    'colsample_bytree': {\n",
    "        'distribution': 'uniform',\n",
    "        'min': 0.01,\n",
    "        'max': 1.0\n",
    "    },\n",
    "    'min_child_weight': {\n",
    "        'distribution': 'uniform',\n",
    "        'min': 0.001,\n",
    "        'max': 0.1,\n",
    "    },\n",
    "}"
   ]
  },
  {
   "cell_type": "code",
   "execution_count": 7,
   "id": "hourly-dodge",
   "metadata": {},
   "outputs": [],
   "source": [
    "def get_sweep_id(method):\n",
    "    \"\"\"return us a sweep id (required for running the sweep)\"\"\"\n",
    "    sweep_config = {\n",
    "        'method': method,\n",
    "        'metric': {\n",
    "            'name': 'cv_mean',\n",
    "            'goal': 'minimize'\n",
    "        },\n",
    "        'early_terminate': {\n",
    "            'type': 'hyperband',\n",
    "            's': 2,\n",
    "            'eta': 3,\n",
    "            'max_iter': 30\n",
    "        },\n",
    "        'parameters': config,\n",
    "    }\n",
    "    sweep_id = wandb.sweep(sweep_config, project='process_ml')\n",
    "\n",
    "    return sweep_id"
   ]
  },
  {
   "cell_type": "code",
   "execution_count": 8,
   "id": "included-shell",
   "metadata": {},
   "outputs": [],
   "source": [
    "def train(index):\n",
    "    # Config is a variable that holds and saves hyperparameters and inputs\n",
    "\n",
    "    configs = {\n",
    "        'n_estimators': 100,\n",
    "        'max_depth': 10,\n",
    "        'num_leaves': 50,\n",
    "        'reg_alpha': 0.00001,\n",
    "        'reg_lambda': 0.00001,\n",
    "        'subsample': 0.2,\n",
    "        'colsample_bytree': 0.2,\n",
    "        'min_child_weight': 0.001,\n",
    "    }\n",
    "\n",
    "    # Initilize a new wandb run\n",
    "    wandb.init(project='process_ml', config=configs)\n",
    "\n",
    "    config = wandb.config\n",
    "    config['objective'] =  'huber'\n",
    "\n",
    "    regressor = LGBMRegressor(**config)\n",
    "\n",
    "    cv = cross_val_score(regressor, X_, y[:, index], n_jobs=-1, cv=KFold(n_splits=5), scoring='neg_mean_absolute_error')\n",
    "\n",
    "    mean = np.abs(cv.mean())\n",
    "    std = np.abs(cv.std())\n",
    "    wandb.log({'cv_mean': mean})\n",
    "    wandb.log({'cv_std': std})\n",
    "\n",
    "    wandb.run.summary['cv_mean'] = mean\n",
    "    wandb.run.summary['cv_std'] = std"
   ]
  },
  {
   "cell_type": "code",
   "execution_count": 9,
   "id": "dramatic-trust",
   "metadata": {},
   "outputs": [
    {
     "data": {
      "text/html": [
       "\n",
       "                Tracking run with wandb version 0.10.28<br/>\n",
       "                Syncing run <strong style=\"color:#cdcd00\">laced-sweep-438</strong> to <a href=\"https://wandb.ai\" target=\"_blank\">Weights & Biases</a> <a href=\"https://docs.wandb.com/integrations/jupyter.html\" target=\"_blank\">(Documentation)</a>.<br/>\n",
       "                Project page: <a href=\"https://wandb.ai/kjappelbaum/process_ml\" target=\"_blank\">https://wandb.ai/kjappelbaum/process_ml</a><br/>\n",
       "                Sweep page: <a href=\"https://wandb.ai/kjappelbaum/process_ml/sweeps/ubqzph3b\" target=\"_blank\">https://wandb.ai/kjappelbaum/process_ml/sweeps/ubqzph3b</a><br/>\n",
       "Run page: <a href=\"https://wandb.ai/kjappelbaum/process_ml/runs/o9b71uwf\" target=\"_blank\">https://wandb.ai/kjappelbaum/process_ml/runs/o9b71uwf</a><br/>\n",
       "                Run data is saved locally in <code>/Users/kevinmaikjablonka/Dropbox (LSMO)/Documents/open_source/pyprocessta/examples/wandb/run-20210504_190635-o9b71uwf</code><br/><br/>\n",
       "            "
      ],
      "text/plain": [
       "<IPython.core.display.HTML object>"
      ]
     },
     "metadata": {},
     "output_type": "display_data"
    }
   ],
   "source": [
    "sweep_id = get_sweep_id('bayes')\n",
    "train_func = partial(train, index=int(0))\n",
    "wandb.agent(sweep_id, function=train_func)"
   ]
  }
 ],
 "metadata": {
  "kernelspec": {
   "display_name": "Python 3",
   "language": "python",
   "name": "python3"
  },
  "language_info": {
   "codemirror_mode": {
    "name": "ipython",
    "version": 3
   },
   "file_extension": ".py",
   "mimetype": "text/x-python",
   "name": "python",
   "nbconvert_exporter": "python",
   "pygments_lexer": "ipython3",
   "version": "3.8.8"
  }
 },
 "nbformat": 4,
 "nbformat_minor": 5
}
