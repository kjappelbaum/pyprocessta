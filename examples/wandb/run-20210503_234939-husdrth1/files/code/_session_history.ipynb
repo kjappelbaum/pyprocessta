{
 "cells": [
  {
   "cell_type": "code",
   "execution_count": 1,
   "id": "constant-hands",
   "metadata": {},
   "outputs": [],
   "source": [
    "from xgboost import XGBRegressor"
   ]
  },
  {
   "cell_type": "code",
   "execution_count": 2,
   "id": "verified-chick",
   "metadata": {},
   "outputs": [],
   "source": [
    "!pip install xgboost"
   ]
  },
  {
   "cell_type": "code",
   "execution_count": 3,
   "id": "stretch-worst",
   "metadata": {},
   "outputs": [],
   "source": [
    "from xgboost import XGBRegressor"
   ]
  },
  {
   "cell_type": "code",
   "execution_count": 4,
   "id": "seasonal-lending",
   "metadata": {},
   "outputs": [],
   "source": [
    "from xgboost import XGBRegressor\n",
    "import pandas as pd \n",
    "from sklearn.preprocessing import StandardScaler"
   ]
  },
  {
   "cell_type": "code",
   "execution_count": 5,
   "id": "responsible-isolation",
   "metadata": {},
   "outputs": [],
   "source": [
    "df = pd.read_pickle('df_dropped')"
   ]
  },
  {
   "cell_type": "code",
   "execution_count": 6,
   "id": "respiratory-custom",
   "metadata": {},
   "outputs": [],
   "source": [
    "df = pd.read_pickle('df_dropped.pkl')"
   ]
  },
  {
   "cell_type": "code",
   "execution_count": 7,
   "id": "objective-arabic",
   "metadata": {},
   "outputs": [
    {
     "name": "stdout",
     "output_type": "stream",
     "text": [
      "                          H2O  Carbon dioxide CO2  Ammonia NH3  \\\n",
      "2010-01-01 00:00:00 -9.338285           -1.260562    -1.237421   \n",
      "2010-01-01 00:05:00 -9.412928           -1.260599    -1.238284   \n",
      "2010-01-01 00:10:00 -9.467572           -1.270636    -1.239146   \n",
      "2010-01-01 00:15:00 -9.467216           -1.270673    -1.240009   \n",
      "2010-01-01 00:20:00 -9.466860           -1.265709    -1.240872   \n",
      "\n",
      "                     2-Amino-2-methylpropanol C4H11NO  Piperazine C4H10N2  \\\n",
      "2010-01-01 00:00:00                        -76.176279          -26.592374   \n",
      "2010-01-01 00:05:00                        -76.827911          -26.670604   \n",
      "2010-01-01 00:10:00                        -76.864542          -26.838833   \n",
      "2010-01-01 00:15:00                        -76.506174          -26.717062   \n",
      "2010-01-01 00:20:00                        -76.567805          -26.700292   \n",
      "\n",
      "                        Oxygen      PI-2      TI-2      FI-2      PI-3  ...  \\\n",
      "2010-01-01 00:00:00  15.619122  0.000198 -0.237440 -1.936132 -0.009789  ...   \n",
      "2010-01-01 00:05:00  15.579063  0.000529 -0.217689  0.604695 -0.009416  ...   \n",
      "2010-01-01 00:10:00  15.654005  0.000465 -0.271928 -4.456223 -0.009643  ...   \n",
      "2010-01-01 00:15:00  15.658946  0.000441 -0.251111 -2.567251 -0.009400  ...   \n",
      "2010-01-01 00:20:00  15.598888  0.000285 -0.216942 -0.527949 -0.009396  ...   \n",
      "\n",
      "                         FI-151    TI-151    TI-152    TI-212     FI-241  \\\n",
      "2010-01-01 00:00:00 -905.155509 -0.116558  0.284825 -1.593279  19.249358   \n",
      "2010-01-01 00:05:00 -909.054156 -0.122209  0.292335 -1.645369  18.179695   \n",
      "2010-01-01 00:10:00 -939.372726 -0.123037  0.305385 -1.653758  19.805359   \n",
      "2010-01-01 00:15:00 -930.139537 -0.133873  0.365939 -1.633634  17.203484   \n",
      "2010-01-01 00:20:00 -919.436622 -0.147239  0.360144 -1.686569  16.144501   \n",
      "\n",
      "                       TI-241    TI-242  valve-position-12   TI-1213   delta_t  \n",
      "2010-01-01 00:00:00  0.126896  1.460131          -0.027005 -0.359673 -0.435276  \n",
      "2010-01-01 00:05:00  0.102613  1.471488          -0.026998 -0.327701 -0.418425  \n",
      "2010-01-01 00:10:00  0.052823  1.418737          -0.026991 -0.341903 -0.522487  \n",
      "2010-01-01 00:15:00  0.037802  1.405860          -0.026984 -0.358361 -0.537595  \n",
      "2010-01-01 00:20:00  0.078390  1.404781          -0.026977 -0.398216 -0.302977  \n",
      "\n",
      "[5 rows x 67 columns]"
     ]
    }
   ],
   "source": [
    "df.head()"
   ]
  },
  {
   "cell_type": "code",
   "execution_count": 8,
   "id": "considered-cutting",
   "metadata": {},
   "outputs": [],
   "source": [
    "from xgboost import XGBRegressor\n",
    "import pandas as pd \n",
    "from sklearn.preprocessing import StandardScaler\n",
    "\n",
    "MEAS_COLUMNS = [\n",
    "    \"TI-19\",\n",
    "    \"FI-16\",\n",
    "    \"TI-33\",\n",
    "    \"FI-2\",\n",
    "    \"FI-151\",\n",
    "    \"TI-8\",\n",
    "    \"FI-241\",\n",
    "#   \"valve-position-12\",  # dry-bed\n",
    "#     \"FI-38\",  # stripper\n",
    "#     \"PI-28\",  # stripper\n",
    "#     \"TI-28\",  # stripper\n",
    "    \"FI-20\",\n",
    "    \"FI-30\",\n",
    "    \"TI-3\",\n",
    "    \"FI-19\",\n",
    "    \"FI-211\",\n",
    "    \"FI-11\",\n",
    "    \"TI-30\",\n",
    "    \"PI-30\",\n",
    "    \"TI-1213\",\n",
    "#     \"TI-4\",\n",
    "    \"FI-23\",\n",
    "    \"delta_t\",\n",
    "]"
   ]
  },
  {
   "cell_type": "code",
   "execution_count": 9,
   "id": "experimental-specialist",
   "metadata": {},
   "outputs": [],
   "source": [
    "from xgboost import XGBRegressor\n",
    "import pandas as pd \n",
    "from sklearn.preprocessing import StandardScaler\n",
    "\n",
    "MEAS_COLUMNS = [\n",
    "    \"TI-19\",\n",
    "    \"FI-16\",\n",
    "    \"TI-33\",\n",
    "    \"FI-2\",\n",
    "    \"FI-151\",\n",
    "    \"TI-8\",\n",
    "    \"FI-241\",\n",
    "#   \"valve-position-12\",  # dry-bed\n",
    "#     \"FI-38\",  # stripper\n",
    "#     \"PI-28\",  # stripper\n",
    "#     \"TI-28\",  # stripper\n",
    "    \"FI-20\",\n",
    "    \"FI-30\",\n",
    "    \"TI-3\",\n",
    "    \"FI-19\",\n",
    "    \"FI-211\",\n",
    "    \"FI-11\",\n",
    "    \"TI-30\",\n",
    "    \"PI-30\",\n",
    "    \"TI-1213\",\n",
    "#     \"TI-4\",\n",
    "    \"FI-23\",\n",
    "    \"delta_t\",\n",
    "]\n",
    "\n",
    "TARGETS_clean = ['2-Amino-2-methylpropanol C4H11NO', 'Piperazine C4H10N2']"
   ]
  },
  {
   "cell_type": "code",
   "execution_count": 10,
   "id": "devoted-intention",
   "metadata": {},
   "outputs": [],
   "source": [
    "from xgboost import XGBRegressor\n",
    "import pandas as pd \n",
    "from sklearn.preprocessing import StandardScaler\n",
    "from sklearn.model_selection import train_test_split\n",
    "\n",
    "MEAS_COLUMNS = [\n",
    "    \"TI-19\",\n",
    "    \"FI-16\",\n",
    "    \"TI-33\",\n",
    "    \"FI-2\",\n",
    "    \"FI-151\",\n",
    "    \"TI-8\",\n",
    "    \"FI-241\",\n",
    "#   \"valve-position-12\",  # dry-bed\n",
    "#     \"FI-38\",  # stripper\n",
    "#     \"PI-28\",  # stripper\n",
    "#     \"TI-28\",  # stripper\n",
    "    \"FI-20\",\n",
    "    \"FI-30\",\n",
    "    \"TI-3\",\n",
    "    \"FI-19\",\n",
    "    \"FI-211\",\n",
    "    \"FI-11\",\n",
    "    \"TI-30\",\n",
    "    \"PI-30\",\n",
    "    \"TI-1213\",\n",
    "#     \"TI-4\",\n",
    "    \"FI-23\",\n",
    "    \"delta_t\",\n",
    "]\n",
    "\n",
    "TARGETS_clean = ['2-Amino-2-methylpropanol C4H11NO', 'Piperazine C4H10N2']"
   ]
  },
  {
   "cell_type": "code",
   "execution_count": 11,
   "id": "searching-miller",
   "metadata": {},
   "outputs": [],
   "source": [
    "X, y = df[MEAS_COLUMNS], y[TARGETS_clean[0]]"
   ]
  },
  {
   "cell_type": "code",
   "execution_count": 12,
   "id": "signed-business",
   "metadata": {},
   "outputs": [],
   "source": [
    "X, y = df[MEAS_COLUMNS], df[TARGETS_clean[0]]"
   ]
  },
  {
   "cell_type": "code",
   "execution_count": 13,
   "id": "spoken-advantage",
   "metadata": {},
   "outputs": [],
   "source": [
    "X_train, X_test, y_train, y_test = train_test_split(X, y, train_size=0.8)"
   ]
  },
  {
   "cell_type": "code",
   "execution_count": 14,
   "id": "mobile-copper",
   "metadata": {},
   "outputs": [],
   "source": [
    "scaler = Scaler()"
   ]
  },
  {
   "cell_type": "code",
   "execution_count": 15,
   "id": "satellite-adelaide",
   "metadata": {},
   "outputs": [],
   "source": [
    "scaler = StandardScaler()"
   ]
  },
  {
   "cell_type": "code",
   "execution_count": 16,
   "id": "executed-sunset",
   "metadata": {},
   "outputs": [],
   "source": [
    "X_train = scaler.fit_transform(X_train)\n",
    "X_test = scaler.transform(X_test)"
   ]
  },
  {
   "cell_type": "code",
   "execution_count": 17,
   "id": "surprising-interstate",
   "metadata": {},
   "outputs": [],
   "source": [
    "xgb = XGBRegressor()"
   ]
  },
  {
   "cell_type": "code",
   "execution_count": 18,
   "id": "ahead-luxury",
   "metadata": {},
   "outputs": [],
   "source": [
    "xgb.fit_transform(X_train, y_train)"
   ]
  },
  {
   "cell_type": "code",
   "execution_count": 19,
   "id": "italic-contract",
   "metadata": {},
   "outputs": [
    {
     "name": "stdout",
     "output_type": "stream",
     "text": [
      "XGBRegressor(base_score=0.5, booster='gbtree', colsample_bylevel=1,\n",
      "             colsample_bynode=1, colsample_bytree=1, gamma=0, gpu_id=-1,\n",
      "             importance_type='gain', interaction_constraints='',\n",
      "             learning_rate=0.300000012, max_delta_step=0, max_depth=6,\n",
      "             min_child_weight=1, missing=nan, monotone_constraints='()',\n",
      "             n_estimators=100, n_jobs=8, num_parallel_tree=1, random_state=0,\n",
      "             reg_alpha=0, reg_lambda=1, scale_pos_weight=1, subsample=1,\n",
      "             tree_method='exact', validate_parameters=1, verbosity=None)"
     ]
    }
   ],
   "source": [
    "xgb.fit(X_train, y_train)"
   ]
  },
  {
   "cell_type": "code",
   "execution_count": 20,
   "id": "invisible-longitude",
   "metadata": {},
   "outputs": [],
   "source": [
    "predicted = xgb.predict(X_test)"
   ]
  },
  {
   "cell_type": "code",
   "execution_count": 21,
   "id": "peaceful-commonwealth",
   "metadata": {},
   "outputs": [],
   "source": [
    "from xgboost import XGBRegressor\n",
    "import pandas as pd \n",
    "from sklearn.preprocessing import StandardScaler\n",
    "from sklearn.model_selection import train_test_split\n",
    "import matplot.pyplot as plt\n",
    "\n",
    "MEAS_COLUMNS = [\n",
    "    \"TI-19\",\n",
    "    \"FI-16\",\n",
    "    \"TI-33\",\n",
    "    \"FI-2\",\n",
    "    \"FI-151\",\n",
    "    \"TI-8\",\n",
    "    \"FI-241\",\n",
    "#   \"valve-position-12\",  # dry-bed\n",
    "#     \"FI-38\",  # stripper\n",
    "#     \"PI-28\",  # stripper\n",
    "#     \"TI-28\",  # stripper\n",
    "    \"FI-20\",\n",
    "    \"FI-30\",\n",
    "    \"TI-3\",\n",
    "    \"FI-19\",\n",
    "    \"FI-211\",\n",
    "    \"FI-11\",\n",
    "    \"TI-30\",\n",
    "    \"PI-30\",\n",
    "    \"TI-1213\",\n",
    "#     \"TI-4\",\n",
    "    \"FI-23\",\n",
    "    \"delta_t\",\n",
    "]\n",
    "\n",
    "TARGETS_clean = ['2-Amino-2-methylpropanol C4H11NO', 'Piperazine C4H10N2']"
   ]
  },
  {
   "cell_type": "code",
   "execution_count": 22,
   "id": "needed-guidance",
   "metadata": {},
   "outputs": [],
   "source": [
    "from xgboost import XGBRegressor\n",
    "import pandas as pd \n",
    "from sklearn.preprocessing import StandardScaler\n",
    "from sklearn.model_selection import train_test_split\n",
    "import matplotlib.pyplot as plt\n",
    "\n",
    "MEAS_COLUMNS = [\n",
    "    \"TI-19\",\n",
    "    \"FI-16\",\n",
    "    \"TI-33\",\n",
    "    \"FI-2\",\n",
    "    \"FI-151\",\n",
    "    \"TI-8\",\n",
    "    \"FI-241\",\n",
    "#   \"valve-position-12\",  # dry-bed\n",
    "#     \"FI-38\",  # stripper\n",
    "#     \"PI-28\",  # stripper\n",
    "#     \"TI-28\",  # stripper\n",
    "    \"FI-20\",\n",
    "    \"FI-30\",\n",
    "    \"TI-3\",\n",
    "    \"FI-19\",\n",
    "    \"FI-211\",\n",
    "    \"FI-11\",\n",
    "    \"TI-30\",\n",
    "    \"PI-30\",\n",
    "    \"TI-1213\",\n",
    "#     \"TI-4\",\n",
    "    \"FI-23\",\n",
    "    \"delta_t\",\n",
    "]\n",
    "\n",
    "TARGETS_clean = ['2-Amino-2-methylpropanol C4H11NO', 'Piperazine C4H10N2']"
   ]
  },
  {
   "cell_type": "code",
   "execution_count": 23,
   "id": "dangerous-night",
   "metadata": {},
   "outputs": [
    {
     "name": "stdout",
     "output_type": "stream",
     "text": [
      "<matplotlib.collections.PathCollection at 0x7f910943d550>"
     ]
    }
   ],
   "source": [
    "plt.scatter(y_test, predicted)"
   ]
  },
  {
   "cell_type": "code",
   "execution_count": 24,
   "id": "focal-earthquake",
   "metadata": {},
   "outputs": [],
   "source": [
    "X, y = df[MEAS_COLUMNS], df[TARGETS_clean[1]]"
   ]
  },
  {
   "cell_type": "code",
   "execution_count": 25,
   "id": "greater-booking",
   "metadata": {},
   "outputs": [],
   "source": [
    "X_train, X_test, y_train, y_test = train_test_split(X, y, train_size=0.8)"
   ]
  },
  {
   "cell_type": "code",
   "execution_count": 26,
   "id": "meaningful-marble",
   "metadata": {},
   "outputs": [],
   "source": [
    "scaler = StandardScaler()"
   ]
  },
  {
   "cell_type": "code",
   "execution_count": 27,
   "id": "charitable-cattle",
   "metadata": {},
   "outputs": [],
   "source": [
    "X_train = scaler.fit_transform(X_train)\n",
    "X_test = scaler.transform(X_test)"
   ]
  },
  {
   "cell_type": "code",
   "execution_count": 28,
   "id": "ultimate-watts",
   "metadata": {},
   "outputs": [],
   "source": [
    "xgb = XGBRegressor()"
   ]
  },
  {
   "cell_type": "code",
   "execution_count": 29,
   "id": "reserved-tenant",
   "metadata": {},
   "outputs": [
    {
     "name": "stdout",
     "output_type": "stream",
     "text": [
      "XGBRegressor(base_score=0.5, booster='gbtree', colsample_bylevel=1,\n",
      "             colsample_bynode=1, colsample_bytree=1, gamma=0, gpu_id=-1,\n",
      "             importance_type='gain', interaction_constraints='',\n",
      "             learning_rate=0.300000012, max_delta_step=0, max_depth=6,\n",
      "             min_child_weight=1, missing=nan, monotone_constraints='()',\n",
      "             n_estimators=100, n_jobs=8, num_parallel_tree=1, random_state=0,\n",
      "             reg_alpha=0, reg_lambda=1, scale_pos_weight=1, subsample=1,\n",
      "             tree_method='exact', validate_parameters=1, verbosity=None)"
     ]
    }
   ],
   "source": [
    "xgb.fit(X_train, y_train)"
   ]
  },
  {
   "cell_type": "code",
   "execution_count": 30,
   "id": "protecting-absolute",
   "metadata": {},
   "outputs": [],
   "source": [
    "predicted = xgb.predict(X_test)"
   ]
  },
  {
   "cell_type": "code",
   "execution_count": 31,
   "id": "separated-model",
   "metadata": {},
   "outputs": [
    {
     "name": "stdout",
     "output_type": "stream",
     "text": [
      "<matplotlib.collections.PathCollection at 0x7f9108a16a60>"
     ]
    }
   ],
   "source": [
    "plt.scatter(y_test, predicted)"
   ]
  },
  {
   "cell_type": "code",
   "execution_count": 32,
   "id": "legendary-attraction",
   "metadata": {},
   "outputs": [
    {
     "name": "stdout",
     "output_type": "stream",
     "text": [
      "<matplotlib.collections.PathCollection at 0x7f9108a73a90>"
     ]
    }
   ],
   "source": [
    "plt.scatter(y_test, predicted, s=1)"
   ]
  },
  {
   "cell_type": "code",
   "execution_count": 33,
   "id": "unknown-edward",
   "metadata": {},
   "outputs": [],
   "source": [
    "target_0_config = { # https://wandb.ai/kjappelbaum/process_ml/runs/c0g28ueb/overview?workspace=user-kjappelbaum\n",
    "    'n_estimators': 4944,\n",
    "    'max_depth': 84,\n",
    "    'num_leaves': 411,\n",
    "    'reg_alpha': 1.202,\n",
    "    'reg_lambda': 1.156,\n",
    "    'subsample': 0.0986,\n",
    "    'colsample_bytree': 0.7667,\n",
    "    'min_child_weight': 0.02274,\n",
    "}"
   ]
  },
  {
   "cell_type": "code",
   "execution_count": 34,
   "id": "tamil-transaction",
   "metadata": {},
   "outputs": [],
   "source": [
    "xgb = XGBRegressor(**target_0_config)"
   ]
  },
  {
   "cell_type": "code",
   "execution_count": 35,
   "id": "auburn-independence",
   "metadata": {},
   "outputs": [
    {
     "name": "stdout",
     "output_type": "stream",
     "text": [
      "XGBRegressor(base_score=0.5, booster='gbtree', colsample_bylevel=1,\n",
      "             colsample_bynode=1, colsample_bytree=0.7667, gamma=0, gpu_id=-1,\n",
      "             importance_type='gain', interaction_constraints='',\n",
      "             learning_rate=0.300000012, max_delta_step=0, max_depth=84,\n",
      "             min_child_weight=0.02274, missing=nan, monotone_constraints='()',\n",
      "             n_estimators=4944, n_jobs=8, num_leaves=411, num_parallel_tree=1,\n",
      "             random_state=0, reg_alpha=1.202, reg_lambda=1.156,\n",
      "             scale_pos_weight=1, subsample=0.0986, tree_method='exact',\n",
      "             validate_parameters=1, verbosity=None)"
     ]
    }
   ],
   "source": [
    "xgb.fit(X_train, y_train)"
   ]
  },
  {
   "cell_type": "code",
   "execution_count": 36,
   "id": "capable-explanation",
   "metadata": {},
   "outputs": [],
   "source": [
    "predicted = xgb.predict(X_test)"
   ]
  },
  {
   "cell_type": "code",
   "execution_count": 37,
   "id": "dynamic-digest",
   "metadata": {},
   "outputs": [
    {
     "name": "stdout",
     "output_type": "stream",
     "text": [
      "<matplotlib.collections.PathCollection at 0x7f909ec3c7c0>"
     ]
    }
   ],
   "source": [
    "plt.scatter(y_test, predicted, s=1)"
   ]
  },
  {
   "cell_type": "code",
   "execution_count": 38,
   "id": "hungarian-jason",
   "metadata": {},
   "outputs": [],
   "source": [
    "predicted = xgb.predict(X_test)"
   ]
  },
  {
   "cell_type": "code",
   "execution_count": 39,
   "id": "northern-computer",
   "metadata": {},
   "outputs": [
    {
     "name": "stdout",
     "output_type": "stream",
     "text": [
      "<matplotlib.collections.PathCollection at 0x7f909ec917c0>"
     ]
    }
   ],
   "source": [
    "plt.scatter(y_test, predicted, s=1)"
   ]
  },
  {
   "cell_type": "code",
   "execution_count": 40,
   "id": "micro-surfing",
   "metadata": {},
   "outputs": [],
   "source": [
    "target_0_config = { # https://wandb.ai/kjappelbaum/process_ml/runs/c0g28ueb/overview?workspace=user-kjappelbaum\n",
    "    'n_estimators': 4944,\n",
    "#     'max_depth': 84,\n",
    "#     'num_leaves': 411,\n",
    "    'reg_alpha': 1.202,\n",
    "    'reg_lambda': 1.156,\n",
    "#     'subsample': 0.0986,\n",
    "#     'colsample_bytree': 0.7667,\n",
    "#     'min_child_weight': 0.02274,\n",
    "}"
   ]
  },
  {
   "cell_type": "code",
   "execution_count": 41,
   "id": "experimental-tissue",
   "metadata": {},
   "outputs": [],
   "source": [
    "xgb = XGBRegressor(**target_0_config)"
   ]
  },
  {
   "cell_type": "code",
   "execution_count": 42,
   "id": "interpreted-conversion",
   "metadata": {},
   "outputs": [
    {
     "name": "stdout",
     "output_type": "stream",
     "text": [
      "XGBRegressor(base_score=0.5, booster='gbtree', colsample_bylevel=1,\n",
      "             colsample_bynode=1, colsample_bytree=1, gamma=0, gpu_id=-1,\n",
      "             importance_type='gain', interaction_constraints='',\n",
      "             learning_rate=0.300000012, max_delta_step=0, max_depth=6,\n",
      "             min_child_weight=1, missing=nan, monotone_constraints='()',\n",
      "             n_estimators=4944, n_jobs=8, num_parallel_tree=1, random_state=0,\n",
      "             reg_alpha=1.202, reg_lambda=1.156, scale_pos_weight=1, subsample=1,\n",
      "             tree_method='exact', validate_parameters=1, verbosity=None)"
     ]
    }
   ],
   "source": [
    "xgb.fit(X_train, y_train)"
   ]
  },
  {
   "cell_type": "code",
   "execution_count": 43,
   "id": "formed-services",
   "metadata": {},
   "outputs": [],
   "source": [
    "predicted = xgb.predict(X_test)"
   ]
  },
  {
   "cell_type": "code",
   "execution_count": 44,
   "id": "static-wrong",
   "metadata": {},
   "outputs": [
    {
     "name": "stdout",
     "output_type": "stream",
     "text": [
      "<matplotlib.collections.PathCollection at 0x7f909ed578e0>"
     ]
    }
   ],
   "source": [
    "plt.scatter(y_test, predicted, s=1)"
   ]
  },
  {
   "cell_type": "code",
   "execution_count": 45,
   "id": "defensive-particular",
   "metadata": {},
   "outputs": [],
   "source": [
    "config = {\n",
    "    'n_estimators': {\n",
    "        'distribution': 'int_uniform',\n",
    "        'min': 10,\n",
    "        'max': 5000\n",
    "    },\n",
    "    'max_depth': {\n",
    "        'distribution': 'int_uniform',\n",
    "        'min': 5,\n",
    "        'max': 100\n",
    "    },\n",
    "    'num_leaves': {\n",
    "        'distribution': 'int_uniform',\n",
    "        'min': 5,\n",
    "        'max': 500\n",
    "    },\n",
    "    'reg_alpha': {\n",
    "        'distribution': 'log_uniform',\n",
    "        'min': 0.00001,\n",
    "        'max': 0.4\n",
    "    },\n",
    "    'reg_lambda': {\n",
    "        'distribution': 'log_uniform',\n",
    "        'min': 0.00001,\n",
    "        'max': 0.4\n",
    "    },\n",
    "    'subsample': {\n",
    "        'distribution': 'uniform',\n",
    "        'min': 0.01,\n",
    "        'max': 1.0\n",
    "    },\n",
    "    'colsample_bytree': {\n",
    "        'distribution': 'uniform',\n",
    "        'min': 0.01,\n",
    "        'max': 1.0\n",
    "    },\n",
    "    'min_child_weight': {\n",
    "        'distribution': 'uniform',\n",
    "        'min': 0.001,\n",
    "        'max': 0.1,\n",
    "    },\n",
    "}"
   ]
  },
  {
   "cell_type": "code",
   "execution_count": 46,
   "id": "italic-vehicle",
   "metadata": {},
   "outputs": [],
   "source": [
    "config = {\n",
    "    'n_estimators': {\n",
    "        'distribution': 'int_uniform',\n",
    "        'min': 10,\n",
    "        'max': 5000\n",
    "    },\n",
    "    'max_depth': {\n",
    "        'distribution': 'int_uniform',\n",
    "        'min': 5,\n",
    "        'max': 100\n",
    "    },\n",
    "    'num_leaves': {\n",
    "        'distribution': 'int_uniform',\n",
    "        'min': 5,\n",
    "        'max': 500\n",
    "    },\n",
    "    'reg_alpha': {\n",
    "        'distribution': 'log_uniform',\n",
    "        'min': 0.00001,\n",
    "        'max': 0.4\n",
    "    },\n",
    "    'reg_lambda': {\n",
    "        'distribution': 'log_uniform',\n",
    "        'min': 0.00001,\n",
    "        'max': 0.4\n",
    "    },\n",
    "    'subsample': {\n",
    "        'distribution': 'uniform',\n",
    "        'min': 0.4,\n",
    "        'max': 1.0\n",
    "    },\n",
    "    'colsample_bytree': {\n",
    "        'distribution': 'uniform',\n",
    "        'min': 0.01,\n",
    "        'max': 1.0\n",
    "    },\n",
    "    'min_child_weight': {\n",
    "        'distribution': 'uniform',\n",
    "        'min': 0.001,\n",
    "        'max': 0.1,\n",
    "    },\n",
    "}"
   ]
  },
  {
   "cell_type": "code",
   "execution_count": 47,
   "id": "settled-insured",
   "metadata": {},
   "outputs": [],
   "source": [
    "def get_sweep_id(method):\n",
    "    \"\"\"return us a sweep id (required for running the sweep)\"\"\"\n",
    "    sweep_config = {\n",
    "        'method': method,\n",
    "        'metric': {\n",
    "            'name': 'cv_mean',\n",
    "            'goal': 'minimize'\n",
    "        },\n",
    "        'early_terminate': {\n",
    "            'type': 'hyperband',\n",
    "            's': 2,\n",
    "            'eta': 3,\n",
    "            'max_iter': 30\n",
    "        },\n",
    "        'parameters': config,\n",
    "    }\n",
    "    sweep_id = wandb.sweep(sweep_config, project='process_ml')\n",
    "\n",
    "    return sweep_id"
   ]
  },
  {
   "cell_type": "code",
   "execution_count": 48,
   "id": "architectural-front",
   "metadata": {},
   "outputs": [],
   "source": [
    "from lightgbm import LGBMRegressor\n",
    "import wandb\n",
    "import pandas as pd \n",
    "from sklearn.preprocessing import StandardScaler\n",
    "from sklearn.model_selection import train_test_split\n",
    "import matplotlib.pyplot as plt\n",
    "\n",
    "MEAS_COLUMNS = [\n",
    "    \"TI-19\",\n",
    "    \"FI-16\",\n",
    "    \"TI-33\",\n",
    "    \"FI-2\",\n",
    "    \"FI-151\",\n",
    "    \"TI-8\",\n",
    "    \"FI-241\",\n",
    "#   \"valve-position-12\",  # dry-bed\n",
    "#     \"FI-38\",  # stripper\n",
    "#     \"PI-28\",  # stripper\n",
    "#     \"TI-28\",  # stripper\n",
    "    \"FI-20\",\n",
    "    \"FI-30\",\n",
    "    \"TI-3\",\n",
    "    \"FI-19\",\n",
    "    \"FI-211\",\n",
    "    \"FI-11\",\n",
    "    \"TI-30\",\n",
    "    \"PI-30\",\n",
    "    \"TI-1213\",\n",
    "#     \"TI-4\",\n",
    "    \"FI-23\",\n",
    "    \"delta_t\",\n",
    "]\n",
    "\n",
    "TARGETS_clean = ['2-Amino-2-methylpropanol C4H11NO', 'Piperazine C4H10N2']"
   ]
  },
  {
   "cell_type": "code",
   "execution_count": 49,
   "id": "empty-camcorder",
   "metadata": {},
   "outputs": [],
   "source": [
    "!pip install lightgbm"
   ]
  },
  {
   "cell_type": "code",
   "execution_count": 50,
   "id": "pointed-launch",
   "metadata": {},
   "outputs": [],
   "source": [
    "from lightgbm import LGBMRegressor\n",
    "import wandb\n",
    "import pandas as pd \n",
    "from sklearn.preprocessing import StandardScaler\n",
    "from sklearn.model_selection import train_test_split\n",
    "import matplotlib.pyplot as plt\n",
    "\n",
    "MEAS_COLUMNS = [\n",
    "    \"TI-19\",\n",
    "    \"FI-16\",\n",
    "    \"TI-33\",\n",
    "    \"FI-2\",\n",
    "    \"FI-151\",\n",
    "    \"TI-8\",\n",
    "    \"FI-241\",\n",
    "#   \"valve-position-12\",  # dry-bed\n",
    "#     \"FI-38\",  # strippera\n",
    "#     \"PI-28\",  # stripper\n",
    "#     \"TI-28\",  # stripper\n",
    "    \"FI-20\",\n",
    "    \"FI-30\",\n",
    "    \"TI-3\",\n",
    "    \"FI-19\",\n",
    "    \"FI-211\",a\n",
    "    \"FI-11\",\n",
    "    \"TI-30\",a\n",
    "    \"PI-30\",\n",
    "    \"TI-1213\",\n",
    "#     \"TI-4\",\n",
    "    \"FI-23\",\n",
    "    \"delta_t\",\n",
    "]\n",
    "\n",
    "TARGETS_clean = ['2-Amino-2-methylpropanol C4H11NO', 'Piperazine C4H10N2']"
   ]
  },
  {
   "cell_type": "code",
   "execution_count": 51,
   "id": "overhead-reputation",
   "metadata": {},
   "outputs": [],
   "source": [
    "from lightgbm import LGBMRegressor\n",
    "import wandb\n",
    "import pandas as pd \n",
    "from sklearn.preprocessing import StandardScaler\n",
    "from sklearn.model_selection import train_test_split\n",
    "import matplotlib.pyplot as plt\n",
    "\n",
    "MEAS_COLUMNS = [\n",
    "    \"TI-19\",\n",
    "    \"FI-16\",\n",
    "    \"TI-33\",\n",
    "    \"FI-2\",\n",
    "    \"FI-151\",\n",
    "    \"TI-8\",\n",
    "    \"FI-241\",\n",
    "#   \"valve-position-12\",  # dry-bed\n",
    "#     \"FI-38\",  # strippera\n",
    "#     \"PI-28\",  # stripper\n",
    "#     \"TI-28\",  # stripper\n",
    "    \"FI-20\",\n",
    "    \"FI-30\",\n",
    "    \"TI-3\",\n",
    "    \"FI-19\",\n",
    "    \"FI-211\",\n",
    "    \"FI-11\",\n",
    "    \"TI-30\",\n",
    "    \"PI-30\",\n",
    "    \"TI-1213\",\n",
    "#     \"TI-4\",\n",
    "    \"FI-23\",\n",
    "    \"delta_t\",\n",
    "]\n",
    "\n",
    "TARGETS_clean = ['2-Amino-2-methylpropanol C4H11NO', 'Piperazine C4H10N2']"
   ]
  },
  {
   "cell_type": "code",
   "execution_count": 52,
   "id": "according-patient",
   "metadata": {},
   "outputs": [],
   "source": [
    "!pip install wandb"
   ]
  },
  {
   "cell_type": "code",
   "execution_count": 53,
   "id": "academic-guess",
   "metadata": {},
   "outputs": [],
   "source": [
    "from lightgbm import LGBMRegressor\n",
    "import wandb\n",
    "import pandas as pd \n",
    "from sklearn.preprocessing import StandardScaler\n",
    "from sklearn.model_selection import train_test_split\n",
    "import matplotlib.pyplot as plt\n",
    "\n",
    "MEAS_COLUMNS = [\n",
    "    \"TI-19\",\n",
    "    \"FI-16\",\n",
    "    \"TI-33\",\n",
    "    \"FI-2\",\n",
    "    \"FI-151\",\n",
    "    \"TI-8\",\n",
    "    \"FI-241\",\n",
    "#   \"valve-position-12\",  # dry-bed\n",
    "#     \"FI-38\",  # strippera\n",
    "#     \"PI-28\",  # stripper\n",
    "#     \"TI-28\",  # stripper\n",
    "    \"FI-20\",\n",
    "    \"FI-30\",\n",
    "    \"TI-3\",\n",
    "    \"FI-19\",\n",
    "    \"FI-211\",\n",
    "    \"FI-11\",\n",
    "    \"TI-30\",\n",
    "    \"PI-30\",\n",
    "    \"TI-1213\",\n",
    "#     \"TI-4\",\n",
    "    \"FI-23\",\n",
    "    \"delta_t\",\n",
    "]\n",
    "\n",
    "TARGETS_clean = ['2-Amino-2-methylpropanol C4H11NO', 'Piperazine C4H10N2']"
   ]
  },
  {
   "cell_type": "code",
   "execution_count": 54,
   "id": "smart-register",
   "metadata": {},
   "outputs": [],
   "source": [
    "from lightgbm import LGBMRegressor\n",
    "import wandb\n",
    "import pandas as pd \n",
    "from sklearn.preprocessing import StandardScaler\n",
    "from sklearn.model_selection import train_test_split\n",
    "import matplotlib.pyplot as plt\n",
    "\n",
    "MEAS_COLUMNS = [\n",
    "    \"TI-19\",\n",
    "    \"FI-16\",\n",
    "    \"TI-33\",\n",
    "    \"FI-2\",\n",
    "    \"FI-151\",\n",
    "    \"TI-8\",\n",
    "    \"FI-241\",\n",
    "#   \"valve-position-12\",  # dry-bed\n",
    "#     \"FI-38\",  # strippera\n",
    "#     \"PI-28\",  # stripper\n",
    "#     \"TI-28\",  # stripper\n",
    "    \"FI-20\",\n",
    "    \"FI-30\",\n",
    "    \"TI-3\",\n",
    "    \"FI-19\",\n",
    "    \"FI-211\",\n",
    "    \"FI-11\",\n",
    "    \"TI-30\",\n",
    "    \"PI-30\",\n",
    "    \"TI-1213\",\n",
    "#     \"TI-4\",\n",
    "    \"FI-23\",\n",
    "    \"delta_t\",\n",
    "]\n",
    "\n",
    "TARGETS_clean = ['2-Amino-2-methylpropanol C4H11NO', 'Piperazine C4H10N2', \n",
    "                 \"Carbon dioxide CO2\", \"Ammonia NH3\"]"
   ]
  },
  {
   "cell_type": "code",
   "execution_count": 55,
   "id": "broke-energy",
   "metadata": {},
   "outputs": [],
   "source": [
    "df = pd.read_pickle('df_dropped.pkl')"
   ]
  },
  {
   "cell_type": "code",
   "execution_count": 56,
   "id": "congressional-imperial",
   "metadata": {},
   "outputs": [],
   "source": [
    "X, y = df[MEAS_COLUMNS], df[TARGETS_clean].values"
   ]
  },
  {
   "cell_type": "code",
   "execution_count": 57,
   "id": "attempted-reflection",
   "metadata": {},
   "outputs": [],
   "source": [
    "X_train, X_test, y_train, y_test = train_test_split(X, y, train_size=0.8)"
   ]
  },
  {
   "cell_type": "code",
   "execution_count": 58,
   "id": "champion-donna",
   "metadata": {},
   "outputs": [],
   "source": [
    "scaler = StandardScaler()"
   ]
  },
  {
   "cell_type": "code",
   "execution_count": 59,
   "id": "played-miller",
   "metadata": {},
   "outputs": [],
   "source": [
    "X_train = scaler.fit_transform(X_train)\n",
    "X_test = scaler.transform(X_test)"
   ]
  },
  {
   "cell_type": "code",
   "execution_count": 60,
   "id": "quarterly-projection",
   "metadata": {},
   "outputs": [],
   "source": [
    "config = {\n",
    "    'n_estimators': {\n",
    "        'distribution': 'int_uniform',\n",
    "        'min': 10,\n",
    "        'max': 5000\n",
    "    },\n",
    "    'max_depth': {\n",
    "        'distribution': 'int_uniform',\n",
    "        'min': 5,\n",
    "        'max': 100\n",
    "    },\n",
    "    'num_leaves': {\n",
    "        'distribution': 'int_uniform',\n",
    "        'min': 5,\n",
    "        'max': 500\n",
    "    },\n",
    "    'reg_alpha': {\n",
    "        'distribution': 'log_uniform',\n",
    "        'min': 0.00001,\n",
    "        'max': 0.4\n",
    "    },\n",
    "    'reg_lambda': {\n",
    "        'distribution': 'log_uniform',\n",
    "        'min': 0.00001,\n",
    "        'max': 0.4\n",
    "    },\n",
    "    'subsample': {\n",
    "        'distribution': 'uniform',\n",
    "        'min': 0.4,\n",
    "        'max': 1.0\n",
    "    },\n",
    "    'colsample_bytree': {\n",
    "        'distribution': 'uniform',\n",
    "        'min': 0.01,\n",
    "        'max': 1.0\n",
    "    },\n",
    "    'min_child_weight': {\n",
    "        'distribution': 'uniform',\n",
    "        'min': 0.001,\n",
    "        'max': 0.1,\n",
    "    },\n",
    "}"
   ]
  },
  {
   "cell_type": "code",
   "execution_count": 61,
   "id": "hazardous-frederick",
   "metadata": {},
   "outputs": [],
   "source": [
    "def get_sweep_id(method):\n",
    "    \"\"\"return us a sweep id (required for running the sweep)\"\"\"\n",
    "    sweep_config = {\n",
    "        'method': method,\n",
    "        'metric': {\n",
    "            'name': 'cv_mean',\n",
    "            'goal': 'minimize'\n",
    "        },\n",
    "        'early_terminate': {\n",
    "            'type': 'hyperband',\n",
    "            's': 2,\n",
    "            'eta': 3,\n",
    "            'max_iter': 30\n",
    "        },\n",
    "        'parameters': config,b\n",
    "    }\n",
    "    sweep_id = wandb.sweep(sweep_config, project='process_ml')\n",
    "\n",
    "    return sweep_id"
   ]
  },
  {
   "cell_type": "code",
   "execution_count": 62,
   "id": "rolled-terrain",
   "metadata": {},
   "outputs": [],
   "source": [
    "def get_sweep_id(method):\n",
    "    \"\"\"return us a sweep id (required for running the sweep)\"\"\"\n",
    "    sweep_config = {\n",
    "        'method': method,\n",
    "        'metric': {\n",
    "            'name': 'cv_mean',\n",
    "            'goal': 'minimize'\n",
    "        },\n",
    "        'early_terminate': {\n",
    "            'type': 'hyperband',\n",
    "            's': 2,\n",
    "            'eta': 3,\n",
    "            'max_iter': 30\n",
    "        },\n",
    "        'parameters': config,\n",
    "    }\n",
    "    sweep_id = wandb.sweep(sweep_config, project='process_ml')\n",
    "\n",
    "    return sweep_id"
   ]
  },
  {
   "cell_type": "code",
   "execution_count": 63,
   "id": "ignored-publisher",
   "metadata": {},
   "outputs": [],
   "source": [
    "scaler = StandardScaler()"
   ]
  },
  {
   "cell_type": "code",
   "execution_count": 64,
   "id": "overhead-istanbul",
   "metadata": {},
   "outputs": [],
   "source": [
    "X_ = scaler.fit_transform(X)"
   ]
  },
  {
   "cell_type": "code",
   "execution_count": 65,
   "id": "after-administration",
   "metadata": {},
   "outputs": [],
   "source": [
    "def train(index):\n",
    "    # Config is a variable that holds and saves hyperparameters and inputs\n",
    "\n",
    "    configs = {\n",
    "        'n_estimators': 100,\n",
    "        'max_depth': 10,\n",
    "        'num_leaves': 50,\n",
    "        'reg_alpha': 0.00001,\n",
    "        'reg_lambda': 0.00001,\n",
    "        'subsample': 0.2,\n",
    "        'colsample_bytree': 0.2,\n",
    "        'min_child_weight': 0.001,\n",
    "    }\n",
    "\n",
    "    # Initilize a new wandb run\n",
    "    wandb.init(project='process_ml', config=configs)\n",
    "\n",
    "    config = wandb.config\n",
    "    config['objective'] =  'huber'\n",
    "\n",
    "    regressor = LGBMRegressor(**config)\n",
    "\n",
    "    cv = cross_val_score(regressor, X_, y[:, index], n_jobs=-1, cv=KFold(n_splits=5), scoring='neg_mean_absolute_error')\n",
    "\n",
    "    mean = np.abs(cv.mean())\n",
    "    std = np.abs(cv.std())\n",
    "    wandb.log({'cv_mean': mean})\n",
    "    wandb.log({'cv_std': std})\n",
    "\n",
    "    wandb.run.summary['cv_mean'] = mean\n",
    "    wandb.run.summary['cv_std'] = std"
   ]
  },
  {
   "cell_type": "code",
   "execution_count": 66,
   "id": "unlike-rogers",
   "metadata": {},
   "outputs": [],
   "source": [
    "sweep_id = get_sweep_id('bayes')\n",
    "train_func = partial(train, index=int(0))\n",
    "wandb.agent(sweep_id, function=train_func)"
   ]
  },
  {
   "cell_type": "code",
   "execution_count": 67,
   "id": "short-athletics",
   "metadata": {},
   "outputs": [],
   "source": [
    "from lightgbm import LGBMRegressor\n",
    "import wandb\n",
    "import pandas as pd \n",
    "from sklearn.preprocessing import StandardScaler\n",
    "from sklearn.model_selection import train_test_split\n",
    "import matplotlib.pyplot as plt\n",
    "from functools import partial\n",
    "\n",
    "MEAS_COLUMNS = [\n",
    "    \"TI-19\",\n",
    "    \"FI-16\",\n",
    "    \"TI-33\",\n",
    "    \"FI-2\",\n",
    "    \"FI-151\",\n",
    "    \"TI-8\",\n",
    "    \"FI-241\",\n",
    "#   \"valve-position-12\",  # dry-bed\n",
    "#     \"FI-38\",  # strippera\n",
    "#     \"PI-28\",  # stripper\n",
    "#     \"TI-28\",  # stripper\n",
    "    \"FI-20\",\n",
    "    \"FI-30\",\n",
    "    \"TI-3\",\n",
    "    \"FI-19\",\n",
    "    \"FI-211\",\n",
    "    \"FI-11\",\n",
    "    \"TI-30\",\n",
    "    \"PI-30\",\n",
    "    \"TI-1213\",\n",
    "#     \"TI-4\",\n",
    "    \"FI-23\",\n",
    "    \"delta_t\",\n",
    "]\n",
    "\n",
    "TARGETS_clean = ['2-Amino-2-methylpropanol C4H11NO', 'Piperazine C4H10N2', \n",
    "                 \"Carbon dioxide CO2\", \"Ammonia NH3\"]"
   ]
  },
  {
   "cell_type": "code",
   "execution_count": 68,
   "id": "above-welsh",
   "metadata": {},
   "outputs": [
    {
     "data": {
      "text/html": [
       "\n",
       "                Tracking run with wandb version 0.10.28<br/>\n",
       "                Syncing run <strong style=\"color:#cdcd00\">whole-sweep-3</strong> to <a href=\"https://wandb.ai\" target=\"_blank\">Weights & Biases</a> <a href=\"https://docs.wandb.com/integrations/jupyter.html\" target=\"_blank\">(Documentation)</a>.<br/>\n",
       "                Project page: <a href=\"https://wandb.ai/kjappelbaum/process_ml\" target=\"_blank\">https://wandb.ai/kjappelbaum/process_ml</a><br/>\n",
       "                Sweep page: <a href=\"https://wandb.ai/kjappelbaum/process_ml/sweeps/yfvtkh9r\" target=\"_blank\">https://wandb.ai/kjappelbaum/process_ml/sweeps/yfvtkh9r</a><br/>\n",
       "Run page: <a href=\"https://wandb.ai/kjappelbaum/process_ml/runs/husdrth1\" target=\"_blank\">https://wandb.ai/kjappelbaum/process_ml/runs/husdrth1</a><br/>\n",
       "                Run data is saved locally in <code>/Users/kevinmaikjablonka/Dropbox (LSMO)/Documents/open_source/pyprocessta/examples/wandb/run-20210503_234939-husdrth1</code><br/><br/>\n",
       "            "
      ],
      "text/plain": [
       "<IPython.core.display.HTML object>"
      ]
     },
     "metadata": {},
     "output_type": "display_data"
    }
   ],
   "source": [
    "sweep_id = get_sweep_id('bayes')\n",
    "train_func = partial(train, index=int(0))\n",
    "wandb.agent(sweep_id, function=train_func)"
   ]
  }
 ],
 "metadata": {
  "kernelspec": {
   "display_name": "Python 3",
   "language": "python",
   "name": "python3"
  },
  "language_info": {
   "codemirror_mode": {
    "name": "ipython",
    "version": 3
   },
   "file_extension": ".py",
   "mimetype": "text/x-python",
   "name": "python",
   "nbconvert_exporter": "python",
   "pygments_lexer": "ipython3",
   "version": "3.8.8"
  }
 },
 "nbformat": 4,
 "nbformat_minor": 5
}
