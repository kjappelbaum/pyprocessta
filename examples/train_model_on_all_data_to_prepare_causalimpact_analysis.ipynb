{
 "cells": [
  {
   "cell_type": "code",
   "execution_count": 1,
   "id": "5b85cdd8",
   "metadata": {},
   "outputs": [],
   "source": [
    "MEAS_COLUMNS = [\n",
    "    \"TI-19\",\n",
    "#      \"FI-16\",\n",
    "#     \"TI-33\",\n",
    "#     \"FI-2\",\n",
    "#     \"FI-151\",\n",
    "#     \"TI-8\",\n",
    "#     \"FI-241\",\n",
    "#  \"valve-position-12\",  # dry-bed\n",
    "#     \"FI-38\",  # strippera\n",
    "#     \"PI-28\",  # stripper\n",
    "    \n",
    "#     \"TI-28\",  # stripper\n",
    "#      \"FI-20\",\n",
    "#     \"FI-30\",\n",
    "    \"TI-3\",\n",
    "    \"FI-19\",\n",
    "#     \"FI-211\",\n",
    "    \"FI-11\",\n",
    "#     \"TI-30\",\n",
    "#     \"PI-30\",\n",
    "    \"TI-1213\",\n",
    "#     \"TI-4\",\n",
    "#    \"FI-23\",\n",
    "#    \"FI-20\",\n",
    "#   \"FI-20/FI-23\",\n",
    "#    \"TI-22\",\n",
    "#    \"delta_t\",\n",
    "    \"TI-35\",\n",
    "#     \"delta_t_2\"\n",
    "]"
   ]
  },
  {
   "cell_type": "code",
   "execution_count": 2,
   "id": "11e907c8",
   "metadata": {},
   "outputs": [],
   "source": [
    "import pandas as pd \n",
    "from darts import TimeSeries"
   ]
  },
  {
   "cell_type": "code",
   "execution_count": 3,
   "id": "e625a855",
   "metadata": {},
   "outputs": [],
   "source": [
    "from pyprocessta.model.tcn import transform_data, run_model, parallelized_inference\n",
    "from pyprocessta.preprocess.resample import resample_regular\n",
    "from darts.dataprocessing.transformers import Scaler\n",
    "import joblib\n",
    "\n",
    "import matplotlib.pyplot as plt\n",
    "plt.style.reload_library()\n",
    "plt.style.use('science')\n",
    "from matplotlib import rcParams\n",
    "rcParams['font.family'] = 'sans-serif'"
   ]
  },
  {
   "cell_type": "code",
   "execution_count": 4,
   "id": "a877a920",
   "metadata": {},
   "outputs": [],
   "source": [
    "df = pd.read_pickle('20210624_df_cleaned.pkl')\n",
    "#df = resample_regular(df, '5min')"
   ]
  },
  {
   "cell_type": "code",
   "execution_count": 5,
   "id": "a485eecc",
   "metadata": {},
   "outputs": [],
   "source": [
    "#df.to_pickle('df_dropped_5min_resampled.pkl')"
   ]
  },
  {
   "cell_type": "code",
   "execution_count": 40,
   "id": "c4e2cd66",
   "metadata": {},
   "outputs": [],
   "source": [
    "TARGETS_clean = ['2-Amino-2-methylpropanol C4H11NO']#['Piperazine C4H10N2'] #'2-Amino-2-methylpropanol C4H11NO',"
   ]
  },
  {
   "cell_type": "code",
   "execution_count": 41,
   "id": "14bf5e79",
   "metadata": {},
   "outputs": [],
   "source": [
    "y = TimeSeries.from_dataframe(df, value_cols=TARGETS_clean)\n",
    "x = TimeSeries.from_dataframe(df, value_cols=MEAS_COLUMNS)"
   ]
  },
  {
   "cell_type": "code",
   "execution_count": 42,
   "id": "e0425d8c",
   "metadata": {},
   "outputs": [],
   "source": [
    "transformer = Scaler()\n",
    "x = transformer.fit_transform(x)\n",
    "\n",
    "y_transformer = Scaler()\n",
    "y = y_transformer.fit_transform(y)"
   ]
  },
  {
   "cell_type": "code",
   "execution_count": 43,
   "id": "e9453e51",
   "metadata": {},
   "outputs": [],
   "source": [
    "scal = y_transformer.transform(y)"
   ]
  },
  {
   "cell_type": "code",
   "execution_count": 44,
   "id": "24b7d6ab",
   "metadata": {},
   "outputs": [
    {
     "name": "stderr",
     "output_type": "stream",
     "text": [
      "[2022-01-16 16:48:34,670] INFO | darts.models.forecasting.torch_forecasting_model | Train dataset contains 5320 samples.\n",
      "[2022-01-16 16:48:34,670] INFO | darts.models.forecasting.torch_forecasting_model | Train dataset contains 5320 samples.\n",
      "[2022-01-16 16:48:34,694] INFO | darts.models.forecasting.torch_forecasting_model | Time series values are 64-bits; casting model to float64.\n",
      "[2022-01-16 16:48:34,694] INFO | darts.models.forecasting.torch_forecasting_model | Time series values are 64-bits; casting model to float64.\n"
     ]
    }
   ],
   "source": [
    "model = run_model((x,y),  output_chunk_length=30)"
   ]
  },
  {
   "cell_type": "code",
   "execution_count": 45,
   "id": "82841fe9",
   "metadata": {},
   "outputs": [],
   "source": [
    "import matplotlib.pyplot as plt"
   ]
  },
  {
   "cell_type": "code",
   "execution_count": 46,
   "id": "2897e2f1",
   "metadata": {
    "tags": []
   },
   "outputs": [],
   "source": [
    "results = parallelized_inference(model, x, y, repeats=100, start=0.1, horizon=30)"
   ]
  },
  {
   "cell_type": "code",
   "execution_count": 47,
   "id": "187273e5",
   "metadata": {},
   "outputs": [],
   "source": [
    "import numpy as np "
   ]
  },
  {
   "cell_type": "code",
   "execution_count": 48,
   "id": "bee11fe3",
   "metadata": {},
   "outputs": [
    {
     "data": {
      "text/plain": [
       "Index(['0'], dtype='object', name='component')"
      ]
     },
     "execution_count": 48,
     "metadata": {},
     "output_type": "execute_result"
    }
   ],
   "source": [
    "results[0].pd_dataframe().columns"
   ]
  },
  {
   "cell_type": "code",
   "execution_count": 49,
   "id": "db79a2cc",
   "metadata": {},
   "outputs": [],
   "source": [
    "def summarize_results(results): \n",
    "    values = []\n",
    "    \n",
    "    for df in results: \n",
    "        values.append(df.pd_dataframe().values)\n",
    "    \n",
    "    df = df.pd_dataframe()\n",
    "    columns = df.columns\n",
    "    \n",
    "    return pd.DataFrame(np.mean(values, axis=0), columns=columns, index=df.index), pd.DataFrame(np.std(values, axis=0), columns=columns,  index=df.index)"
   ]
  },
  {
   "cell_type": "code",
   "execution_count": 50,
   "id": "e5173272",
   "metadata": {},
   "outputs": [],
   "source": [
    "means, stds = summarize_results(results)"
   ]
  },
  {
   "cell_type": "code",
   "execution_count": 51,
   "id": "71540e2c",
   "metadata": {},
   "outputs": [],
   "source": [
    "x_axis = means['0'].index - y[TARGETS_clean[0]].pd_dataframe().index[0]\n",
    "x_axis = [val.total_seconds() / (60 * 60 * 24) for val in x_axis]\n",
    "\n",
    "x_conncected = y[TARGETS_clean[0]].pd_dataframe().index - y[TARGETS_clean[0]].pd_dataframe().index[0]\n",
    "x_conncected = [val.total_seconds() / (60 * 60 * 24) for val in x_conncected]"
   ]
  },
  {
   "cell_type": "code",
   "execution_count": 52,
   "id": "8bcd3b3f",
   "metadata": {},
   "outputs": [
    {
     "data": {
      "image/png": "[encoded data removed]",
      "text/plain": [
       "<Figure size 504x216 with 1 Axes>"
      ]
     },
     "metadata": {
      "needs_background": "light"
     },
     "output_type": "display_data"
    }
   ],
   "source": [
    "plt.figure(figsize=(7,3))\n",
    "plt.plot(x_axis, means['0'], c='b',  alpha=.9, lw=.2)\n",
    "plt.fill_between(x_axis, means['0']-2*stds['0'], means['0']+2*stds['0'], alpha=.4, color='b', label='forecast',)\n",
    "plt.plot(x_conncected, y[TARGETS_clean[0]].values().flatten(), c='k', label='actual', lw=.2,)\n",
    "\n",
    "plt.legend()\n",
    "#plt.xticks([])\n",
    "\n",
    "plt.xlabel('time / days')\n",
    "plt.ylabel('normalized emissions')\n",
    "plt.tight_layout()\n",
    "plt.savefig(f'20220116_{TARGETS_clean[0]}_forecast_all.pdf', bbox_inches='tight')"
   ]
  },
  {
   "cell_type": "code",
   "execution_count": 53,
   "id": "22977ab3",
   "metadata": {},
   "outputs": [],
   "source": [
    "# plt.figure(figsize=(7,3))\n",
    "# plt.plot(x_axis, means['0'], c='b',  alpha=.9, lw=.2)\n",
    "# plt.fill_between(x_axis, means['0']-2*stds['0'], means['0']+2*stds['0'], alpha=.4, color='b', label='forecast',)\n",
    "# plt.plot(x_conncected, y['0'].values().flatten(), c='k', label='actual', lw=.2,)\n",
    "\n",
    "# plt.legend()\n",
    "# #plt.xticks([])\n",
    "\n",
    "# plt.xlabel('time / days')\n",
    "# plt.ylabel('normalized emissions')\n",
    "# plt.tight_layout()\n",
    "# plt.savefig('20210814_2_amp_forecast_all.pdf', bbox_inches='tight')"
   ]
  },
  {
   "cell_type": "code",
   "execution_count": 54,
   "id": "c38fd5d0",
   "metadata": {},
   "outputs": [
    {
     "data": {
      "text/plain": [
       "['20220116_2-Amino-2-methylpropanol C4H11NO_y_scaler']"
      ]
     },
     "execution_count": 54,
     "metadata": {},
     "output_type": "execute_result"
    }
   ],
   "source": [
    "joblib.dump(model, f'20220116_{TARGETS_clean[0]}_model')\n",
    "joblib.dump(transformer, f'20220116_{TARGETS_clean[0]}_x_scaler')\n",
    "joblib.dump(y_transformer, f'20220116_{TARGETS_clean[0]}_y_scaler')"
   ]
  },
  {
   "cell_type": "markdown",
   "id": "d11cd5a2",
   "metadata": {},
   "source": [
    "transformero build a model for CO2 and NH3"
   ]
  },
  {
   "cell_type": "code",
   "execution_count": 82,
   "id": "5c1dc620",
   "metadata": {},
   "outputs": [],
   "source": [
    "NEW_TARGETS = [\"Ammonia NH3\"] #Carbon dioxide CO2\"] #,"
   ]
  },
  {
   "cell_type": "code",
   "execution_count": 83,
   "id": "239d7304",
   "metadata": {},
   "outputs": [],
   "source": [
    "y = TimeSeries.from_dataframe(df, value_cols=NEW_TARGETS)\n",
    "x = TimeSeries.from_dataframe(df, value_cols=MEAS_COLUMNS)"
   ]
  },
  {
   "cell_type": "code",
   "execution_count": 84,
   "id": "469e1009",
   "metadata": {},
   "outputs": [],
   "source": [
    "transformer = Scaler()\n",
    "x = transformer.fit_transform(x)\n",
    "\n",
    "y_transformer = Scaler()\n",
    "y = y_transformer.fit_transform(y)"
   ]
  },
  {
   "cell_type": "code",
   "execution_count": 85,
   "id": "4ce132e4",
   "metadata": {},
   "outputs": [
    {
     "name": "stderr",
     "output_type": "stream",
     "text": [
      "[2022-01-16 22:42:25,126] INFO | darts.models.forecasting.torch_forecasting_model | Train dataset contains 5320 samples.\n",
      "[2022-01-16 22:42:25,126] INFO | darts.models.forecasting.torch_forecasting_model | Train dataset contains 5320 samples.\n",
      "[2022-01-16 22:42:25,147] INFO | darts.models.forecasting.torch_forecasting_model | Time series values are 64-bits; casting model to float64.\n",
      "[2022-01-16 22:42:25,147] INFO | darts.models.forecasting.torch_forecasting_model | Time series values are 64-bits; casting model to float64.\n"
     ]
    }
   ],
   "source": [
    "model_co2 = run_model((x,y), output_chunk_length=30)"
   ]
  },
  {
   "cell_type": "code",
   "execution_count": 77,
   "id": "35f53d85",
   "metadata": {},
   "outputs": [],
   "source": [
    "results = parallelized_inference(model_co2, x, y, repeats=100, start=0.1, horizon=30)"
   ]
  },
  {
   "cell_type": "code",
   "execution_count": 78,
   "id": "a27f7864",
   "metadata": {},
   "outputs": [],
   "source": [
    "means, stds = summarize_results(results)"
   ]
  },
  {
   "cell_type": "code",
   "execution_count": 79,
   "id": "f975e829",
   "metadata": {},
   "outputs": [],
   "source": [
    "x_axis = means['0'].index - y[NEW_TARGETS[0]].pd_dataframe().index[0]\n",
    "x_axis = [val.total_seconds() / (60 * 60 * 24) for val in x_axis]\n",
    "\n",
    "x_conncected = y[NEW_TARGETS[0]].pd_dataframe().index - y[NEW_TARGETS[0]].pd_dataframe().index[0]\n",
    "x_conncected = [val.total_seconds() / (60 * 60 * 24) for val in x_conncected]"
   ]
  },
  {
   "cell_type": "code",
   "execution_count": 80,
   "id": "e2e615e4",
   "metadata": {},
   "outputs": [
    {
     "data": {
      "image/png": "[encoded data removed]",
      "text/plain": [
       "<Figure size 504x216 with 1 Axes>"
      ]
     },
     "metadata": {
      "needs_background": "light"
     },
     "output_type": "display_data"
    }
   ],
   "source": [
    "plt.figure(figsize=(7,3))\n",
    "plt.plot(x_axis, means['0'], c='b',  alpha=.9, lw=.2)\n",
    "plt.fill_between(x_axis, means['0']-2*stds['0'], means['0']+2*stds['0'], alpha=.4, color='b', label='forecast',)\n",
    "plt.plot(x_conncected, y[NEW_TARGETS[0]].values().flatten(), c='k', label='actual', lw=.2,)\n",
    "\n",
    "plt.legend()\n",
    "#plt.xticks([])\n",
    "\n",
    "plt.xlabel('time / days')\n",
    "plt.ylabel('normalized emissions')\n",
    "plt.tight_layout()\n",
    "plt.savefig(f'20220116_{NEW_TARGETS[0]}_forecast_all.pdf', bbox_inches='tight')"
   ]
  },
  {
   "cell_type": "code",
   "execution_count": 81,
   "id": "ccb9c853",
   "metadata": {},
   "outputs": [
    {
     "data": {
      "text/plain": [
       "['20220116_Carbon dioxide CO2_y_scaler']"
      ]
     },
     "execution_count": 81,
     "metadata": {},
     "output_type": "execute_result"
    }
   ],
   "source": [
    "joblib.dump(model_co2, f'20220116_{NEW_TARGETS[0]}_model')\n",
    "#joblib.dump(transformer, f'20211229_{NEW_TARGETS[0]}_x_scaler')\n",
    "joblib.dump(y_transformer, f'20220116_{NEW_TARGETS[0]}_y_scaler')"
   ]
  },
  {
   "cell_type": "code",
   "execution_count": null,
   "id": "ec2ba8f7",
   "metadata": {},
   "outputs": [],
   "source": []
  },
  {
   "cell_type": "code",
   "execution_count": null,
   "id": "0054a2e7",
   "metadata": {},
   "outputs": [],
   "source": []
  }
 ],
 "metadata": {
  "kernelspec": {
   "display_name": "Python 3",
   "language": "python",
   "name": "python3"
  },
  "language_info": {
   "codemirror_mode": {
    "name": "ipython",
    "version": 3
   },
   "file_extension": ".py",
   "mimetype": "text/x-python",
   "name": "python",
   "nbconvert_exporter": "python",
   "pygments_lexer": "ipython3",
   "version": "3.8.8"
  }
 },
 "nbformat": 4,
 "nbformat_minor": 5
}
