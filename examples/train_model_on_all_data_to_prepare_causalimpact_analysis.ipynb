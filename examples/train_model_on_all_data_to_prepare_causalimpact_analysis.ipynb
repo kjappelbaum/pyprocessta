{
 "cells": [
  {
   "cell_type": "code",
   "execution_count": 1,
   "id": "22075a25",
   "metadata": {},
   "outputs": [],
   "source": [
    "MEAS_COLUMNS = [\n",
    "    \"TI-19\",\n",
    "#      \"FI-16\",\n",
    "#     \"TI-33\",\n",
    "#     \"FI-2\",\n",
    "#     \"FI-151\",\n",
    "#     \"TI-8\",\n",
    "#     \"FI-241\",\n",
    "#  \"valve-position-12\",  # dry-bed\n",
    "#     \"FI-38\",  # strippera\n",
    "#     \"PI-28\",  # stripper\n",
    "    \n",
    "#     \"TI-28\",  # stripper\n",
    "#      \"FI-20\",\n",
    "#     \"FI-30\",\n",
    "    \"TI-3\",\n",
    "    \"FI-19\",\n",
    "#     \"FI-211\",\n",
    "    \"FI-11\",\n",
    "#     \"TI-30\",\n",
    "#     \"PI-30\",\n",
    "    \"TI-1213\",\n",
    "#     \"TI-4\",\n",
    "    \"FI-23\",\n",
    "    \"FI-20\",\n",
    "    \"FI-20/FI-23\",\n",
    "#    \"TI-22\",\n",
    "    \"delta_t\",\n",
    "    \"TI-35\",\n",
    "    \"delta_t_2\"\n",
    "]"
   ]
  },
  {
   "cell_type": "code",
   "execution_count": 2,
   "id": "99b2e88d",
   "metadata": {},
   "outputs": [],
   "source": [
    "import pandas as pd \n",
    "from darts import TimeSeries"
   ]
  },
  {
   "cell_type": "code",
   "execution_count": 3,
   "id": "562cb747",
   "metadata": {},
   "outputs": [
    {
     "name": "stderr",
     "output_type": "stream",
     "text": [
      "Importing plotly failed. Interactive plots will not work.\n"
     ]
    }
   ],
   "source": [
    "from pyprocessta.model.tcn import transform_data, run_model, parallelized_inference\n",
    "from pyprocessta.preprocess.resample import resample_regular\n",
    "from darts.dataprocessing.transformers import Scaler\n",
    "import joblib\n",
    "\n",
    "import matplotlib.pyplot as plt\n",
    "plt.style.reload_library()\n",
    "plt.style.use('science')\n",
    "from matplotlib import rcParams\n",
    "rcParams['font.family'] = 'sans-serif'"
   ]
  },
  {
   "cell_type": "code",
   "execution_count": 4,
   "id": "0b385404",
   "metadata": {},
   "outputs": [],
   "source": [
    "df = pd.read_pickle('20210624_df_cleaned.pkl')\n",
    "#df = resample_regular(df, '5min')"
   ]
  },
  {
   "cell_type": "code",
   "execution_count": 5,
   "id": "6f7570c6",
   "metadata": {},
   "outputs": [],
   "source": [
    "#df.to_pickle('df_dropped_5min_resampled.pkl')"
   ]
  },
  {
   "cell_type": "code",
   "execution_count": 6,
   "id": "b9318d40",
   "metadata": {},
   "outputs": [],
   "source": [
    "TARGETS_clean = ['2-Amino-2-methylpropanol C4H11NO', 'Piperazine C4H10N2']"
   ]
  },
  {
   "cell_type": "code",
   "execution_count": 7,
   "id": "b84cf5df",
   "metadata": {},
   "outputs": [],
   "source": [
    "y = TimeSeries.from_dataframe(df, value_cols=TARGETS_clean)\n",
    "x = TimeSeries.from_dataframe(df, value_cols=MEAS_COLUMNS)"
   ]
  },
  {
   "cell_type": "code",
   "execution_count": 8,
   "id": "6726e323",
   "metadata": {},
   "outputs": [],
   "source": [
    "transformer = Scaler()\n",
    "x = transformer.fit_transform(x)\n",
    "\n",
    "y_transformer = Scaler()\n",
    "y = y_transformer.fit_transform(y)"
   ]
  },
  {
   "cell_type": "code",
   "execution_count": 9,
   "id": "465ee3af",
   "metadata": {},
   "outputs": [],
   "source": [
    "scal = y_transformer.transform(y)"
   ]
  },
  {
   "cell_type": "code",
   "execution_count": 10,
   "id": "72adfa79",
   "metadata": {},
   "outputs": [
    {
     "name": "stderr",
     "output_type": "stream",
     "text": [
      "/home/kjablonk/anaconda3/envs/timeseries_analysis/lib/python3.8/site-packages/torch/random.py:95: UserWarning: CUDA reports that you have 2 available devices, and you have used fork_rng without explicitly specifying which devices are being used. For safety, we initialize *every* CUDA device by default, which can be quite slow if you have a lot of GPUs.  If you know that you are only making use of a few CUDA devices, set the environment variable CUDA_VISIBLE_DEVICES or the 'devices' keyword argument of fork_rng with the set of devices you are actually using.  For example, if you are using CPU only, set CUDA_VISIBLE_DEVICES= or devices=[]; if you are using GPU 0 only, set CUDA_VISIBLE_DEVICES=0 or devices=[0].  To initialize all devices and suppress this warning, set the 'devices' keyword argument to `range(torch.cuda.device_count())`.\n",
      "  warnings.warn(\n",
      "[2021-06-18 23:49:31,732] INFO | darts.models.torch_forecasting_model | Train dataset contains 5365 samples.\n",
      "[2021-06-18 23:49:31,732] INFO | darts.models.torch_forecasting_model | Train dataset contains 5365 samples.\n"
     ]
    }
   ],
   "source": [
    "model = run_model((x,y))"
   ]
  },
  {
   "cell_type": "code",
   "execution_count": 11,
   "id": "52dcfcd5",
   "metadata": {},
   "outputs": [],
   "source": [
    "backtest = model.historical_forecasts(y,\n",
    "                          covariates=x,\n",
    "                          start=0.1,\n",
    "                          forecast_horizon=1,\n",
    "                          stride=2,\n",
    "                          retrain=False,\n",
    "                          verbose=False)"
   ]
  },
  {
   "cell_type": "code",
   "execution_count": 12,
   "id": "777ce502",
   "metadata": {},
   "outputs": [],
   "source": [
    "import matplotlib.pyplot as plt"
   ]
  },
  {
   "cell_type": "code",
   "execution_count": 14,
   "id": "470daf07",
   "metadata": {},
   "outputs": [],
   "source": [
    "results = parallelized_inference(model, x, y, repeats=1, start=0.1, horizon=5)"
   ]
  },
  {
   "cell_type": "code",
   "execution_count": 15,
   "id": "8f2ecbe1",
   "metadata": {},
   "outputs": [],
   "source": [
    "import numpy as np "
   ]
  },
  {
   "cell_type": "code",
   "execution_count": 16,
   "id": "d8719d3f",
   "metadata": {},
   "outputs": [],
   "source": [
    "def summarize_results(results): \n",
    "    values = []\n",
    "    \n",
    "    for df in results: \n",
    "        values.append(df.pd_dataframe().values)\n",
    "    \n",
    "    df = df.pd_dataframe()\n",
    "    columns = df.columns\n",
    "    \n",
    "    return pd.DataFrame(np.mean(values, axis=0), columns=columns, index=df.index), pd.DataFrame(np.std(values, axis=0), columns=columns,  index=df.index)"
   ]
  },
  {
   "cell_type": "code",
   "execution_count": 17,
   "id": "dd56c836",
   "metadata": {},
   "outputs": [],
   "source": [
    "means, stds = summarize_results(results)"
   ]
  },
  {
   "cell_type": "code",
   "execution_count": 18,
   "id": "9c7820cc",
   "metadata": {},
   "outputs": [],
   "source": [
    "x_axis = means['1'].index - y['1'].pd_dataframe().index[0]\n",
    "x_axis = [val.total_seconds() / (60 * 60 * 24) for val in x_axis]\n",
    "\n",
    "x_conncected = y['1'].pd_dataframe().index - y['1'].pd_dataframe().index[0]\n",
    "x_conncected = [val.total_seconds() / (60 * 60 * 24) for val in x_conncected]"
   ]
  },
  {
   "cell_type": "code",
   "execution_count": 19,
   "id": "0fa40a20",
   "metadata": {},
   "outputs": [
    {
     "data": {
      "image/png": "[encoded data removed]",
      "text/plain": [
       "<Figure size 252x189 with 1 Axes>"
      ]
     },
     "metadata": {
      "needs_background": "light"
     },
     "output_type": "display_data"
    }
   ],
   "source": [
    "plt.plot(x_axis, means['1'], c='b',  alpha=.9, lw=.2)\n",
    "plt.fill_between(x_axis, means['1']-2*stds['1'], means['1']+2*stds['1'], alpha=.4, color='b', label='forecast',)\n",
    "plt.plot(x_conncected, y['1'].values().flatten(), c='k', label='actual', lw=.2,)\n",
    "\n",
    "plt.legend()\n",
    "#plt.xticks([])\n",
    "\n",
    "plt.xlabel('time / days')\n",
    "plt.ylabel('normalized emissions')\n",
    "plt.tight_layout()\n",
    "plt.savefig('20210619_piperazine_forecast_all.pdf', bbox_inches='tight')"
   ]
  },
  {
   "cell_type": "code",
   "execution_count": 20,
   "id": "fd2bdafa",
   "metadata": {},
   "outputs": [
    {
     "data": {
      "image/png": "[encoded data removed]",
      "text/plain": [
       "<Figure size 252x189 with 1 Axes>"
      ]
     },
     "metadata": {
      "needs_background": "light"
     },
     "output_type": "display_data"
    }
   ],
   "source": [
    "plt.plot(x_axis, means['0'], c='b',  alpha=.9, lw=.2)\n",
    "plt.fill_between(x_axis, means['0']-2*stds['0'], means['0']+2*stds['0'], alpha=.4, color='b', label='forecast',)\n",
    "plt.plot(x_conncected, y['0'].values().flatten(), c='k', label='actual', lw=.2,)\n",
    "\n",
    "plt.legend()\n",
    "#plt.xticks([])\n",
    "\n",
    "plt.xlabel('time / days')\n",
    "plt.ylabel('normalized emissions')\n",
    "plt.tight_layout()\n",
    "plt.savefig('20210619_amp_forecast_all.pdf', bbox_inches='tight')"
   ]
  },
  {
   "cell_type": "code",
   "execution_count": 21,
   "id": "719842fe",
   "metadata": {},
   "outputs": [
    {
     "data": {
      "text/plain": [
       "['20210619_y_transformer__reduced_feature_set']"
      ]
     },
     "execution_count": 21,
     "metadata": {},
     "output_type": "execute_result"
    }
   ],
   "source": [
    "joblib.dump(model, '20210619_2amp_pip_model_reduced_feature_set')\n",
    "joblib.dump(transformer, '20210619_x_scaler_reduced_feature_set')\n",
    "joblib.dump(y_transformer, '20210619_y_transformer__reduced_feature_set')"
   ]
  },
  {
   "cell_type": "markdown",
   "id": "2f4e2d36",
   "metadata": {},
   "source": [
    "transformero build a model for CO2 and NH3"
   ]
  },
  {
   "cell_type": "code",
   "execution_count": 22,
   "id": "b19a5136",
   "metadata": {},
   "outputs": [],
   "source": [
    "NEW_TARGETS = [\"Carbon dioxide CO2\", \"Ammonia NH3\"]"
   ]
  },
  {
   "cell_type": "code",
   "execution_count": 23,
   "id": "0d468c0e",
   "metadata": {},
   "outputs": [],
   "source": [
    "y = TimeSeries.from_dataframe(df, value_cols=NEW_TARGETS)\n",
    "x = TimeSeries.from_dataframe(df, value_cols=MEAS_COLUMNS)"
   ]
  },
  {
   "cell_type": "code",
   "execution_count": 24,
   "id": "c6e52fc6",
   "metadata": {},
   "outputs": [],
   "source": [
    "transformer = Scaler()\n",
    "x = transformer.fit_transform(x)\n",
    "\n",
    "y_transformer = Scaler()\n",
    "y = y_transformer.fit_transform(y)"
   ]
  },
  {
   "cell_type": "code",
   "execution_count": 25,
   "id": "66dd052b",
   "metadata": {},
   "outputs": [
    {
     "name": "stderr",
     "output_type": "stream",
     "text": [
      "[2021-06-19 00:39:11,000] INFO | darts.models.torch_forecasting_model | Train dataset contains 5365 samples.\n",
      "[2021-06-19 00:39:11,000] INFO | darts.models.torch_forecasting_model | Train dataset contains 5365 samples.\n"
     ]
    }
   ],
   "source": [
    "model_co2 = run_model((x,y))"
   ]
  },
  {
   "cell_type": "code",
   "execution_count": 27,
   "id": "90c4daf4",
   "metadata": {},
   "outputs": [],
   "source": [
    "results = parallelized_inference(model_co2, x, y, repeats=1, start=0.1, horizon=5)"
   ]
  },
  {
   "cell_type": "code",
   "execution_count": 28,
   "id": "bbdf1433",
   "metadata": {},
   "outputs": [],
   "source": [
    "means, stds = summarize_results(results)"
   ]
  },
  {
   "cell_type": "code",
   "execution_count": 29,
   "id": "6092c5c0",
   "metadata": {},
   "outputs": [],
   "source": [
    "x_axis = means['1'].index - y['1'].pd_dataframe().index[0]\n",
    "x_axis = [val.total_seconds() / (60 * 60 * 24) for val in x_axis]\n",
    "\n",
    "x_conncected = y['1'].pd_dataframe().index - y['1'].pd_dataframe().index[0]\n",
    "x_conncected = [val.total_seconds() / (60 * 60 * 24) for val in x_conncected]"
   ]
  },
  {
   "cell_type": "code",
   "execution_count": 30,
   "id": "fbe2f719",
   "metadata": {},
   "outputs": [
    {
     "data": {
      "image/png": "[encoded data removed]",
      "text/plain": [
       "<Figure size 252x189 with 1 Axes>"
      ]
     },
     "metadata": {
      "needs_background": "light"
     },
     "output_type": "display_data"
    }
   ],
   "source": [
    "plt.plot(x_axis, means['1'], c='b',  alpha=.9, lw=.2)\n",
    "plt.fill_between(x_axis, means['1']-2*stds['1'], means['1']+2*stds['1'], alpha=.4, color='b', label='forecast',)\n",
    "plt.plot(x_conncected, y['1'].values().flatten(), c='k', label='actual', lw=.2,)\n",
    "\n",
    "plt.legend()\n",
    "#plt.xticks([])\n",
    "\n",
    "plt.xlabel('time / days')\n",
    "plt.ylabel('normalized emissions')\n",
    "plt.tight_layout()\n",
    "plt.savefig('20210619_nh3_forecast_all.pdf', bbox_inches='tight')"
   ]
  },
  {
   "cell_type": "code",
   "execution_count": 31,
   "id": "0627f25a",
   "metadata": {},
   "outputs": [
    {
     "data": {
      "image/png": "[encoded data removed]",
      "text/plain": [
       "<Figure size 252x189 with 1 Axes>"
      ]
     },
     "metadata": {
      "needs_background": "light"
     },
     "output_type": "display_data"
    }
   ],
   "source": [
    "plt.plot(x_axis, means['0'], c='b',  alpha=.9, lw=.2)\n",
    "plt.fill_between(x_axis, means['0']-2*stds['0'], means['0']+2*stds['0'], alpha=.4, color='b', label='forecast',)\n",
    "plt.plot(x_conncected, y['0'].values().flatten(), c='k', label='actual', lw=.2,)\n",
    "\n",
    "plt.legend()\n",
    "#plt.xticks([])\n",
    "\n",
    "plt.xlabel('time / days')\n",
    "plt.ylabel('normalized emissions')\n",
    "plt.tight_layout()\n",
    "plt.savefig('20210619_ammonia_forecast_all.pdf', bbox_inches='tight')"
   ]
  },
  {
   "cell_type": "code",
   "execution_count": 32,
   "id": "92498a4a",
   "metadata": {},
   "outputs": [
    {
     "data": {
      "text/plain": [
       "['20210619_y_transformer_co2_ammonia_reduced_feature_set']"
      ]
     },
     "execution_count": 32,
     "metadata": {},
     "output_type": "execute_result"
    }
   ],
   "source": [
    "joblib.dump(model_co2, '20210619_co2_ammonia_model_reduced_feature_set')\n",
    "joblib.dump(y_transformer, '20210619_y_transformer_co2_ammonia_reduced_feature_set')"
   ]
  },
  {
   "cell_type": "code",
   "execution_count": null,
   "id": "68e9275d",
   "metadata": {},
   "outputs": [],
   "source": [
    "results_co2 = parallelized_inference(model_co2, x, y, repeats=100, start=0.1)"
   ]
  },
  {
   "cell_type": "code",
   "execution_count": null,
   "id": "c68da0c8",
   "metadata": {},
   "outputs": [],
   "source": []
  }
 ],
 "metadata": {
  "kernelspec": {
   "display_name": "Python 3",
   "language": "python",
   "name": "python3"
  },
  "language_info": {
   "codemirror_mode": {
    "name": "ipython",
    "version": 3
   },
   "file_extension": ".py",
   "mimetype": "text/x-python",
   "name": "python",
   "nbconvert_exporter": "python",
   "pygments_lexer": "ipython3",
   "version": "3.8.8"
  }
 },
 "nbformat": 4,
 "nbformat_minor": 5
}
