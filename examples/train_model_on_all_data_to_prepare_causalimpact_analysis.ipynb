{
 "cells": [
  {
   "cell_type": "code",
   "execution_count": 144,
   "id": "1acdf9e7",
   "metadata": {},
   "outputs": [],
   "source": [
    "MEAS_COLUMNS = [\n",
    "    \"TI-19\",\n",
    "#      \"FI-16\",\n",
    "#     \"TI-33\",\n",
    "#     \"FI-2\",\n",
    "#     \"FI-151\",\n",
    "#     \"TI-8\",\n",
    "#     \"FI-241\",\n",
    "#  \"valve-position-12\",  # dry-bed\n",
    "#     \"FI-38\",  # strippera\n",
    "#     \"PI-28\",  # stripper\n",
    "    \n",
    "#     \"TI-28\",  # stripper\n",
    "#      \"FI-20\",\n",
    "#     \"FI-30\",\n",
    "    \"TI-3\",\n",
    "    \"FI-19\",\n",
    "#     \"FI-211\",\n",
    "    \"FI-11\",\n",
    "#     \"TI-30\",\n",
    "#     \"PI-30\",\n",
    "    \"TI-1213\",\n",
    "#     \"TI-4\",\n",
    "    \"FI-23\",\n",
    "    \"FI-20\",\n",
    "    \"FI-20/FI-23\",\n",
    "#    \"TI-22\",\n",
    "    \"delta_t\",\n",
    "    \"TI-35\",\n",
    "    \"delta_t_2\"\n",
    "]"
   ]
  },
  {
   "cell_type": "code",
   "execution_count": 145,
   "id": "2f3e2594",
   "metadata": {},
   "outputs": [],
   "source": [
    "import pandas as pd \n",
    "from darts import TimeSeries"
   ]
  },
  {
   "cell_type": "code",
   "execution_count": 166,
   "id": "7994faa5",
   "metadata": {},
   "outputs": [],
   "source": [
    "from pyprocessta.model.tcn import transform_data, run_model, parallelized_inference\n",
    "from pyprocessta.model.scaler import Scaler\n",
    "from pyprocessta.preprocess.resample import resample_regular\n",
    "import joblib\n",
    "\n",
    "import matplotlib.pyplot as plt\n",
    "plt.style.reload_library()\n",
    "plt.style.use('science')\n",
    "from matplotlib import rcParams\n",
    "rcParams['font.family'] = 'sans-serif'"
   ]
  },
  {
   "cell_type": "code",
   "execution_count": 147,
   "id": "06fabf95",
   "metadata": {},
   "outputs": [],
   "source": [
    "df = pd.read_pickle('20210508_df_cleaned.pkl')\n",
    "#df = resample_regular(df, '5min')"
   ]
  },
  {
   "cell_type": "code",
   "execution_count": 148,
   "id": "0bc086c7",
   "metadata": {},
   "outputs": [],
   "source": [
    "#df.to_pickle('df_dropped_5min_resampled.pkl')"
   ]
  },
  {
   "cell_type": "code",
   "execution_count": 149,
   "id": "fb9f9486",
   "metadata": {},
   "outputs": [],
   "source": [
    "TARGETS_clean = ['2-Amino-2-methylpropanol C4H11NO', 'Piperazine C4H10N2']"
   ]
  },
  {
   "cell_type": "code",
   "execution_count": 168,
   "id": "7f38b7da",
   "metadata": {},
   "outputs": [],
   "source": [
    "y = TimeSeries.from_dataframe(df, value_cols=TARGETS_clean)\n",
    "x = TimeSeries.from_dataframe(df, value_cols=MEAS_COLUMNS)"
   ]
  },
  {
   "cell_type": "code",
   "execution_count": 169,
   "id": "a94aca9f",
   "metadata": {},
   "outputs": [],
   "source": [
    "transformer = Scaler()\n",
    "x = transformer.fit_transform(x)\n",
    "\n",
    "y_transformer = Scaler()\n",
    "y = y_transformer.fit_transform(y)"
   ]
  },
  {
   "cell_type": "code",
   "execution_count": 170,
   "id": "c3136315",
   "metadata": {},
   "outputs": [
    {
     "name": "stderr",
     "output_type": "stream",
     "text": [
      "[2021-05-17 09:24:52,874] INFO | darts.models.torch_forecasting_model | Train dataset contains 5401 samples.\n",
      "[2021-05-17 09:24:52,874] INFO | darts.models.torch_forecasting_model | Train dataset contains 5401 samples.\n"
     ]
    }
   ],
   "source": [
    "model = run_model((x,y))"
   ]
  },
  {
   "cell_type": "code",
   "execution_count": 171,
   "id": "bc78f3a1",
   "metadata": {},
   "outputs": [],
   "source": [
    "backtest = model.historical_forecasts(y,\n",
    "                          covariates=x,\n",
    "                          start=0.01,\n",
    "                          forecast_horizon=1,\n",
    "                          stride=2,\n",
    "                          retrain=False,\n",
    "                          verbose=False)"
   ]
  },
  {
   "cell_type": "code",
   "execution_count": 172,
   "id": "37a25a00",
   "metadata": {},
   "outputs": [],
   "source": [
    "import matplotlib.pyplot as plt"
   ]
  },
  {
   "cell_type": "code",
   "execution_count": 174,
   "id": "4558f888",
   "metadata": {},
   "outputs": [],
   "source": [
    "results = parallelized_inference(model, x, y, repeats=100, start=0.1)"
   ]
  },
  {
   "cell_type": "code",
   "execution_count": 175,
   "id": "26c3be75",
   "metadata": {},
   "outputs": [],
   "source": [
    "import numpy as np "
   ]
  },
  {
   "cell_type": "code",
   "execution_count": 176,
   "id": "49664ede",
   "metadata": {},
   "outputs": [],
   "source": [
    "def summarize_results(results): \n",
    "    values = []\n",
    "    \n",
    "    for df in results: \n",
    "        values.append(df.pd_dataframe().values)\n",
    "    \n",
    "    df = df.pd_dataframe()\n",
    "    columns = df.columns\n",
    "    \n",
    "    return pd.DataFrame(np.mean(values, axis=0), columns=columns, index=df.index), pd.DataFrame(np.std(values, axis=0), columns=columns,  index=df.index)"
   ]
  },
  {
   "cell_type": "code",
   "execution_count": 177,
   "id": "7b001175",
   "metadata": {},
   "outputs": [],
   "source": [
    "means, stds = summarize_results(results)"
   ]
  },
  {
   "cell_type": "code",
   "execution_count": 193,
   "id": "3ef29dbc",
   "metadata": {},
   "outputs": [],
   "source": [
    "x_axis = means['1'].index - y['1'].index[0]\n",
    "x_axis = [val.total_seconds() / (60 * 60 * 24) for val in x_axis]\n",
    "\n",
    "x_conncected = y['1'].index - y['1'].index[0]\n",
    "x_conncected = [val.total_seconds() / (60 * 60 * 24) for val in x_conncected]"
   ]
  },
  {
   "cell_type": "code",
   "execution_count": 191,
   "id": "d6fced81",
   "metadata": {},
   "outputs": [
    {
     "data": {
      "text/plain": [
       "2434"
      ]
     },
     "execution_count": 191,
     "metadata": {},
     "output_type": "execute_result"
    }
   ],
   "source": [
    "len(results[0])"
   ]
  },
  {
   "cell_type": "code",
   "execution_count": 194,
   "id": "179212c8",
   "metadata": {},
   "outputs": [
    {
     "data": {
      "image/png": "[encoded data removed]",
      "text/plain": [
       "<Figure size 252x189 with 1 Axes>"
      ]
     },
     "metadata": {
      "needs_background": "light"
     },
     "output_type": "display_data"
    }
   ],
   "source": [
    "plt.plot(x_axis, means['1'], c='b',  alpha=.9, lw=.2)\n",
    "plt.fill_between(x_axis, means['1']-2*stds['1'], means['1']+2*stds['1'], alpha=.4, color='b', label='forecast',)\n",
    "plt.plot(x_conncected, y['1'], c='k', label='actual', lw=.2,)\n",
    "\n",
    "plt.legend()\n",
    "#plt.xticks([])\n",
    "\n",
    "plt.xlabel('time / days')\n",
    "plt.ylabel('normalized emissions')\n",
    "plt.tight_layout()\n",
    "plt.savefig('piperazine_forecast_all.pdf', bbox_inches='tight')"
   ]
  },
  {
   "cell_type": "code",
   "execution_count": 195,
   "id": "eea438ec",
   "metadata": {},
   "outputs": [
    {
     "data": {
      "image/png": "[encoded data removed]",
      "text/plain": [
       "<Figure size 252x189 with 1 Axes>"
      ]
     },
     "metadata": {
      "needs_background": "light"
     },
     "output_type": "display_data"
    }
   ],
   "source": [
    "plt.plot(x_axis, means['0'], c='b',  alpha=.9, lw=.2)\n",
    "plt.fill_between(x_axis, means['0']-2*stds['0'], means['0']+2*stds['0'], alpha=.4, color='b', label='forecast',)\n",
    "plt.plot(x_conncected, y['0'], c='k', label='actual', lw=.2,)\n",
    "\n",
    "plt.legend()\n",
    "#plt.xticks([])\n",
    "\n",
    "plt.xlabel('time / days')\n",
    "plt.ylabel('normalized emissions')\n",
    "plt.tight_layout()\n",
    "plt.savefig('amp_forecast_all.pdf', bbox_inches='tight')"
   ]
  },
  {
   "cell_type": "code",
   "execution_count": 157,
   "id": "8d52bc17",
   "metadata": {},
   "outputs": [
    {
     "data": {
      "text/plain": [
       "['y_transformer__reduced_feature_set']"
      ]
     },
     "execution_count": 157,
     "metadata": {},
     "output_type": "execute_result"
    }
   ],
   "source": [
    "joblib.dump(model, '2amp_pip_model_reduced_feature_set')\n",
    "joblib.dump(transformer, 'x_scaler_reduced_feature_set')\n",
    "joblib.dump(y_transformer, 'y_transformer__reduced_feature_set')"
   ]
  },
  {
   "cell_type": "markdown",
   "id": "63a797f8",
   "metadata": {},
   "source": [
    "## Now, also build a model for CO2 and NH3"
   ]
  },
  {
   "cell_type": "code",
   "execution_count": 196,
   "id": "2c226076",
   "metadata": {},
   "outputs": [],
   "source": [
    "NEW_TARGETS = [\"Carbon dioxide CO2\", \"Ammonia NH3\"]"
   ]
  },
  {
   "cell_type": "code",
   "execution_count": 197,
   "id": "4052b239",
   "metadata": {},
   "outputs": [],
   "source": [
    "y = TimeSeries.from_dataframe(df, value_cols=NEW_TARGETS)\n",
    "x = TimeSeries.from_dataframe(df, value_cols=MEAS_COLUMNS)"
   ]
  },
  {
   "cell_type": "code",
   "execution_count": 198,
   "id": "52df8136",
   "metadata": {},
   "outputs": [],
   "source": [
    "transformer = Scaler()\n",
    "x = transformer.fit_transform(x)\n",
    "\n",
    "y_transformer = Scaler()\n",
    "y = y_transformer.fit_transform(y)"
   ]
  },
  {
   "cell_type": "code",
   "execution_count": 199,
   "id": "3b44ac78",
   "metadata": {},
   "outputs": [
    {
     "name": "stderr",
     "output_type": "stream",
     "text": [
      "[2021-05-17 16:24:24,597] INFO | darts.models.torch_forecasting_model | Train dataset contains 5401 samples.\n",
      "[2021-05-17 16:24:24,597] INFO | darts.models.torch_forecasting_model | Train dataset contains 5401 samples.\n"
     ]
    }
   ],
   "source": [
    "model_co2 = run_model((x,y))"
   ]
  },
  {
   "cell_type": "code",
   "execution_count": 200,
   "id": "7005a9df",
   "metadata": {},
   "outputs": [],
   "source": [
    "backtest_c02 = model_co2.historical_forecasts(y,\n",
    "                          covariates=x,\n",
    "                          start=0.01,\n",
    "                          forecast_horizon=1,\n",
    "                          stride=2,\n",
    "                          retrain=False,\n",
    "                          verbose=False)"
   ]
  },
  {
   "cell_type": "code",
   "execution_count": 163,
   "id": "70944a9b",
   "metadata": {},
   "outputs": [
    {
     "data": {
      "image/png": "[encoded data removed]",
      "text/plain": [
       "<Figure size 432x288 with 1 Axes>"
      ]
     },
     "metadata": {
      "needs_background": "light"
     },
     "output_type": "display_data"
    }
   ],
   "source": [
    "backtest_c02['1'].plot(label='forecast')\n",
    "y['1'].plot(alpha=.5, label='observed')\n",
    "plt.xticks([], [])\n",
    "plt.legend()\n",
    "plt.title('ammonia')\n",
    "plt.savefig('ammonia_forecast.pdf', bbox_inches='tight')"
   ]
  },
  {
   "cell_type": "code",
   "execution_count": 164,
   "id": "01d721e7",
   "metadata": {},
   "outputs": [
    {
     "data": {
      "image/png": "[encoded data removed]",
      "text/plain": [
       "<Figure size 432x288 with 1 Axes>"
      ]
     },
     "metadata": {
      "needs_background": "light"
     },
     "output_type": "display_data"
    }
   ],
   "source": [
    "backtest_c02['0'].plot(label='forecast')\n",
    "y['0'].plot(alpha=.5, label='observed')\n",
    "plt.xticks([], [])\n",
    "plt.legend()\n",
    "plt.title('carbon dioxide')\n",
    "plt.savefig('co2_forecast.pdf', bbox_inches='tight')"
   ]
  },
  {
   "cell_type": "code",
   "execution_count": 165,
   "id": "6f01f793",
   "metadata": {},
   "outputs": [
    {
     "data": {
      "text/plain": [
       "['y_transformer_co2_ammonia_reduced_feature_set']"
      ]
     },
     "execution_count": 165,
     "metadata": {},
     "output_type": "execute_result"
    }
   ],
   "source": [
    "joblib.dump(model_co2, 'co2_ammonia_model_reduced_feature_set')\n",
    "joblib.dump(y_transformer, 'y_transformer_co2_ammonia_reduced_feature_set')"
   ]
  },
  {
   "cell_type": "code",
   "execution_count": null,
   "id": "b7432e9d",
   "metadata": {},
   "outputs": [],
   "source": [
    "results_co2 = parallelized_inference(model_co2, x, y, repeats=100, start=0.1)"
   ]
  },
  {
   "cell_type": "code",
   "execution_count": null,
   "id": "3ea33686",
   "metadata": {},
   "outputs": [],
   "source": []
  }
 ],
 "metadata": {
  "kernelspec": {
   "display_name": "Python 3",
   "language": "python",
   "name": "python3"
  },
  "language_info": {
   "codemirror_mode": {
    "name": "ipython",
    "version": 3
   },
   "file_extension": ".py",
   "mimetype": "text/x-python",
   "name": "python",
   "nbconvert_exporter": "python",
   "pygments_lexer": "ipython3",
   "version": "3.8.8"
  }
 },
 "nbformat": 4,
 "nbformat_minor": 5
}
