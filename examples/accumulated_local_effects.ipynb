{
 "cells": [
  {
   "cell_type": "markdown",
   "id": "fe4892ed",
   "metadata": {},
   "source": [
    "1. Get the bind \n",
    "2. Invoke the prediction for the corner of the bins "
   ]
  },
  {
   "cell_type": "code",
   "execution_count": 1,
   "id": "130bdfd6",
   "metadata": {},
   "outputs": [],
   "source": [
    "import numpy as np \n",
    "from itertools import product\n",
    "import pandas as pd\n",
    "\n",
    "df = pd.read_pickle('detrended.pkl')"
   ]
  },
  {
   "cell_type": "code",
   "execution_count": 2,
   "id": "ce8ff534",
   "metadata": {},
   "outputs": [],
   "source": [
    "def _get_quantiles(train_set, feature, bins):\n",
    "    \"\"\"Get quantiles from a feature in a dataset.\n",
    "    Parameters\n",
    "    ----------\n",
    "    train_set : pandas.core.frame.DataFrame\n",
    "        Dataset containing feature `feature`.\n",
    "    feature : column label\n",
    "        Feature for which to calculate quantiles.\n",
    "    bins : int\n",
    "        The number of quantiles is calculated as `bins + 1`.\n",
    "    Returns\n",
    "    -------\n",
    "    quantiles : array-like\n",
    "        Quantiles.\n",
    "    bins : int\n",
    "        Number of bins, `len(quantiles) - 1`. This may be lower than the original\n",
    "        `bins` if identical quantiles were present.\n",
    "    Raises\n",
    "    ------\n",
    "    ValueError\n",
    "        If `bins` is not an integer.\n",
    "    Notes\n",
    "    -----\n",
    "    When using this definition of quantiles in combination with a half open interval\n",
    "    (lower quantile, upper quantile], care has to taken that the smallest observation\n",
    "    is included in the first bin. This is handled transparently by `np.digitize`.\n",
    "    \"\"\"\n",
    "    if not isinstance(bins, (int, np.integer)):\n",
    "        raise ValueError(\n",
    "            \"Expected integer 'bins', but got type '{}'.\".format(type(bins))\n",
    "        )\n",
    "    quantiles = np.unique(\n",
    "        np.quantile(\n",
    "            train_set[feature], np.linspace(0, 1, bins + 1), interpolation=\"lower\"\n",
    "        )\n",
    "    )\n",
    "    bins = len(quantiles) - 1\n",
    "    return quantiles, bins"
   ]
  },
  {
   "cell_type": "code",
   "execution_count": 3,
   "id": "546a43a8",
   "metadata": {},
   "outputs": [
    {
     "data": {
      "text/plain": [
       "(array([-11.23479291,  -2.53481609,  -1.53466239,  -0.98140235,\n",
       "         -0.64641399,  -0.20998329,   0.41364643,   1.06293961,\n",
       "          1.55717116,   1.98567802,  16.37713454]),\n",
       " 10)"
      ]
     },
     "execution_count": 3,
     "metadata": {},
     "output_type": "execute_result"
    }
   ],
   "source": [
    "_get_quantiles(df, 'TI-19', 10)"
   ]
  },
  {
   "cell_type": "code",
   "execution_count": 4,
   "id": "b0c9ffa6",
   "metadata": {},
   "outputs": [],
   "source": [
    "train_set = df"
   ]
  },
  {
   "cell_type": "code",
   "execution_count": 5,
   "id": "56d1fbcd",
   "metadata": {},
   "outputs": [],
   "source": [
    "quantiles_list, bins_list = tuple(\n",
    "    zip(\n",
    "        *(\n",
    "            _get_quantiles(train_set, feature, n_bin)\n",
    "            for feature, n_bin in zip(['TI-19', 'FI-2'], [10,10])\n",
    "        )\n",
    "    )\n",
    ")\n",
    "\n",
    "# Define the bins the feature samples fall into. Shift and clip to ensure we are\n",
    "# getting the index of the left bin edge and the smallest sample retains its index\n",
    "# of 0.\n",
    "indices_list = [\n",
    "    np.clip(np.digitize(train_set[feature], quantiles, right=True) - 1, 0, None)\n",
    "    for feature, quantiles in zip(['TI-19', 'FI-2'], quantiles_list)\n",
    "]"
   ]
  },
  {
   "cell_type": "code",
   "execution_count": 6,
   "id": "8ce1a7bb",
   "metadata": {},
   "outputs": [
    {
     "data": {
      "text/plain": [
       "array([2, 2, 2, ..., 1, 2, 2])"
      ]
     },
     "execution_count": 6,
     "metadata": {},
     "output_type": "execute_result"
    }
   ],
   "source": [
    "indices_list[0]"
   ]
  },
  {
   "cell_type": "code",
   "execution_count": 7,
   "id": "e0bbc5a7",
   "metadata": {},
   "outputs": [
    {
     "data": {
      "text/plain": [
       "array([-11.23479291,  -2.53481609,  -1.53466239,  -0.98140235,\n",
       "        -0.64641399,  -0.20998329,   0.41364643,   1.06293961,\n",
       "         1.55717116,   1.98567802,  16.37713454])"
      ]
     },
     "execution_count": 7,
     "metadata": {},
     "output_type": "execute_result"
    }
   ],
   "source": [
    "quantiles_list[0]"
   ]
  },
  {
   "cell_type": "code",
   "execution_count": 8,
   "id": "9e2cf66c",
   "metadata": {},
   "outputs": [],
   "source": [
    "features = ['TI-19', 'FI-2']"
   ]
  },
  {
   "cell_type": "code",
   "execution_count": 17,
   "id": "48dfe50e",
   "metadata": {},
   "outputs": [
    {
     "name": "stdout",
     "output_type": "stream",
     "text": [
      "(0, 0)\n",
      "(0, 1)\n",
      "(1, 0)\n",
      "(1, 1)\n"
     ]
    }
   ],
   "source": [
    "predictions = {}\n",
    "for shifts in product(*(range(2),) * 2):\n",
    "    print(shifts)\n",
    "    mod_train_set = train_set.copy()\n",
    "    for i in range(2):\n",
    "        mod_train_set[features[i]] = quantiles_list[i][indices_list[i] + shifts[i]]\n",
    "        #print(mod_train_set)\n",
    "#     predictions[shifts] = predictor(mod_train_set)\n",
    "# # The individual effects.\n",
    "# effects = (predictions[(1, 1)] - predictions[(1, 0)]) - (\n",
    "#     predictions[(0, 1)] - predictions[(0, 0)]\n",
    "# )"
   ]
  },
  {
   "cell_type": "code",
   "execution_count": 10,
   "id": "da7f34f7",
   "metadata": {},
   "outputs": [
    {
     "data": {
      "text/plain": [
       "array([-0.98140235, -0.98140235, -0.98140235, ..., -1.53466239,\n",
       "       -0.98140235, -0.98140235])"
      ]
     },
     "execution_count": 10,
     "metadata": {},
     "output_type": "execute_result"
    }
   ],
   "source": [
    "quantiles_list[0][indices_list[0] + shifts[0]]"
   ]
  },
  {
   "cell_type": "code",
   "execution_count": 11,
   "id": "20b3b354",
   "metadata": {},
   "outputs": [
    {
     "data": {
      "text/plain": [
       "array([2, 2, 2, ..., 1, 2, 2])"
      ]
     },
     "execution_count": 11,
     "metadata": {},
     "output_type": "execute_result"
    }
   ],
   "source": [
    "indices_list[0]"
   ]
  },
  {
   "cell_type": "code",
   "execution_count": 12,
   "id": "7c22fce1",
   "metadata": {},
   "outputs": [
    {
     "data": {
      "text/plain": [
       "array([-11.23479291,  -2.53481609,  -1.53466239,  -0.98140235,\n",
       "        -0.64641399,  -0.20998329,   0.41364643,   1.06293961,\n",
       "         1.55717116,   1.98567802,  16.37713454])"
      ]
     },
     "execution_count": 12,
     "metadata": {},
     "output_type": "execute_result"
    }
   ],
   "source": [
    "quantiles_list[0]"
   ]
  },
  {
   "cell_type": "code",
   "execution_count": 20,
   "id": "7256db21",
   "metadata": {},
   "outputs": [
    {
     "data": {
      "text/plain": [
       "(1, 1)"
      ]
     },
     "execution_count": 20,
     "metadata": {},
     "output_type": "execute_result"
    }
   ],
   "source": [
    "shifts"
   ]
  },
  {
   "cell_type": "code",
   "execution_count": 22,
   "id": "0cb6635b",
   "metadata": {},
   "outputs": [
    {
     "data": {
      "text/plain": [
       "12609"
      ]
     },
     "execution_count": 22,
     "metadata": {},
     "output_type": "execute_result"
    }
   ],
   "source": [
    "quantiles_list[i][indices_list[i] + shifts[i]]"
   ]
  },
  {
   "cell_type": "code",
   "execution_count": 19,
   "id": "0ff8f9d1",
   "metadata": {},
   "outputs": [
    {
     "data": {
      "text/plain": [
       "2020-01-15 11:42:01    25.022335\n",
       "2020-01-15 11:44:01    27.723213\n",
       "2020-01-15 11:46:01    38.114764\n",
       "2020-01-15 11:48:01    40.775602\n",
       "2020-01-15 11:50:01    11.225991\n",
       "                         ...    \n",
       "2020-02-01 23:50:01    34.206385\n",
       "2020-02-01 23:52:01    16.645300\n",
       "2020-02-01 23:54:01    27.047838\n",
       "2020-02-01 23:56:01    20.176938\n",
       "2020-02-01 23:58:01    30.267708\n",
       "Freq: 2T, Name: FI-19, Length: 12609, dtype: float64"
      ]
     },
     "execution_count": 19,
     "metadata": {},
     "output_type": "execute_result"
    }
   ],
   "source": [
    "mod_train_set['FI-19']"
   ]
  },
  {
   "cell_type": "code",
   "execution_count": 27,
   "id": "a911627d",
   "metadata": {},
   "outputs": [
    {
     "data": {
      "text/plain": [
       "1260"
      ]
     },
     "execution_count": 27,
     "metadata": {},
     "output_type": "execute_result"
    }
   ],
   "source": [
    "len(np.where((df['TI-19']>=-11.23479291) & (df['TI-19'] < -2.53481609))[0])"
   ]
  },
  {
   "cell_type": "code",
   "execution_count": null,
   "id": "fc5ab7bc",
   "metadata": {},
   "outputs": [],
   "source": []
  }
 ],
 "metadata": {
  "kernelspec": {
   "display_name": "Python 3",
   "language": "python",
   "name": "python3"
  },
  "language_info": {
   "codemirror_mode": {
    "name": "ipython",
    "version": 3
   },
   "file_extension": ".py",
   "mimetype": "text/x-python",
   "name": "python",
   "nbconvert_exporter": "python",
   "pygments_lexer": "ipython3",
   "version": "3.8.8"
  }
 },
 "nbformat": 4,
 "nbformat_minor": 5
}
