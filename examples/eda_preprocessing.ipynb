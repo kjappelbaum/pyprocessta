{
 "cells": [
  {
   "cell_type": "code",
   "execution_count": 1,
   "id": "hidden-identifier",
   "metadata": {},
   "outputs": [],
   "source": [
    "%load_ext autoreload\n",
    "%autoreload 2\n",
    "\n",
    "import sys\n",
    "sys.path.append('../src')"
   ]
  },
  {
   "cell_type": "code",
   "execution_count": 2,
   "id": "consistent-presence",
   "metadata": {},
   "outputs": [],
   "source": [
    "import pandas as pd \n",
    "import matplotlib.pyplot as plt\n",
    "plt.style.use('science')"
   ]
  },
  {
   "cell_type": "markdown",
   "id": "efficient-point",
   "metadata": {},
   "source": [
    "## Load data "
   ]
  },
  {
   "cell_type": "markdown",
   "id": "handmade-timing",
   "metadata": {},
   "source": [
    "There are some parsing steps that are specific to this dataset wherefore they are not implemented in `pyprocessta`. "
   ]
  },
  {
   "cell_type": "markdown",
   "id": "hourly-booking",
   "metadata": {},
   "source": [
    "## Resample data"
   ]
  },
  {
   "cell_type": "markdown",
   "id": "standing-crown",
   "metadata": {},
   "source": [
    "## Plot data "
   ]
  },
  {
   "cell_type": "code",
   "execution_count": null,
   "id": "aggressive-latest",
   "metadata": {},
   "outputs": [],
   "source": []
  }
 ],
 "metadata": {
  "kernelspec": {
   "display_name": "Python 3",
   "language": "python",
   "name": "python3"
  },
  "language_info": {
   "codemirror_mode": {
    "name": "ipython",
    "version": 3
   },
   "file_extension": ".py",
   "mimetype": "text/x-python",
   "name": "python",
   "nbconvert_exporter": "python",
   "pygments_lexer": "ipython3",
   "version": "3.8.8"
  }
 },
 "nbformat": 4,
 "nbformat_minor": 5
}
