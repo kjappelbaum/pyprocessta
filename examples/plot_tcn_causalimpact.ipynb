{
 "cells": [
  {
   "cell_type": "code",
   "execution_count": null,
   "id": "a7b36b00",
   "metadata": {},
   "outputs": [],
   "source": [
    "import pickle \n",
    "\n",
    "import matplotlib.pyplot as plt\n",
    "import pandas as pd"
   ]
  },
  {
   "cell_type": "code",
   "execution_count": 2,
   "id": "9f178689",
   "metadata": {},
   "outputs": [
    {
     "name": "stderr",
     "output_type": "stream",
     "text": [
      "[2021-04-20 14:44:42,326] WARNING | darts.models | Support for AutoARIMA is not available. To enable it, install u8darts[pmdarima] or u8darts[all].\n",
      "[2021-04-20 14:44:42,329] WARNING | darts.models | Support Facebook Prophet is not available. To enable it, install u8darts[fbprophet] or u8darts[all].\n"
     ]
    }
   ],
   "source": [
    "with open('causalimpact.pkl', 'rb') as handle: \n",
    "    causalimpact_results = pickle.load(handle)"
   ]
  },
  {
   "cell_type": "code",
   "execution_count": 3,
   "id": "ab08703c",
   "metadata": {},
   "outputs": [
    {
     "data": {
      "text/plain": [
       "dict_keys([0, 1, 2, 3, 9])"
      ]
     },
     "execution_count": 3,
     "metadata": {},
     "output_type": "execute_result"
    }
   ],
   "source": [
    "causalimpact_results.keys()"
   ]
  },
  {
   "cell_type": "code",
   "execution_count": 10,
   "id": "50f5ea41",
   "metadata": {},
   "outputs": [],
   "source": [
    "values = causalimpact_results[0]"
   ]
  },
  {
   "cell_type": "code",
   "execution_count": 13,
   "id": "65578ddd",
   "metadata": {},
   "outputs": [],
   "source": [
    "before_predictions = []"
   ]
  },
  {
   "cell_type": "code",
   "execution_count": 14,
   "id": "a6fcde49",
   "metadata": {},
   "outputs": [],
   "source": [
    "x_test, y_test = values['before']\n",
    "model = values['model']\n",
    "before_predictions.append(model.historical_forecasts(y_test,\n",
    "                                        covariates=x_test,\n",
    "                                        start=0.2,\n",
    "                                        forecast_horizon=1,\n",
    "                                        stride=1,\n",
    "                                        retrain=False,\n",
    "                                        verbose=False))"
   ]
  },
  {
   "cell_type": "code",
   "execution_count": null,
   "id": "2b6efbdd",
   "metadata": {},
   "outputs": [],
   "source": []
  }
 ],
 "metadata": {
  "kernelspec": {
   "display_name": "Python 3",
   "language": "python",
   "name": "python3"
  },
  "language_info": {
   "codemirror_mode": {
    "name": "ipython",
    "version": 3
   },
   "file_extension": ".py",
   "mimetype": "text/x-python",
   "name": "python",
   "nbconvert_exporter": "python",
   "pygments_lexer": "ipython3",
   "version": "3.8.8"
  }
 },
 "nbformat": 4,
 "nbformat_minor": 5
}
