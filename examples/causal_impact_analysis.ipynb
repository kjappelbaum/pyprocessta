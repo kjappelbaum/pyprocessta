{
 "cells": [
  {
   "cell_type": "markdown",
   "id": "critical-strand",
   "metadata": {},
   "source": [
    "# Causal impact analysis "
   ]
  },
  {
   "cell_type": "code",
   "execution_count": 7,
   "id": "conventional-writer",
   "metadata": {},
   "outputs": [],
   "source": [
    "import pandas as pd\n",
    "from causalimpact import CausalImpact\n",
    "import pickle"
   ]
  },
  {
   "cell_type": "code",
   "execution_count": 9,
   "id": "desperate-carpet",
   "metadata": {},
   "outputs": [],
   "source": [
    "with open('step_times.pkl', 'rb') as handle:\n",
    "    times = pickle.load(handle)"
   ]
  },
  {
   "cell_type": "code",
   "execution_count": 5,
   "id": "wireless-carry",
   "metadata": {},
   "outputs": [],
   "source": [
    "df = pd.read_pickle('despiked.pkl')"
   ]
  },
  {
   "cell_type": "code",
   "execution_count": 6,
   "id": "detected-crossing",
   "metadata": {},
   "outputs": [
    {
     "data": {
      "text/html": [
       "<div>\n",
       "<style scoped>\n",
       "    .dataframe tbody tr th:only-of-type {\n",
       "        vertical-align: middle;\n",
       "    }\n",
       "\n",
       "    .dataframe tbody tr th {\n",
       "        vertical-align: top;\n",
       "    }\n",
       "\n",
       "    .dataframe thead th {\n",
       "        text-align: right;\n",
       "    }\n",
       "</style>\n",
       "<table border=\"1\" class=\"dataframe\">\n",
       "  <thead>\n",
       "    <tr style=\"text-align: right;\">\n",
       "      <th></th>\n",
       "      <th>H2O</th>\n",
       "      <th>Carbon dioxide CO2</th>\n",
       "      <th>Ammonia NH3</th>\n",
       "      <th>2-Amino-2-methylpropanol C4H11NO</th>\n",
       "      <th>Piperazine C4H10N2</th>\n",
       "      <th>Oxygen</th>\n",
       "      <th>PI-2</th>\n",
       "      <th>TI-2</th>\n",
       "      <th>FI-2</th>\n",
       "      <th>PI-3</th>\n",
       "      <th>...</th>\n",
       "      <th>TI-16</th>\n",
       "      <th>FI-151</th>\n",
       "      <th>TI-151</th>\n",
       "      <th>TI-152</th>\n",
       "      <th>TI-212</th>\n",
       "      <th>FI-241</th>\n",
       "      <th>TI-241</th>\n",
       "      <th>TI-242</th>\n",
       "      <th>valve-position-12</th>\n",
       "      <th>TI-1213</th>\n",
       "    </tr>\n",
       "  </thead>\n",
       "  <tbody>\n",
       "    <tr>\n",
       "      <th>2020-01-21 00:00:15</th>\n",
       "      <td>1.682807</td>\n",
       "      <td>0.235364</td>\n",
       "      <td>2.560828</td>\n",
       "      <td>-21.125973</td>\n",
       "      <td>-7.650366</td>\n",
       "      <td>1.349571</td>\n",
       "      <td>-0.000496</td>\n",
       "      <td>-1.224319</td>\n",
       "      <td>9.083791</td>\n",
       "      <td>-0.000375</td>\n",
       "      <td>...</td>\n",
       "      <td>-1.216742</td>\n",
       "      <td>446.723790</td>\n",
       "      <td>-0.035674</td>\n",
       "      <td>-0.690244</td>\n",
       "      <td>-1.071597</td>\n",
       "      <td>108.890284</td>\n",
       "      <td>-0.003619</td>\n",
       "      <td>-2.307430</td>\n",
       "      <td>-0.034115</td>\n",
       "      <td>-1.791916</td>\n",
       "    </tr>\n",
       "    <tr>\n",
       "      <th>2020-01-21 00:01:15</th>\n",
       "      <td>1.680716</td>\n",
       "      <td>0.228377</td>\n",
       "      <td>2.561794</td>\n",
       "      <td>-20.667320</td>\n",
       "      <td>-7.422310</td>\n",
       "      <td>1.352443</td>\n",
       "      <td>-0.000412</td>\n",
       "      <td>-1.244588</td>\n",
       "      <td>7.087570</td>\n",
       "      <td>-0.000450</td>\n",
       "      <td>...</td>\n",
       "      <td>-1.201464</td>\n",
       "      <td>451.628894</td>\n",
       "      <td>-0.070300</td>\n",
       "      <td>-0.692918</td>\n",
       "      <td>-1.072954</td>\n",
       "      <td>109.483885</td>\n",
       "      <td>-0.007945</td>\n",
       "      <td>-2.329376</td>\n",
       "      <td>-0.034111</td>\n",
       "      <td>-1.774212</td>\n",
       "    </tr>\n",
       "    <tr>\n",
       "      <th>2020-01-21 00:02:15</th>\n",
       "      <td>1.678500</td>\n",
       "      <td>0.220972</td>\n",
       "      <td>2.562818</td>\n",
       "      <td>-20.181239</td>\n",
       "      <td>-7.180616</td>\n",
       "      <td>1.355487</td>\n",
       "      <td>-0.000448</td>\n",
       "      <td>-1.241022</td>\n",
       "      <td>7.525162</td>\n",
       "      <td>-0.000401</td>\n",
       "      <td>...</td>\n",
       "      <td>-1.213333</td>\n",
       "      <td>457.875492</td>\n",
       "      <td>-0.091090</td>\n",
       "      <td>-0.691844</td>\n",
       "      <td>-1.072889</td>\n",
       "      <td>111.261600</td>\n",
       "      <td>0.004397</td>\n",
       "      <td>-2.345620</td>\n",
       "      <td>-0.034107</td>\n",
       "      <td>-1.780701</td>\n",
       "    </tr>\n",
       "    <tr>\n",
       "      <th>2020-01-21 00:03:15</th>\n",
       "      <td>1.676162</td>\n",
       "      <td>0.213157</td>\n",
       "      <td>2.563898</td>\n",
       "      <td>-19.668273</td>\n",
       "      <td>-6.925554</td>\n",
       "      <td>1.358699</td>\n",
       "      <td>-0.000469</td>\n",
       "      <td>-1.240277</td>\n",
       "      <td>6.348979</td>\n",
       "      <td>-0.000338</td>\n",
       "      <td>...</td>\n",
       "      <td>-1.212363</td>\n",
       "      <td>460.155263</td>\n",
       "      <td>-0.091981</td>\n",
       "      <td>-0.690089</td>\n",
       "      <td>-1.065032</td>\n",
       "      <td>110.236362</td>\n",
       "      <td>-0.002993</td>\n",
       "      <td>-2.321836</td>\n",
       "      <td>-0.034103</td>\n",
       "      <td>-1.774095</td>\n",
       "    </tr>\n",
       "    <tr>\n",
       "      <th>2020-01-21 00:04:15</th>\n",
       "      <td>1.673704</td>\n",
       "      <td>0.204944</td>\n",
       "      <td>2.565034</td>\n",
       "      <td>-19.129162</td>\n",
       "      <td>-6.657492</td>\n",
       "      <td>1.362075</td>\n",
       "      <td>-0.000440</td>\n",
       "      <td>-1.246035</td>\n",
       "      <td>3.789692</td>\n",
       "      <td>-0.000309</td>\n",
       "      <td>...</td>\n",
       "      <td>-1.214739</td>\n",
       "      <td>457.705561</td>\n",
       "      <td>-0.100521</td>\n",
       "      <td>-0.684093</td>\n",
       "      <td>-1.055938</td>\n",
       "      <td>110.071760</td>\n",
       "      <td>-0.005436</td>\n",
       "      <td>-2.307093</td>\n",
       "      <td>-0.034099</td>\n",
       "      <td>-1.796970</td>\n",
       "    </tr>\n",
       "  </tbody>\n",
       "</table>\n",
       "<p>5 rows × 67 columns</p>\n",
       "</div>"
      ],
      "text/plain": [
       "                          H2O  Carbon dioxide CO2  Ammonia NH3  \\\n",
       "2020-01-21 00:00:15  1.682807            0.235364     2.560828   \n",
       "2020-01-21 00:01:15  1.680716            0.228377     2.561794   \n",
       "2020-01-21 00:02:15  1.678500            0.220972     2.562818   \n",
       "2020-01-21 00:03:15  1.676162            0.213157     2.563898   \n",
       "2020-01-21 00:04:15  1.673704            0.204944     2.565034   \n",
       "\n",
       "                     2-Amino-2-methylpropanol C4H11NO  Piperazine C4H10N2  \\\n",
       "2020-01-21 00:00:15                        -21.125973           -7.650366   \n",
       "2020-01-21 00:01:15                        -20.667320           -7.422310   \n",
       "2020-01-21 00:02:15                        -20.181239           -7.180616   \n",
       "2020-01-21 00:03:15                        -19.668273           -6.925554   \n",
       "2020-01-21 00:04:15                        -19.129162           -6.657492   \n",
       "\n",
       "                       Oxygen      PI-2      TI-2      FI-2      PI-3  ...  \\\n",
       "2020-01-21 00:00:15  1.349571 -0.000496 -1.224319  9.083791 -0.000375  ...   \n",
       "2020-01-21 00:01:15  1.352443 -0.000412 -1.244588  7.087570 -0.000450  ...   \n",
       "2020-01-21 00:02:15  1.355487 -0.000448 -1.241022  7.525162 -0.000401  ...   \n",
       "2020-01-21 00:03:15  1.358699 -0.000469 -1.240277  6.348979 -0.000338  ...   \n",
       "2020-01-21 00:04:15  1.362075 -0.000440 -1.246035  3.789692 -0.000309  ...   \n",
       "\n",
       "                        TI-16      FI-151    TI-151    TI-152    TI-212  \\\n",
       "2020-01-21 00:00:15 -1.216742  446.723790 -0.035674 -0.690244 -1.071597   \n",
       "2020-01-21 00:01:15 -1.201464  451.628894 -0.070300 -0.692918 -1.072954   \n",
       "2020-01-21 00:02:15 -1.213333  457.875492 -0.091090 -0.691844 -1.072889   \n",
       "2020-01-21 00:03:15 -1.212363  460.155263 -0.091981 -0.690089 -1.065032   \n",
       "2020-01-21 00:04:15 -1.214739  457.705561 -0.100521 -0.684093 -1.055938   \n",
       "\n",
       "                         FI-241    TI-241    TI-242  valve-position-12  \\\n",
       "2020-01-21 00:00:15  108.890284 -0.003619 -2.307430          -0.034115   \n",
       "2020-01-21 00:01:15  109.483885 -0.007945 -2.329376          -0.034111   \n",
       "2020-01-21 00:02:15  111.261600  0.004397 -2.345620          -0.034107   \n",
       "2020-01-21 00:03:15  110.236362 -0.002993 -2.321836          -0.034103   \n",
       "2020-01-21 00:04:15  110.071760 -0.005436 -2.307093          -0.034099   \n",
       "\n",
       "                      TI-1213  \n",
       "2020-01-21 00:00:15 -1.791916  \n",
       "2020-01-21 00:01:15 -1.774212  \n",
       "2020-01-21 00:02:15 -1.780701  \n",
       "2020-01-21 00:03:15 -1.774095  \n",
       "2020-01-21 00:04:15 -1.796970  \n",
       "\n",
       "[5 rows x 67 columns]"
      ]
     },
     "execution_count": 6,
     "metadata": {},
     "output_type": "execute_result"
    }
   ],
   "source": [
    "df.head()"
   ]
  },
  {
   "cell_type": "code",
   "execution_count": 11,
   "id": "friendly-headquarters",
   "metadata": {},
   "outputs": [
    {
     "data": {
      "text/plain": [
       "[{'start': datetime.datetime(2020, 1, 21, 11, 40),\n",
       "  'end': datetime.datetime(2020, 1, 21, 16, 50)},\n",
       " {'start': datetime.datetime(2020, 1, 24, 12, 40),\n",
       "  'end': datetime.datetime(2020, 1, 24, 19, 40)},\n",
       " {'start': datetime.datetime(2020, 2, 1, 9, 10),\n",
       "  'end': datetime.datetime(2020, 2, 1, 16, 20)},\n",
       " {'start': datetime.datetime(2020, 1, 22, 9, 0),\n",
       "  'end': datetime.datetime(2020, 1, 22, 14, 10)},\n",
       " {'start': datetime.datetime(2020, 1, 17, 8, 55),\n",
       "  'end': datetime.datetime(2020, 1, 17, 13, 55)},\n",
       " {'start': datetime.datetime(2020, 1, 20, 8, 50),\n",
       "  'end': datetime.datetime(2020, 1, 20, 13, 50)},\n",
       " {'start': datetime.datetime(2020, 1, 15, 14, 10),\n",
       "  'end': datetime.datetime(2020, 1, 15, 18, 30)},\n",
       " {'start': datetime.datetime(2020, 1, 16, 9, 10),\n",
       "  'end': datetime.datetime(2020, 1, 16, 13, 10)},\n",
       " {'start': datetime.datetime(2020, 1, 23, 9, 10),\n",
       "  'end': datetime.datetime(2020, 1, 23, 14, 20)},\n",
       " {'start': datetime.datetime(2020, 1, 24, 8, 25),\n",
       "  'end': datetime.datetime(2020, 1, 24, 13, 35)}]"
      ]
     },
     "execution_count": 11,
     "metadata": {},
     "output_type": "execute_result"
    }
   ],
   "source": [
    "times"
   ]
  },
  {
   "cell_type": "code",
   "execution_count": 49,
   "id": "small-secondary",
   "metadata": {},
   "outputs": [],
   "source": [
    "s1 =  df.index[df.index.get_loc(pd.to_datetime(times[0]['start']), method='ffill')]"
   ]
  },
  {
   "cell_type": "code",
   "execution_count": 50,
   "id": "pending-camping",
   "metadata": {},
   "outputs": [],
   "source": [
    "s2 = df.index[df.index.get_loc(pd.to_datetime(times[0]['start']), method='bfill')]"
   ]
  },
  {
   "cell_type": "code",
   "execution_count": 51,
   "id": "colored-boring",
   "metadata": {},
   "outputs": [],
   "source": [
    "s3 = df.index[df.index.get_loc(pd.to_datetime(times[0]['end']), method='nearest')]"
   ]
  },
  {
   "cell_type": "code",
   "execution_count": 52,
   "id": "understood-forestry",
   "metadata": {},
   "outputs": [
    {
     "data": {
      "text/plain": [
       "Timestamp('2020-01-21 11:39:15', freq='T')"
      ]
     },
     "execution_count": 52,
     "metadata": {},
     "output_type": "execute_result"
    }
   ],
   "source": [
    "s1"
   ]
  },
  {
   "cell_type": "code",
   "execution_count": 53,
   "id": "atomic-duncan",
   "metadata": {},
   "outputs": [
    {
     "data": {
      "text/plain": [
       "Timestamp('2020-01-21 11:40:15', freq='T')"
      ]
     },
     "execution_count": 53,
     "metadata": {},
     "output_type": "execute_result"
    }
   ],
   "source": [
    "s2"
   ]
  },
  {
   "cell_type": "code",
   "execution_count": 54,
   "id": "preceding-dallas",
   "metadata": {},
   "outputs": [
    {
     "name": "stdout",
     "output_type": "stream",
     "text": [
      "WARNING:tensorflow:From /Users/kevinmaikjablonka/opt/miniconda3/envs/pyprocessta/lib/python3.8/site-packages/tensorflow/python/ops/linalg/linear_operator_diag.py:167: calling LinearOperator.__init__ (from tensorflow.python.ops.linalg.linear_operator) with graph_parents is deprecated and will be removed in a future version.\n",
      "Instructions for updating:\n",
      "Do not pass `graph_parents`.  They will  no longer be used.\n",
      "WARNING:tensorflow:From /Users/kevinmaikjablonka/opt/miniconda3/envs/pyprocessta/lib/python3.8/site-packages/tensorflow/python/ops/linalg/linear_operator_block_diag.py:223: LinearOperator.graph_parents (from tensorflow.python.ops.linalg.linear_operator) is deprecated and will be removed in a future version.\n",
      "Instructions for updating:\n",
      "Do not call `graph_parents`.\n",
      "WARNING:tensorflow:From /Users/kevinmaikjablonka/opt/miniconda3/envs/pyprocessta/lib/python3.8/site-packages/tensorflow_probability/python/distributions/distribution.py:298: MultivariateNormalFullCovariance.__init__ (from tensorflow_probability.python.distributions.mvn_full_covariance) is deprecated and will be removed after 2019-12-01.\n",
      "Instructions for updating:\n",
      "`MultivariateNormalFullCovariance` is deprecated, use `MultivariateNormalTriL(loc=loc, scale_tril=tf.linalg.cholesky(covariance_matrix))` instead.\n"
     ]
    }
   ],
   "source": [
    "ci = CausalImpact(df, [df.index[0], s1],\n",
    "                  [s2, s3])"
   ]
  },
  {
   "cell_type": "code",
   "execution_count": 55,
   "id": "weekly-therapy",
   "metadata": {},
   "outputs": [
    {
     "data": {
      "image/png": "[encoded data removed]",
      "text/plain": [
       "<Figure size 720x504 with 3 Axes>"
      ]
     },
     "metadata": {
      "needs_background": "light"
     },
     "output_type": "display_data"
    }
   ],
   "source": [
    "ci.plot()"
   ]
  },
  {
   "cell_type": "code",
   "execution_count": null,
   "id": "embedded-concrete",
   "metadata": {},
   "outputs": [],
   "source": []
  }
 ],
 "metadata": {
  "kernelspec": {
   "display_name": "Python 3",
   "language": "python",
   "name": "python3"
  },
  "language_info": {
   "codemirror_mode": {
    "name": "ipython",
    "version": 3
   },
   "file_extension": ".py",
   "mimetype": "text/x-python",
   "name": "python",
   "nbconvert_exporter": "python",
   "pygments_lexer": "ipython3",
   "version": "3.8.8"
  }
 },
 "nbformat": 4,
 "nbformat_minor": 5
}
