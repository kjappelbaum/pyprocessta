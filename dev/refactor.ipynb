{
 "cells": [
  {
   "cell_type": "code",
   "execution_count": 66,
   "metadata": {},
   "outputs": [],
   "source": [
    "MEAS_COLUMNS = [\n",
    "    \"TI-19\",\n",
    "#      \"FI-16\",\n",
    "#     \"TI-33\",\n",
    "#     \"FI-2\",\n",
    "#     \"FI-151\",\n",
    "#     \"TI-8\",\n",
    "#     \"FI-241\",\n",
    "#  \"valve-position-12\",  # dry-bed\n",
    "#     \"FI-38\",  # strippera\n",
    "#     \"PI-28\",  # stripper\n",
    "    \n",
    "#     \"TI-28\",  # stripper\n",
    "#      \"FI-20\",\n",
    "#     \"FI-30\",\n",
    "    \"TI-3\",\n",
    "    \"FI-19\",\n",
    "#     \"FI-211\",\n",
    "    \"FI-11\",\n",
    "#     \"TI-30\",\n",
    "#     \"PI-30\",\n",
    "    \"TI-1213\",\n",
    "#     \"TI-4\",\n",
    "#    \"FI-23\",\n",
    "#    \"FI-20\",\n",
    "#   \"FI-20/FI-23\",\n",
    "#    \"TI-22\",\n",
    "#    \"delta_t\",\n",
    "    \"TI-35\",\n",
    "#     \"delta_t_2\"\n",
    "]\n",
    "\n",
    "TARGETS_clean = ['2-Amino-2-methylpropanol C4H11NO', 'Piperazine C4H10N2']"
   ]
  },
  {
   "cell_type": "code",
   "execution_count": 67,
   "metadata": {},
   "outputs": [],
   "source": [
    "def transform_data(train_tuple: tuple, test_tuples: List[tuple]):\n",
    "    \"\"\"Scale data using minmax scaling\n",
    "\n",
    "    Args:\n",
    "        train_tuple (tuple): tuple of darts time series for training\n",
    "        test_tuples (List[tuple]): tuples (x,y) of darts time series for testing\n",
    "\n",
    "    Returns:\n",
    "        tuple: tuple of time series for training, test tuples and transformers\n",
    "    \"\"\"\n",
    "    x_train, y_train = train_tuple\n",
    "\n",
    "    transformer = Scaler()\n",
    "\n",
    "    x_train = transformer.fit_transform(x_train)\n",
    "\n",
    "    y_transformer = Scaler(name=\"YScaler\")\n",
    "    y_train = y_transformer.fit_transform(y_train)\n",
    "\n",
    "    transformed_test_tuples = []\n",
    "    for x_test, y_test in test_tuples:\n",
    "        print(x_test.pd_dataframe().shape, y_test.pd_dataframe().shape)\n",
    "        x_test = transformer.transform(x_test)\n",
    "        y_test = y_transformer.transform(y_test)\n",
    "        transformed_test_tuples.append((x_test, y_test))\n",
    "\n",
    "    return (x_train, y_train), transformed_test_tuples, (transformer, y_transformer)"
   ]
  },
  {
   "cell_type": "code",
   "execution_count": 80,
   "metadata": {},
   "outputs": [],
   "source": [
    "from functools import partial\n",
    "from typing import List, Optional, Sequence\n",
    "\n",
    "import numpy as np\n",
    "import pandas as pd\n",
    "import torch\n",
    "from darts import TimeSeries\n",
    "from darts.dataprocessing.transformers import Scaler\n",
    "from darts.logging import raise_if_not\n",
    "from darts.models import TCNModel\n",
    "from darts.utils import _build_tqdm_iterator\n",
    "\n",
    "from joblib import Parallel, delayed\n",
    "from torch.utils.data import DataLoader\n",
    "\n",
    "from darts.metrics import mape, mae"
   ]
  },
  {
   "cell_type": "code",
   "execution_count": 69,
   "metadata": {},
   "outputs": [],
   "source": [
    "df = pd.read_pickle('../paper/20210624_df_cleaned.pkl')"
   ]
  },
  {
   "cell_type": "code",
   "execution_count": 70,
   "metadata": {},
   "outputs": [],
   "source": [
    "y = TimeSeries.from_dataframe(df, value_cols=TARGETS_clean)\n",
    "x = TimeSeries.from_dataframe(df, value_cols=MEAS_COLUMNS)"
   ]
  },
  {
   "cell_type": "code",
   "execution_count": 71,
   "metadata": {},
   "outputs": [],
   "source": [
    "transformer = Scaler()\n",
    "x = transformer.fit_transform(x)\n",
    "\n",
    "y_transformer = Scaler()\n",
    "y = y_transformer.fit_transform(y)"
   ]
  },
  {
   "cell_type": "code",
   "execution_count": 72,
   "metadata": {},
   "outputs": [],
   "source": [
    "def choose_index(series, fraction): \n",
    "    timestamps = series.time_index\n",
    "    fraction_index = int(len(timestamps) * fraction)\n",
    "    \n",
    "    return timestamps[fraction_index]\n",
    "\n",
    "def split_data(x, y, fraction_train, fraction_test=0.5):\n",
    "    ts = choose_index(x, fraction_train)\n",
    "    x_before, x_after = x.split_before(ts)\n",
    "    y_before, y_after = y.split_before(ts)\n",
    "\n",
    "    ts_2 = choose_index(x_after, fraction_test)\n",
    "\n",
    "    x_valid, x_test = x_after.split_before(ts_2)\n",
    "    y_valid, y_test = y_after.split_before(ts_2)\n",
    "    \n",
    "    return (x_before, y_before[TARGETS_clean]), (x_valid, y_valid[TARGETS_clean]), (x_test, y_test[TARGETS_clean])"
   ]
  },
  {
   "cell_type": "code",
   "execution_count": 73,
   "metadata": {},
   "outputs": [],
   "source": [
    "train, valid, test  = split_data(x, y, 0.5)"
   ]
  },
  {
   "cell_type": "code",
   "execution_count": 74,
   "metadata": {},
   "outputs": [],
   "source": [
    "model_cov = TCNModel(\n",
    "    input_chunk_length=60,\n",
    "    output_chunk_length=30,\n",
    "    num_layers=8,\n",
    "    num_filters=32,\n",
    "    kernel_size=4,\n",
    "    dropout=0.3,\n",
    "    weight_norm=True,\n",
    "    batch_size=32,\n",
    "    n_epochs=300,\n",
    "    log_tensorboard=True,\n",
    "    optimizer_kwargs={\"lr\": 1e-5},\n",
    ")"
   ]
  },
  {
   "cell_type": "code",
   "execution_count": 75,
   "metadata": {},
   "outputs": [
    {
     "name": "stderr",
     "output_type": "stream",
     "text": [
      "[2022-01-10 15:33:39,297] INFO | darts.models.forecasting.torch_forecasting_model | Train dataset contains 2615 samples.\n",
      "[2022-01-10 15:33:39,297] INFO | darts.models.forecasting.torch_forecasting_model | Train dataset contains 2615 samples.\n",
      "[2022-01-10 15:33:39,301] INFO | darts.models.forecasting.torch_forecasting_model | Time series values are 64-bits; casting model to float64.\n",
      "[2022-01-10 15:33:39,301] INFO | darts.models.forecasting.torch_forecasting_model | Time series values are 64-bits; casting model to float64.\n"
     ]
    }
   ],
   "source": [
    "model_cov.fit(series=train[1], past_covariates=train[0], verbose=False)"
   ]
  },
  {
   "cell_type": "code",
   "execution_count": 78,
   "metadata": {},
   "outputs": [],
   "source": [
    "backtest = model_cov.historical_forecasts(\n",
    "    valid[1],\n",
    "    past_covariates=valid[0],\n",
    "    start=0.1,\n",
    "    forecast_horizon=30,\n",
    "    stride=1,\n",
    "    retrain=False,\n",
    "    verbose=False,\n",
    ")"
   ]
  },
  {
   "cell_type": "code",
   "execution_count": 79,
   "metadata": {},
   "outputs": [
    {
     "data": {
      "image/png": "[encoded data removed]",
      "text/plain": [
       "<Figure size 432x288 with 1 Axes>"
      ]
     },
     "metadata": {
      "needs_background": "light"
     },
     "output_type": "display_data"
    }
   ],
   "source": [
    "\n",
    "y[TARGETS_clean[0]].plot()\n",
    "backtest['0'].plot()"
   ]
  },
  {
   "cell_type": "code",
   "execution_count": 84,
   "metadata": {},
   "outputs": [
    {
     "data": {
      "text/plain": [
       "13.667006732593881"
      ]
     },
     "execution_count": 84,
     "metadata": {},
     "output_type": "execute_result"
    }
   ],
   "source": [
    "mape(y[TARGETS_clean[0]], backtest['0'])"
   ]
  },
  {
   "cell_type": "code",
   "execution_count": 85,
   "metadata": {},
   "outputs": [
    {
     "data": {
      "text/plain": [
       "0.038825308953792693"
      ]
     },
     "execution_count": 85,
     "metadata": {},
     "output_type": "execute_result"
    }
   ],
   "source": [
    "mae(y[TARGETS_clean[0]], backtest['0'])"
   ]
  },
  {
   "cell_type": "code",
   "execution_count": null,
   "metadata": {},
   "outputs": [],
   "source": []
  }
 ],
 "metadata": {
  "interpreter": {
   "hash": "2a1c990ffa3abc0bb36196766fb89ce7f0a5e7c2f880468c8dfba3840f98c785"
  },
  "kernelspec": {
   "display_name": "Python 3.8.11 64-bit ('pyprocessta': conda)",
   "language": "python",
   "name": "python3"
  },
  "language_info": {
   "codemirror_mode": {
    "name": "ipython",
    "version": 3
   },
   "file_extension": ".py",
   "mimetype": "text/x-python",
   "name": "python",
   "nbconvert_exporter": "python",
   "pygments_lexer": "ipython3",
   "version": "3.8.11"
  },
  "orig_nbformat": 4
 },
 "nbformat": 4,
 "nbformat_minor": 2
}
